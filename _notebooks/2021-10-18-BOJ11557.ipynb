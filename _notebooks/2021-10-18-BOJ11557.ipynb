{
 "cells": [
  {
   "cell_type": "markdown",
   "source": [
    "# 파이썬 예제4) Yangjojang of the year\n",
    "> [BOJ11557](https://www.acmicpc.net/problem/11557)\n",
    "\n",
    "- toc: false\n",
    "- badges: false\n",
    "- comments: true\n",
    "- author: Jay Sung\n",
    "- categories: [ ___  A. ENGINEERING __________ > PYTHON 문제풀이]"
   ],
   "metadata": {}
  },
  {
   "cell_type": "markdown",
   "source": [
    "- - -\n",
    "### 문제\n",
    "입학 OT때 누구보다도 남다르게 놀았던 당신은 자연스럽게 1학년 과대를 역임하게 되었다.\n",
    "\n",
    "타교와의 조인트 엠티를 기획하려는 당신은 근처에 있는 학교 중 어느 학교가 술을 가장 많이 먹는지 궁금해졌다.\n",
    "\n",
    "학교별로 한 해동안 술 소비량이 주어질 때, 가장 술 소비가 많은 학교 이름을 출력하여라.\n",
    "\n",
    "### 입력\n",
    "입력의 첫 줄에는 테스트 케이스의 숫자 T가 주어진다.\n",
    "\n",
    "매 입력의 첫 줄에는 학교의 숫자 정수 N(1 ≤ N ≤ 100)이 주어진다.\n",
    "\n",
    "이어서 N줄에 걸쳐 학교 이름 S(1 ≤ |S| ≤ 20, S는 공백없는 대소문자 알파벳 문자열)와 해당 학교가 지난 한 해동안 소비한 술의 양 L(0 ≤ L ≤ 10,000,000)이 공백으로 구분되어 정수로 주어진다.\n",
    "\n",
    "같은 테스트 케이스 안에서 소비한 술의 양이 같은 학교는 없다고 가정한다.\n",
    "\n",
    "### 출력\n",
    "각 테스트 케이스마다 한 줄에 걸쳐 술 소비가 가장 많은 학교의 이름을 출력한다.\n",
    "\n",
    "#### 예제 입력 1 \n",
    "\n",
    "2\n",
    "\n",
    "3\n",
    "\n",
    "Yonsei 10\n",
    "\n",
    "Korea 10000000\n",
    "\n",
    "Ewha 20\n",
    "\n",
    "2\n",
    "\n",
    "Yonsei 1\n",
    "\n",
    "Korea 10000000\n",
    "\n",
    "#### 예제 출력 1 \n",
    "\n",
    "Korea\n",
    "\n",
    "Korea\n"
   ],
   "metadata": {}
  },
  {
   "cell_type": "code",
   "execution_count": 2,
   "source": [
    "\n",
    "# 첫번째 시도 -> OK\n",
    "T = int(input())\n",
    "\n",
    "for i in range(T):\n",
    "\tdic = {}\n",
    "\tN = int(input())\n",
    "\tfor num in range(N):\n",
    "\t\tS, L = input().split()\n",
    "\t\tdic[S] = int(L)\n",
    "\tprint(max(dic, key=dic.get))\n",
    "\n"
   ],
   "outputs": [
    {
     "output_type": "stream",
     "name": "stdout",
     "text": [
      "Korea\n",
      "Korea\n"
     ]
    }
   ],
   "metadata": {}
  }
 ],
 "metadata": {
  "orig_nbformat": 4,
  "language_info": {
   "name": "python",
   "version": "3.7.3",
   "mimetype": "text/x-python",
   "codemirror_mode": {
    "name": "ipython",
    "version": 3
   },
   "pygments_lexer": "ipython3",
   "nbconvert_exporter": "python",
   "file_extension": ".py"
  },
  "kernelspec": {
   "name": "python3",
   "display_name": "Python 3.7.3 64-bit ('anaconda3': conda)"
  },
  "interpreter": {
   "hash": "50784419fe898108f44419d7095efdb0a1ba7abb2a978f5ac080977cb6168522"
  }
 },
 "nbformat": 4,
 "nbformat_minor": 2
}