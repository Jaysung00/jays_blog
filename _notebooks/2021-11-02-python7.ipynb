{
 "cells": [
  {
   "cell_type": "markdown",
   "source": [
    "# 파이썬 예제7) 신규 아이디 추천\n",
    "> [Programmers > 2021 KAKAO BLIND RECRUITMENT > 신규 아이디 추천](https://programmers.co.kr/learn/courses/30/lessons/72410)\n",
    "\n",
    "- toc: false\n",
    "- badges: false\n",
    "- comments: true\n",
    "- author: Jay Sung\n",
    "- categories: [python]"
   ],
   "metadata": {}
  },
  {
   "cell_type": "markdown",
   "source": [
    "- - -\n"
   ],
   "metadata": {}
  },
  {
   "cell_type": "markdown",
   "source": [
    "> ## * 정규표현식으로 특정 문자열을 찾은 뒤 다른 문자열로 바꾸는 방법\n",
    "> import re\n",
    "\n",
    "> re.sub('패턴', '바꿀문자열', '문자열', 바꿀횟수)"
   ],
   "metadata": {}
  },
  {
   "cell_type": "code",
   "execution_count": 42,
   "source": [
    "\n",
    "# 첫번째 시도 => OK\n",
    "\n",
    "import re\n",
    "\n",
    "new_id = \"....!@BaT#*..y.abcdefg-..hi..ijk__lm...\"\n",
    "\n",
    "def solution(new_id):\n",
    "\n",
    "\t# 1단계 new_id의 모든 대문자를 대응되는 소문자로 치환\n",
    "\tanswer = new_id.lower()\n",
    "\n",
    "\t# 2단계 new_id에서 알파벳 소문자, 숫자, 빼기(-), 밑줄(_), 마침표(.)를 제외한 모든 문자를 제거\n",
    "\tanswer = re.sub('[^a-z0-9-_.]', '', answer)\n",
    "\n",
    "\t# 3단계 new_id에서 마침표(.)가 2번 이상 연속된 부분을 하나의 마침표(.)로 치환\n",
    "\tanswer = re.sub('(([.])\\\\2{1,})', '.', answer)\n",
    "\n",
    "\t# 4단계 new_id에서 마침표(.)가 처음이나 끝에 위치한다면 제거 [빈 문자열일 때 인덱스 예외처리]\n",
    "\tif (len(answer) > 0) and (answer[0] == '.'):\n",
    "\t\tanswer = answer[1:]\n",
    "\tif (len(answer) > 0) and (answer[-1] == '.'):\n",
    "\t\tanswer = answer[:-1]\n",
    "\n",
    "\t# 5단계 new_id가 빈 문자열이라면, new_id에 \"a\"를 대입\n",
    "\tif answer == '':\n",
    "\t\tanswer = 'a'\n",
    "\t\n",
    "\t# 6단계 new_id의 길이가 16자 이상이면, new_id의 첫 15개의 문자를 제외한 나머지 문자들을 모두 제거\n",
    "\tif len(answer) >= 16:\n",
    "\t\tanswer = answer[:15]\n",
    "\tif (len(answer) > 0) and (answer[-1] == '.'):\n",
    "\t\tanswer = answer[:-1]\n",
    "\n",
    "\t# 7단계 new_id의 길이가 2자 이하라면, new_id의 마지막 문자를 new_id의 길이가 3이 될 때까지 반복해서 끝에 붙임\n",
    "\tif len(answer) <= 2:\n",
    "\t\twhile len(answer) != 3:\n",
    "\t\t\tanswer = answer + answer[-1]\n",
    "\n",
    "\treturn answer\n",
    "\n",
    "print(solution(new_id))"
   ],
   "outputs": [
    {
     "output_type": "stream",
     "name": "stdout",
     "text": [
      "bat.y.abcdefg-\n"
     ]
    }
   ],
   "metadata": {}
  },
  {
   "cell_type": "code",
   "execution_count": 43,
   "source": [
    "\n",
    "# 정규식을 통한 풀이\n",
    "\n",
    "def solution(new_id):\n",
    "\tst = new_id\n",
    "\tst = st.lower()\n",
    "\tst = re.sub('[^a-z0-9\\-_.]', '', st)\n",
    "\tst = re.sub('\\.+', '.', st)  # + 는 한번이상 반복\n",
    "\tst = re.sub('^[.]|[.]$', '', st)  # ^문자 | 문자$ 는 각각 맨 앞문자와 맨 뒤문자를 의미한다.\n",
    "\tst = 'a' if len(st) == 0 else st[:15]\n",
    "\tst = re.sub('^[.]|[.]$', '', st)\n",
    "\tst = st if len(st) > 2 else st + \"\".join([st[-1] for i in range(3-len(st))])\n",
    "\t# list comprehension으로 리스트 생성한 후 join으로 구분자가 공백인 상태로 리스트를 합쳐 문자열로 만들고 + 로 문자열끼리 합쳐줬다\n",
    "\treturn st\n",
    "\n",
    "print(solution(new_id))"
   ],
   "outputs": [
    {
     "output_type": "stream",
     "name": "stdout",
     "text": [
      "bat.y.abcdefg-\n"
     ]
    }
   ],
   "metadata": {}
  },
  {
   "cell_type": "code",
   "execution_count": 45,
   "source": [
    "\n",
    "# 단계 3에 대한 다른 풀이법 생각\n",
    "\n",
    "st2 = \"...ab..c.\"\n",
    "while '..' in st2:\n",
    "\tst2 = st2.replace('..', '.')\n",
    "\t\n",
    "print(st2)\n",
    "\n",
    "# answer 문자열에서 '..' 두개짜리 문자열을 in 으로 찾아서 존재한다면 계속해서 '..'를 '.'로 치환한다.\n",
    "# 비효율적인 움직임 일수 있지만 이해해둘 필요 있음"
   ],
   "outputs": [
    {
     "output_type": "stream",
     "name": "stdout",
     "text": [
      ".ab.c.\n"
     ]
    }
   ],
   "metadata": {}
  }
 ],
 "metadata": {
  "orig_nbformat": 4,
  "language_info": {
   "name": "python",
   "version": "3.7.3",
   "mimetype": "text/x-python",
   "codemirror_mode": {
    "name": "ipython",
    "version": 3
   },
   "pygments_lexer": "ipython3",
   "nbconvert_exporter": "python",
   "file_extension": ".py"
  },
  "kernelspec": {
   "name": "python3",
   "display_name": "Python 3.7.3 64-bit ('anaconda3': conda)"
  },
  "interpreter": {
   "hash": "50784419fe898108f44419d7095efdb0a1ba7abb2a978f5ac080977cb6168522"
  }
 },
 "nbformat": 4,
 "nbformat_minor": 2
}