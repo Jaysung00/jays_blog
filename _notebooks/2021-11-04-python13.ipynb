{
 "cells": [
  {
   "cell_type": "markdown",
   "source": [
    "# 파이썬 예제13) 메뉴 리뉴얼\n",
    "> [Programmers > 2021 KAKAO BLIND RECRUITMENT > 메뉴 리뉴얼](https://programmers.co.kr/learn/courses/30/lessons/72411)\n",
    "\n",
    "- toc: false\n",
    "- badges: false\n",
    "- comments: true\n",
    "- author: Jay Sung\n",
    "- categories: [ ___  **A. ENGINEERING** __________ > ___ a. PYTHON _________ >\b 1. 문제풀이]"
   ],
   "metadata": {}
  },
  {
   "cell_type": "markdown",
   "source": [
    "- - -\n"
   ],
   "metadata": {}
  },
  {
   "cell_type": "code",
   "execution_count": 50,
   "source": [
    "\n",
    "# 내 시도\n",
    "\n",
    "\n",
    "orders = [\"ABCFG\", \"AC\", \"CDE\", \"ACDE\", \"BCFG\", \"ACDEH\"]\n",
    "course = [2, 3, 4]\n",
    "\n",
    "from itertools import combinations\n",
    "from collections import defaultdict\n",
    "\n",
    "def solution(orders, course):\n",
    "\tanswer = []\n",
    "\tdic = defaultdict(int)\n",
    "\n",
    "\tfor n in course:\n",
    "\t\tfor order in orders:\n",
    "\t\t\tfor i in list(combinations(order, n)):\n",
    "\t\t\t\tdic[i] += 1  #모든 갯수를 구하지 않아도, 2이상이면 그만 구해도 될텐데....\n",
    "\n",
    "\t# for k in dic:\n",
    "\t# \tfor c in range(2, len(k)):\n",
    "\t# \t\tfor i in list(combinations(list(k), c)):\n",
    "\t# \t\t\tdic[i] = 0\n",
    "\tprint(dic)\n",
    "\n",
    "\n",
    "\tcourse_menu = list(filter(lambda x : dic[x] >= 2, dic))\n",
    "\n",
    "\tfor n in course:\n",
    "\t\tanswer += [menu for menu in course_menu if len(menu) == n]\n",
    "\t\n",
    "\tanswer.sort()\n",
    "\treturn answer\n",
    "\n",
    "print(solution(orders, course))"
   ],
   "outputs": [
    {
     "output_type": "stream",
     "name": "stdout",
     "text": [
      "defaultdict(<class 'int'>, {('A', 'B'): 1, ('A', 'C'): 4, ('A', 'F'): 1, ('A', 'G'): 1, ('B', 'C'): 2, ('B', 'F'): 2, ('B', 'G'): 2, ('C', 'F'): 2, ('C', 'G'): 2, ('F', 'G'): 2, ('C', 'D'): 3, ('C', 'E'): 3, ('D', 'E'): 3, ('A', 'D'): 2, ('A', 'E'): 2, ('A', 'H'): 1, ('C', 'H'): 1, ('D', 'H'): 1, ('E', 'H'): 1, ('A', 'B', 'C'): 1, ('A', 'B', 'F'): 1, ('A', 'B', 'G'): 1, ('A', 'C', 'F'): 1, ('A', 'C', 'G'): 1, ('A', 'F', 'G'): 1, ('B', 'C', 'F'): 2, ('B', 'C', 'G'): 2, ('B', 'F', 'G'): 2, ('C', 'F', 'G'): 2, ('C', 'D', 'E'): 3, ('A', 'C', 'D'): 2, ('A', 'C', 'E'): 2, ('A', 'D', 'E'): 2, ('A', 'C', 'H'): 1, ('A', 'D', 'H'): 1, ('A', 'E', 'H'): 1, ('C', 'D', 'H'): 1, ('C', 'E', 'H'): 1, ('D', 'E', 'H'): 1, ('A', 'B', 'C', 'F'): 1, ('A', 'B', 'C', 'G'): 1, ('A', 'B', 'F', 'G'): 1, ('A', 'C', 'F', 'G'): 1, ('B', 'C', 'F', 'G'): 2, ('A', 'C', 'D', 'E'): 2, ('A', 'C', 'D', 'H'): 1, ('A', 'C', 'E', 'H'): 1, ('A', 'D', 'E', 'H'): 1, ('C', 'D', 'E', 'H'): 1})\n",
      "[('A', 'C'), ('A', 'C', 'D'), ('A', 'C', 'D', 'E'), ('A', 'C', 'E'), ('A', 'D'), ('A', 'D', 'E'), ('A', 'E'), ('B', 'C'), ('B', 'C', 'F'), ('B', 'C', 'F', 'G'), ('B', 'C', 'G'), ('B', 'F'), ('B', 'F', 'G'), ('B', 'G'), ('C', 'D'), ('C', 'D', 'E'), ('C', 'E'), ('C', 'F'), ('C', 'F', 'G'), ('C', 'G'), ('D', 'E'), ('F', 'G')]\n"
     ]
    }
   ],
   "metadata": {}
  },
  {
   "cell_type": "code",
   "execution_count": 44,
   "source": [
    "for i in range(2,2):\n",
    "\tprint(i)"
   ],
   "outputs": [],
   "metadata": {}
  },
  {
   "cell_type": "code",
   "execution_count": 28,
   "source": [
    "\n",
    "# 다른사람 풀이\n",
    "\n",
    "# 평가 1 ; 기본적으로 같은 방법임. not(list)를 활용해서 빈 리스트 일 경우 0 (false)를 활용한 리턴값\n",
    "\n",
    "def solution(s):\n",
    "\tanswer = []\n",
    "\tfor i in s:\n",
    "\t\tif not(answer):\n",
    "\t\t\tanswer.append(i)\n",
    "\t\telse:\n",
    "\t\t\tif(answer[-1] == i):\n",
    "\t\t\t\tanswer.pop()\n",
    "\t\t\telse:\n",
    "\t\t\t\tanswer.append(i)\n",
    "\treturn not(answer)"
   ],
   "outputs": [],
   "metadata": {}
  }
 ],
 "metadata": {
  "orig_nbformat": 4,
  "language_info": {
   "name": "python",
   "version": "3.7.3",
   "mimetype": "text/x-python",
   "codemirror_mode": {
    "name": "ipython",
    "version": 3
   },
   "pygments_lexer": "ipython3",
   "nbconvert_exporter": "python",
   "file_extension": ".py"
  },
  "kernelspec": {
   "name": "python3",
   "display_name": "Python 3.7.3 64-bit ('anaconda3': conda)"
  },
  "interpreter": {
   "hash": "50784419fe898108f44419d7095efdb0a1ba7abb2a978f5ac080977cb6168522"
  }
 },
 "nbformat": 4,
 "nbformat_minor": 2
}