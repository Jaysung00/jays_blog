{
 "cells": [
  {
   "cell_type": "markdown",
   "metadata": {},
   "source": [
    "# 블로그의 방향성 (tentative)\n",
    "\n",
    "- toc: true\n",
    "- badges: false\n",
    "- comments: true\n",
    "- author: Jay Sung\n",
    "- categories: [ _ 블로그의 방향성]"
   ]
  },
  {
   "cell_type": "markdown",
   "metadata": {},
   "source": [
    "- - -\n",
    "- - -"
   ]
  },
  {
   "cell_type": "markdown",
   "metadata": {},
   "source": [
    "20220310\n",
    "\n",
    "Brady Neal 의 [**Introduction to Causal Inference**](https://www.bradyneal.com/causal-inference-course#course-textbook)를 완전히 이해하고 블로그 정리할 것이다. \n",
    "\n",
    "본 강의의 Text BooK은 Brady Neal의 저서인 [*Introduction to Causal Inference (ICI)*](https://www.bradyneal.com/Introduction_to_Causal_Inference-Dec17_2020-Neal.pdf) 이다.\n",
    "\n",
    "목차는 아래와 같다.\n",
    "\n",
    "<br/>\n",
    "\n",
    "\n",
    "| Week | Topics | Readings | Progress of the work |\n",
    "| - | - | - | - |\n",
    "| Week1 | Motivation<br>Course Preview<br>Course Information | Chapter 1 of ICI | None |\n",
    "| Week2 | Potential Outcomes<br>A Complete Example with Estimation | Chapter 2 of ICI | 20220310 ~ 진행중 |\n",
    "| Week3 | Graphical Models | Chapter 3 of ICI |  |\n",
    "| Week4 | Backdoor Adjustment<br>Structural Causal Models | Chapter 4 of ICI |  |\n",
    "| Week5 | Randomized Experiments<br>Frontdoor Adjustment<br>do-calculus<br>Graph-Based Identification | Chapters 5-6 of ICI |  |\n",
    "| Week6 | Estimation<br>Susan Athey Guest Talk -<br>Estimating Heterogeneous Treatment Effects<br>(Oct 8th at 3 - 4 pm EDT) | Chapter 7 of ICI |  |\n",
    "| Week7 | Unobserved Confounding,<br>Bounds, and<br>Sensitivity Analysis | Chapter 8 of ICI |  |\n",
    "| Week8 | Instrumental Variables | Chapter 9 of ICI |  |\n",
    "| Week9 | Difference-in-Differences<br>Alberto Abadie Guest Talk -<br>Synthetic Control<br>(Oct 29th at 10 - 11 am EDT) | Chapter 10 of ICI |  |\n",
    "| Week10 | --- Break Week - No Lecture --- | Past Readings |  |\n",
    "| Week11 | Causal Discovery from Observational Data<br>Jonas Peters Guest Talk<br>(November 13 at 10 am EST) | Chapter 11 of ICI |  |\n",
    "| Week12 | Causal Discovery from Interventions | Chapter 12 of ICI<br>(Coming soon) |  |\n",
    "| Week13 | Transfer Learning<br>Transportability | Chapter 13 of ICI<br>(Coming soon) |  |\n",
    "| Week14 | Yoshua Bengio Guest Talk -<br>Causal Representation Learning<br>(Dec 1st at 1 - 2:30 pm EST) | None |  |\n",
    "| Week15 | Counterfactuals<br>Mediation | Chapter 14 of ICI<br>(Coming soon) |  |"
   ]
  },
  {
   "cell_type": "markdown",
   "metadata": {},
   "source": [
    "- - -\n",
    "# "
   ]
  }
 ],
 "metadata": {
  "interpreter": {
   "hash": "50784419fe898108f44419d7095efdb0a1ba7abb2a978f5ac080977cb6168522"
  },
  "kernelspec": {
   "display_name": "Python 3.7.3 64-bit ('anaconda3': conda)",
   "name": "python3"
  },
  "language_info": {
   "codemirror_mode": {
    "name": "ipython",
    "version": 3
   },
   "file_extension": ".py",
   "mimetype": "text/x-python",
   "name": "python",
   "nbconvert_exporter": "python",
   "pygments_lexer": "ipython3",
   "version": "3.7.3"
  },
  "orig_nbformat": 4
 },
 "nbformat": 4,
 "nbformat_minor": 2
}
