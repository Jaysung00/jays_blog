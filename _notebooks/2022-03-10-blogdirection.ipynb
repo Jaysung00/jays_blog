{
 "cells": [
  {
   "cell_type": "markdown",
   "metadata": {},
   "source": [
    "# 공부할 개념\n",
    "\n",
    "- toc: true\n",
    "- badges: false\n",
    "- comments: true\n",
    "- author: Jay Sung\n",
    "- categories: [블로그의 방향성]"
   ]
  },
  {
   "cell_type": "markdown",
   "metadata": {},
   "source": [
    "- - -\n",
    "- - -"
   ]
  },
  {
   "cell_type": "markdown",
   "metadata": {},
   "source": [
    "20220310\n",
    "\n",
    "Brady Neal 의 [**Introduction to Causal Inference**](https://www.bradyneal.com/causal-inference-course#course-textbook)를 완전히 이해하고 블로그 정리할 것이다. \n",
    "\n",
    "\n",
    "| Week         | Topics                                                                                                            | Lecture                       | Readings                           | Reading Group Paper                                                                                                         | \n",
    "| ------------ | ----------------------------------------------------------------------------------------------------------------- | ----------------------------- | ---------------------------------- | --------------------------------------------------------------------------------------------------------------------------- | \n",
    "| August 31    | Motivation<br>Course Preview<br>Course Information                                                                | Video<br>Slides<br>Info       | Chapter 1 of ICI                   | None                                                                                                                        | \n",
    "| September 7  | Potential Outcomes<br>A Complete Example with Estimation                                                          | Video<br>Slides               | Chapter 2 of ICI                   | Does obesity shorten life? The importance of well-defined interventions to answer causal questions (Hernán & Taubman, 2008) | \n",
    "| September 14 | Graphical Models                                                                                                  | Video<br>Slides               | Chapter 3 of ICI                   | Does Obesity Shorten Life? Or is it the Soda? On Non-manipulable Causes (Pearl, 2018)                                       | \n",
    "| September 21 | Backdoor Adjustment<br>Structural Causal Models                                                                   | Video<br>Slides               | Chapter 4 of ICI                   | Single World Intervention Graphs: A Primer (Richardson & Robins, 2013)                                                      | \n",
    "| September 28 | Randomized Experiments<br>Frontdoor Adjustment<br>do-calculus<br>Graph-Based Identification                       | Video<br>Slides               | Chapters 5-6 of ICI                | On Pearl’s Hierarchy and the Foundations of Causal Inference (Bareinboim et al., 2020)                                     | \n",
    "| October 5    | Estimation<br>Susan Athey Guest Talk -<br>Estimating Heterogeneous Treatment Effects<br>(Oct 8th at 3 - 4 pm EDT) | Video<br>Slides<br>Guest Talk | Chapter 7 of ICI                   | Adapting Neural Networks for the Estimation of Treatment Effects (Shi, Blei, Veitch, 2019)                                  | \n",
    "| October 12   | Unobserved Confounding,<br>Bounds, and<br>Sensitivity Analysis                                                    | Video<br>Slides               | Chapter 8 of ICI                   | Sense and Sensitivity Analysis: Simple Post-Hoc Analysis of Bias Due to Unobserved Confounding (Veitch & Zaveri, 2020)      | \n",
    "| October 19   | Instrumental Variables                                                                                            | Video<br>Slides               | Chapter 9 of ICI                   | Deep IV: A Flexible Approach for Counterfactual Prediction (Hartford et al., 2017)                                          | \n",
    "| October 26   | Difference-in-Differences<br>Alberto Abadie Guest Talk -<br>Synthetic Control<br>(Oct 29th at 10 - 11 am EDT)     | Video<br>Slides<br>Guest Talk | Chapter 10 of ICI                  | Regression Discontinuity Designs in Economics (Lee & Lemieux, 2010)                                                         | \n",
    "| November 2   | --- Break Week - No Lecture ---                                                                                   | None                          | Past Readings                      | None                                                                                                                        | \n",
    "| November 9   | Causal Discovery from Observational Data<br>Jonas Peters Guest Talk<br>(November 13 at 10 am EST)                 | Video<br>Slides               | Chapter 11 of ICI                  | Inferring causation from time series in Earth system sciences (Runge et al., 2019)                                          | \n",
    "| November 16  | Causal Discovery from Interventions                                                                               | Video<br>Slides               | Chapter 12 of ICI<br>(Coming soon) | Permutation-based Causal Inference Algorithms with Interventions (Wang et al., 2017)                                        | \n",
    "| November 23  | Transfer Learning<br>Transportability                                                                             | Video<br>Slides               | Chapter 13 of ICI<br>(Coming soon) | A causal framework for distribution generalization (Christiansen et al., 2020)                                              | \n",
    "| November 30  | Yoshua Bengio Guest Talk -<br>Causal Representation Learning<br>(Dec 1st at 1 - 2:30 pm EST)                      | Guest Talk<br>Slides          | None                               | Invariant Risk Minimization (Arjovsky et al., 2019)                                                                         | \n",
    "| December 7   | Counterfactuals<br>Mediation                                                                                      | Video<br>Slides               | Chapter 14 of ICI<br>(Coming soon) | Identifiability of Path-Specific Effects (Avin, Shpitser, & Pearl, 2005)                                                    | "
   ]
  },
  {
   "cell_type": "markdown",
   "metadata": {},
   "source": [
    "- - -\n",
    "# "
   ]
  }
 ],
 "metadata": {
  "interpreter": {
   "hash": "50784419fe898108f44419d7095efdb0a1ba7abb2a978f5ac080977cb6168522"
  },
  "kernelspec": {
   "display_name": "Python 3.7.3 64-bit ('anaconda3': conda)",
   "name": "python3"
  },
  "language_info": {
   "codemirror_mode": {
    "name": "ipython",
    "version": 3
   },
   "file_extension": ".py",
   "mimetype": "text/x-python",
   "name": "python",
   "nbconvert_exporter": "python",
   "pygments_lexer": "ipython3",
   "version": "3.7.3"
  },
  "orig_nbformat": 4
 },
 "nbformat": 4,
 "nbformat_minor": 2
}
