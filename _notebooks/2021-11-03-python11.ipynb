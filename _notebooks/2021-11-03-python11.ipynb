{
 "cells": [
  {
   "cell_type": "markdown",
   "source": [
    "# 파이썬 예제11) 124 나라의 숫자\n",
    "> [Programmers > 연습문제 > 124 나라의 숫자](https://programmers.co.kr/learn/courses/30/lessons/12899#)\n",
    "\n",
    "- toc: false\n",
    "- badges: false\n",
    "- comments: true\n",
    "- author: Jay Sung\n",
    "- categories: [ ___  **A. ENGINEERING** __________ > ___ a. PYTHON _________ >\b 1. 문제풀이]"
   ],
   "metadata": {}
  },
  {
   "cell_type": "markdown",
   "source": [
    "- - -\n"
   ],
   "metadata": {}
  },
  {
   "cell_type": "code",
   "execution_count": 11,
   "source": [
    "\n",
    "# 내 풀이 -> OK\n",
    "\n",
    "n = 5\n",
    "\n",
    "def solution(n):\n",
    "\tanswer = ''\n",
    "\twhile n > 0:\n",
    "\t\tif n % 3 != 0:\n",
    "\t\t\tanswer = str(n % 3) + answer\n",
    "\t\t\tn = n // 3\n",
    "\t\telse:\n",
    "\t\t\tanswer = '4' + answer\n",
    "\t\t\tn = n // 3 - 1\n",
    "\treturn answer\n",
    "\n",
    "print(solution(n)) #Return 11"
   ],
   "outputs": [
    {
     "output_type": "stream",
     "name": "stdout",
     "text": [
      "12\n"
     ]
    }
   ],
   "metadata": {}
  },
  {
   "cell_type": "code",
   "execution_count": 31,
   "source": [
    "\n",
    "# 다른사람 풀이\n",
    "\n",
    "# 좋은 점 1 ; 리스트에서 인덱싱으로 처리했다.\n",
    "# 좋은 점 2 ; if문 사용하지 않고, 인덱싱과 자리값을 절묘하게 -1로 처리함\n",
    "\n",
    "def change124(n):\n",
    "\tnum = ['1','2','4']\n",
    "\tanswer = \"\"\n",
    "\n",
    "\n",
    "\twhile n > 0:\n",
    "\t\tn -= 1\n",
    "\t\tanswer = num[n % 3] + answer\n",
    "\t\tn //= 3\n",
    "\n",
    "\treturn answer"
   ],
   "outputs": [
    {
     "output_type": "stream",
     "name": "stdout",
     "text": [
      "80.0\n"
     ]
    }
   ],
   "metadata": {}
  }
 ],
 "metadata": {
  "orig_nbformat": 4,
  "language_info": {
   "name": "python",
   "version": "3.7.3",
   "mimetype": "text/x-python",
   "codemirror_mode": {
    "name": "ipython",
    "version": 3
   },
   "pygments_lexer": "ipython3",
   "nbconvert_exporter": "python",
   "file_extension": ".py"
  },
  "kernelspec": {
   "name": "python3",
   "display_name": "Python 3.7.3 64-bit ('anaconda3': conda)"
  },
  "interpreter": {
   "hash": "50784419fe898108f44419d7095efdb0a1ba7abb2a978f5ac080977cb6168522"
  }
 },
 "nbformat": 4,
 "nbformat_minor": 2
}