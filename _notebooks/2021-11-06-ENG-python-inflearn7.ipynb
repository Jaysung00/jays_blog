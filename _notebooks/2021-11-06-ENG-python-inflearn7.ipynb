{
 "cells": [
  {
   "cell_type": "markdown",
   "source": [
    "# Inflearn 파이썬 중급 - 파이썬 일급함수 - 기본특징 (1-1, 1-2)\n",
    "\n",
    "- toc: false\n",
    "- badges: false\n",
    "- comments: true\n",
    "- author: Jay Sung\n",
    "- categories: [ ___  A. ENGINEERING __________ > PYTHON 인프런 강의]\n",
    "\n"
   ],
   "metadata": {}
  },
  {
   "cell_type": "markdown",
   "source": [
    "- - -\n",
    "- - -\n",
    "## 일급함수란 무엇인가?\n",
    "\n",
    "- __일급 객체__ : 변수나 데이터에 할당 가능, 인자로 넘기기 가능, 리턴값으로 리턴하기 가능\n",
    "- __일급 함수__ : 함수가 다른 일급 객체와 동일하게 다루어 질때, 일급 함수라고 지칭한다"
   ],
   "metadata": {}
  },
  {
   "cell_type": "markdown",
   "source": [
    "- - -\n",
    "\n",
    "## 파이썬 함수 특징 (일급함수)\n",
    "\n",
    "1. 런타임 초기화\n",
    "2. 변수 할당 가능\n",
    "3. 함수 인수 전달 가능\n",
    "4. 함수 결과 반환가능 (return)"
   ],
   "metadata": {}
  },
  {
   "cell_type": "code",
   "execution_count": 12,
   "source": [
    "\n",
    "# 함수 객체\n",
    "\n",
    "def factorial(n):\n",
    "\t'''Factorial Function -> n : int'''\n",
    "\tif n == 1:\n",
    "\t\treturn 1\n",
    "\treturn n * factorial(n - 1)\n",
    "\n",
    "class A:\n",
    "\tpass\n",
    "\n",
    "print(factorial(5))\n",
    "print(factorial.__doc__)\n",
    "print(type(factorial), type(A))\n",
    "\n",
    "print()\n",
    "print(\"[class가 아닌 함수만 갖고있는 attribute 보기]\")\n",
    "print(set(sorted(dir(factorial))) - set(sorted(dir(A))))\n",
    "\n",
    "print()\n",
    "print(\"[몇가지 속성 출력해보기]\")\n",
    "print(factorial.__name__)\n",
    "print(factorial.__code__)"
   ],
   "outputs": [
    {
     "output_type": "stream",
     "name": "stdout",
     "text": [
      "120\n",
      "Factorial Function -> n : int\n",
      "<class 'function'> <class 'type'>\n",
      "\n",
      "[class가 아닌 함수만 갖고있는 attribute 보기]\n",
      "{'__call__', '__closure__', '__qualname__', '__get__', '__kwdefaults__', '__defaults__', '__name__', '__globals__', '__code__', '__annotations__'}\n",
      "\n",
      "[몇가지 속성 출력해보기]\n",
      "factorial\n",
      "<code object factorial at 0x10ecc9030, file \"<ipython-input-12-cbf0152f7196>\", line 4>\n"
     ]
    }
   ],
   "metadata": {}
  },
  {
   "cell_type": "code",
   "execution_count": 13,
   "source": [
    "\n",
    "# 변수 할당\n",
    "\n",
    "var_func = factorial\n",
    "\n",
    "print(var_func)\n",
    "print(var_func(10))\n",
    "print(list(map(var_func, range(1,11))))"
   ],
   "outputs": [
    {
     "output_type": "stream",
     "name": "stdout",
     "text": [
      "<function factorial at 0x10ebf01e0>\n",
      "3628800\n",
      "[1, 2, 6, 24, 120, 720, 5040, 40320, 362880, 3628800]\n"
     ]
    }
   ],
   "metadata": {}
  },
  {
   "cell_type": "code",
   "execution_count": 20,
   "source": [
    "\n",
    "# 함수 인수 전달 및 함수로 결과 반환 -> 고위 함수(Higher-order function)\n",
    "\n",
    "## map, filter 함수\n",
    "print([var_func(i) for i in range(1, 6) if i % 2]) # list comprehension 이용\n",
    "\n",
    "print(list(map(var_func, filter(lambda x: x % 2, range(1,6))))) # map , filter 함수 이용\n",
    "print()\n",
    "\n",
    "\n",
    "## reduce 함수\n",
    "from functools import reduce\n",
    "from operator import add\n",
    "\n",
    "print(sum(range(1,11))) #sum 함수 이용\n",
    "\n",
    "print(reduce(add, range(1,11))) #reduce 함수 이용 -> 하나씩 줄여가면서 함수 적용하는 함수"
   ],
   "outputs": [
    {
     "output_type": "stream",
     "name": "stdout",
     "text": [
      "[1, 6, 120]\n",
      "[1, 6, 120]\n",
      "\n",
      "55\n",
      "55\n"
     ]
    }
   ],
   "metadata": {}
  },
  {
   "cell_type": "markdown",
   "source": [
    "- - -\n",
    "\n",
    "## 익명함수(Lambda)\n",
    "\n",
    "- 가급적 주석 작성을 권장\n",
    "- 가급적 익명함수 보다는 일반함수를 작성을 권장\n",
    "- 일반함수 형태로 리팩토링을 권장\n"
   ],
   "metadata": {}
  },
  {
   "cell_type": "code",
   "execution_count": 22,
   "source": [
    "\n",
    "print(reduce(lambda x, t: x + t, range(1,11))) #add 부분을 익명함수로 작성"
   ],
   "outputs": [
    {
     "output_type": "stream",
     "name": "stdout",
     "text": [
      "55\n"
     ]
    }
   ],
   "metadata": {}
  },
  {
   "cell_type": "markdown",
   "source": [
    "- - -\n",
    "## Callable 설명\n",
    "\n",
    "- 호출 연산자 -> 메소드 형태로 호출을 가능하게 함"
   ],
   "metadata": {}
  },
  {
   "cell_type": "code",
   "execution_count": 31,
   "source": [
    "\n",
    "#callable() 함수를 통해 호출가능한지 검증\n",
    "print(callable(str), callable(list), callable(var_func), callable(factorial), callable(3.14))\n",
    "\n",
    "a = A()\n",
    "\n",
    "print(callable(A))\n",
    "print(callable(a))"
   ],
   "outputs": [
    {
     "output_type": "stream",
     "name": "stdout",
     "text": [
      "True True True True False\n",
      "True\n",
      "False\n"
     ]
    }
   ],
   "metadata": {}
  },
  {
   "cell_type": "markdown",
   "source": [
    "- - -\n",
    "## Partial 사용법\n",
    "\n",
    "- 인수 고정 -> 콜백 함수 사용"
   ],
   "metadata": {}
  },
  {
   "cell_type": "code",
   "execution_count": 42,
   "source": [
    "\n",
    "from operator import mul\n",
    "from functools import partial\n",
    "\n",
    "print(mul(10,10)) #곱하기\n",
    "\n",
    "## 여기서 한쪽은 고정하고 싶을 때\n",
    "\n",
    "# 한쪽 고정\n",
    "five = partial(mul, 5) #두개를 인자로 받는 mul함수의 하나의 인자는 5로 고정해 있는 함수가 된다\n",
    "\n",
    "print(\"(5 * arg)   five(10) = \", five(10))\n",
    "\n",
    "# 고정 추가\n",
    "five_mul_six = partial(five, 6)\n",
    "\n",
    "print(\"(5 * 6)     six() = \", five_mul_six())"
   ],
   "outputs": [
    {
     "output_type": "stream",
     "name": "stdout",
     "text": [
      "100\n",
      "(5 * arg)   five(10) =  50\n",
      "(5 * 6)     six() =  30\n"
     ]
    }
   ],
   "metadata": {}
  }
 ],
 "metadata": {
  "orig_nbformat": 4,
  "language_info": {
   "name": "python",
   "version": "3.7.3",
   "mimetype": "text/x-python",
   "codemirror_mode": {
    "name": "ipython",
    "version": 3
   },
   "pygments_lexer": "ipython3",
   "nbconvert_exporter": "python",
   "file_extension": ".py"
  },
  "kernelspec": {
   "name": "python3",
   "display_name": "Python 3.7.3 64-bit ('anaconda3': conda)"
  },
  "interpreter": {
   "hash": "50784419fe898108f44419d7095efdb0a1ba7abb2a978f5ac080977cb6168522"
  }
 },
 "nbformat": 4,
 "nbformat_minor": 2
}