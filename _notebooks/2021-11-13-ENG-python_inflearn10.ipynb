{
 "cells": [
  {
   "cell_type": "markdown",
   "source": [
    "# Inflearn 파이썬 중급 - 파이썬 병행성 - 기본 (1-1, 1-2)\n",
    "\n",
    "- toc: false\n",
    "- badges: false\n",
    "- comments: true\n",
    "- author: Jay Sung\n",
    "- categories: [ ___  A. ENGINEERING __________ > PYTHON 인프런 강의]\n",
    "\n"
   ],
   "metadata": {}
  },
  {
   "cell_type": "markdown",
   "source": [
    "- - -\n",
    "# 병행성 (Concurrency)\n",
    "\n",
    "- 이터레이터 (Iterator)\n",
    "- 제네레이터 (Generator)\n"
   ],
   "metadata": {}
  },
  {
   "cell_type": "markdown",
   "source": [
    "### 파이썬 반복 가능한 타입 (iterable)\n",
    "- collections\n",
    "- text file\n",
    "- Dict\n",
    "- Set\n",
    "- Tuple\n",
    "- unpacking\n",
    "- *args\n",
    "- etc."
   ],
   "metadata": {}
  },
  {
   "cell_type": "code",
   "execution_count": 8,
   "source": [
    "\n",
    "# 반복 가능한 이유? => 내부적으로 iter(x) 함수 호출하고 있기 떄문!!\n",
    "t = 'ABCDEFGHIJKLMNOPURSTQVWXYZ'\n",
    "\n",
    "for c in t:\n",
    "\tprint(c, end=' ')\n",
    "\n",
    "# while\n",
    "w = iter(t)\n",
    "\n",
    "print('\\n- - - - - - - -')\n",
    "print(next(w))\n",
    "print(next(w))\n",
    "print(next(w))"
   ],
   "outputs": [
    {
     "output_type": "stream",
     "name": "stdout",
     "text": [
      "A B C D E F G H I J K L M N O P U R S T Q V W X Y Z \n",
      "- - - - - - - -\n",
      "A\n",
      "B\n",
      "C\n"
     ]
    }
   ],
   "metadata": {}
  },
  {
   "cell_type": "code",
   "execution_count": 11,
   "source": [
    "\n",
    "# 내부적인 반복의 원리\n",
    "w = iter(t)\n",
    "\n",
    "while True:\n",
    "\ttry:\n",
    "\t\tprint(next(w), end=' ')\n",
    "\texcept StopIteration:\n",
    "\t\tbreak"
   ],
   "outputs": [
    {
     "output_type": "stream",
     "name": "stdout",
     "text": [
      "A B C D E F G H I J K L M N O P U R S T Q V W X Y Z "
     ]
    }
   ],
   "metadata": {}
  },
  {
   "cell_type": "code",
   "execution_count": 14,
   "source": [
    "\n",
    "# 반복가능한 객체인지 확인하는 방법\n",
    "\n",
    "## 1.\n",
    "print('__iter__' in dir(t))    # in 함수 이용\n",
    "\n",
    "## 2.\n",
    "print(hasattr(t, '__iter__'))  # hasattr 함수 이용\n",
    "\n",
    "## 3.\n",
    "from collections import abc\n",
    "print(isinstance(t, abc.Iterable))\n",
    "\n"
   ],
   "outputs": [
    {
     "output_type": "stream",
     "name": "stdout",
     "text": [
      "True\n",
      "True\n",
      "True\n"
     ]
    }
   ],
   "metadata": {}
  },
  {
   "cell_type": "code",
   "execution_count": 22,
   "source": [
    "\n",
    "# iterator 패턴 구현\n",
    "class WordSplitter:\n",
    "\tdef __init__(self, text):\n",
    "\t\tself._idx = 0\n",
    "\t\tself._text = text.split(' ')\n",
    "\n",
    "\tdef __next__(self):\n",
    "\t\tprint('Called __next__')\n",
    "\t\ttry:\n",
    "\t\t\tword = self._text[self._idx]\n",
    "\t\texcept IndexError:\n",
    "\t\t\traise StopIteration('Stopped Iteration. ^-^')\n",
    "\t\tself._idx += 1\n",
    "\t\treturn word\n",
    "\n",
    "\tdef __repr__(self):\n",
    "\t\treturn 'WordSplit(%s)' % (self._text)\n",
    "\n",
    "wi = WordSplitter('Do today what you could do tommorrow')\n",
    "\n",
    "print(wi)\n",
    "print(next(wi))\n",
    "print(next(wi))\n",
    "print(next(wi))\n",
    "print(next(wi))\n",
    "print(next(wi))\n",
    "print(next(wi))\n",
    "print(next(wi))\n",
    "print(next(wi))"
   ],
   "outputs": [
    {
     "output_type": "stream",
     "name": "stdout",
     "text": [
      "WordSplit(['Do', 'today', 'what', 'you', 'could', 'do', 'tommorrow'])\n",
      "Called __next__\n",
      "Do\n",
      "Called __next__\n",
      "today\n",
      "Called __next__\n",
      "what\n",
      "Called __next__\n",
      "you\n",
      "Called __next__\n",
      "could\n",
      "Called __next__\n",
      "do\n",
      "Called __next__\n",
      "tommorrow\n",
      "Called __next__\n"
     ]
    },
    {
     "output_type": "error",
     "ename": "StopIteration",
     "evalue": "Stopped Iteration. ^-^",
     "traceback": [
      "\u001b[0;31m---------------------------------------------------------------------------\u001b[0m",
      "\u001b[0;31mIndexError\u001b[0m                                Traceback (most recent call last)",
      "\u001b[0;32m<ipython-input-22-df659a0bd55a>\u001b[0m in \u001b[0;36m__next__\u001b[0;34m(self)\u001b[0m\n\u001b[1;32m     10\u001b[0m                 \u001b[0;32mtry\u001b[0m\u001b[0;34m:\u001b[0m\u001b[0;34m\u001b[0m\u001b[0;34m\u001b[0m\u001b[0m\n\u001b[0;32m---> 11\u001b[0;31m                         \u001b[0mword\u001b[0m \u001b[0;34m=\u001b[0m \u001b[0mself\u001b[0m\u001b[0;34m.\u001b[0m\u001b[0m_text\u001b[0m\u001b[0;34m[\u001b[0m\u001b[0mself\u001b[0m\u001b[0;34m.\u001b[0m\u001b[0m_idx\u001b[0m\u001b[0;34m]\u001b[0m\u001b[0;34m\u001b[0m\u001b[0;34m\u001b[0m\u001b[0m\n\u001b[0m\u001b[1;32m     12\u001b[0m                 \u001b[0;32mexcept\u001b[0m \u001b[0mIndexError\u001b[0m\u001b[0;34m:\u001b[0m\u001b[0;34m\u001b[0m\u001b[0;34m\u001b[0m\u001b[0m\n",
      "\u001b[0;31mIndexError\u001b[0m: list index out of range",
      "\nDuring handling of the above exception, another exception occurred:\n",
      "\u001b[0;31mStopIteration\u001b[0m                             Traceback (most recent call last)",
      "\u001b[0;32m<ipython-input-22-df659a0bd55a>\u001b[0m in \u001b[0;36m<module>\u001b[0;34m\u001b[0m\n\u001b[1;32m     28\u001b[0m \u001b[0mprint\u001b[0m\u001b[0;34m(\u001b[0m\u001b[0mnext\u001b[0m\u001b[0;34m(\u001b[0m\u001b[0mwi\u001b[0m\u001b[0;34m)\u001b[0m\u001b[0;34m)\u001b[0m\u001b[0;34m\u001b[0m\u001b[0;34m\u001b[0m\u001b[0m\n\u001b[1;32m     29\u001b[0m \u001b[0mprint\u001b[0m\u001b[0;34m(\u001b[0m\u001b[0mnext\u001b[0m\u001b[0;34m(\u001b[0m\u001b[0mwi\u001b[0m\u001b[0;34m)\u001b[0m\u001b[0;34m)\u001b[0m\u001b[0;34m\u001b[0m\u001b[0;34m\u001b[0m\u001b[0m\n\u001b[0;32m---> 30\u001b[0;31m \u001b[0mprint\u001b[0m\u001b[0;34m(\u001b[0m\u001b[0mnext\u001b[0m\u001b[0;34m(\u001b[0m\u001b[0mwi\u001b[0m\u001b[0;34m)\u001b[0m\u001b[0;34m)\u001b[0m\u001b[0;34m\u001b[0m\u001b[0;34m\u001b[0m\u001b[0m\n\u001b[0m",
      "\u001b[0;32m<ipython-input-22-df659a0bd55a>\u001b[0m in \u001b[0;36m__next__\u001b[0;34m(self)\u001b[0m\n\u001b[1;32m     11\u001b[0m                         \u001b[0mword\u001b[0m \u001b[0;34m=\u001b[0m \u001b[0mself\u001b[0m\u001b[0;34m.\u001b[0m\u001b[0m_text\u001b[0m\u001b[0;34m[\u001b[0m\u001b[0mself\u001b[0m\u001b[0;34m.\u001b[0m\u001b[0m_idx\u001b[0m\u001b[0;34m]\u001b[0m\u001b[0;34m\u001b[0m\u001b[0;34m\u001b[0m\u001b[0m\n\u001b[1;32m     12\u001b[0m                 \u001b[0;32mexcept\u001b[0m \u001b[0mIndexError\u001b[0m\u001b[0;34m:\u001b[0m\u001b[0;34m\u001b[0m\u001b[0;34m\u001b[0m\u001b[0m\n\u001b[0;32m---> 13\u001b[0;31m                         \u001b[0;32mraise\u001b[0m \u001b[0mStopIteration\u001b[0m\u001b[0;34m(\u001b[0m\u001b[0;34m'Stopped Iteration. ^-^'\u001b[0m\u001b[0;34m)\u001b[0m\u001b[0;34m\u001b[0m\u001b[0;34m\u001b[0m\u001b[0m\n\u001b[0m\u001b[1;32m     14\u001b[0m                 \u001b[0mself\u001b[0m\u001b[0;34m.\u001b[0m\u001b[0m_idx\u001b[0m \u001b[0;34m+=\u001b[0m \u001b[0;36m1\u001b[0m\u001b[0;34m\u001b[0m\u001b[0;34m\u001b[0m\u001b[0m\n\u001b[1;32m     15\u001b[0m                 \u001b[0;32mreturn\u001b[0m \u001b[0mword\u001b[0m\u001b[0;34m\u001b[0m\u001b[0;34m\u001b[0m\u001b[0m\n",
      "\u001b[0;31mStopIteration\u001b[0m: Stopped Iteration. ^-^"
     ]
    }
   ],
   "metadata": {}
  },
  {
   "cell_type": "code",
   "execution_count": 21,
   "source": [
    "\n",
    "# Generator 패턴\n",
    "\n",
    "# 1. List/dictionary/set comprehension -> 데이터 양 증가 -> 메모리 사용량 증가 // 제네레이터 사용권장\n",
    "# 2. 단위 실행 가능한 코루틴(Coroutine) 구현과 연동\n",
    "# 3. 작은 메모리 조각 사용\n",
    "\n",
    "class WorldSplitGenerator:\n",
    "\tdef __init__(self, text):\n",
    "\t\tself._text = text.split(' ')\n",
    "\n",
    "\tdef __iter__(self):\n",
    "\t\tfor word in self._text:\n",
    "\t\t\tyield word # 제네레이터\n",
    "\t\treturn\n",
    "\n",
    "\tdef __repr__(self):\n",
    "\t\treturn 'WordSplitGenerator(%s)' % (self._text)\n",
    "\n",
    "wg = WorldSplitGenerator('Do today what you could do tommorrow')\n",
    "\n",
    "wt = iter(wg)\n",
    "\n",
    "print(wt, wg, sep='\\n')\n",
    "\n",
    "print(wt)\n",
    "print(next(wt))\n",
    "print(next(wt))\n",
    "print(next(wt))\n",
    "print(next(wt))\n",
    "print(next(wt))\n",
    "print(next(wt))\n",
    "print(next(wt))\n",
    "print(next(wt))\n"
   ],
   "outputs": [
    {
     "output_type": "stream",
     "name": "stdout",
     "text": [
      "<generator object WorldSplitGenerator.__iter__ at 0x10c995b10>\n",
      "WordSplitGenerator(['Do', 'today', 'what', 'you', 'could', 'do', 'tommorrow'])\n",
      "<generator object WorldSplitGenerator.__iter__ at 0x10c995b10>\n",
      "Do\n",
      "today\n",
      "what\n",
      "you\n",
      "could\n",
      "do\n",
      "tommorrow\n"
     ]
    },
    {
     "output_type": "error",
     "ename": "StopIteration",
     "evalue": "",
     "traceback": [
      "\u001b[0;31m---------------------------------------------------------------------------\u001b[0m",
      "\u001b[0;31mStopIteration\u001b[0m                             Traceback (most recent call last)",
      "\u001b[0;32m<ipython-input-21-1b30e0349948>\u001b[0m in \u001b[0;36m<module>\u001b[0;34m\u001b[0m\n\u001b[1;32m     32\u001b[0m \u001b[0mprint\u001b[0m\u001b[0;34m(\u001b[0m\u001b[0mnext\u001b[0m\u001b[0;34m(\u001b[0m\u001b[0mwt\u001b[0m\u001b[0;34m)\u001b[0m\u001b[0;34m)\u001b[0m\u001b[0;34m\u001b[0m\u001b[0;34m\u001b[0m\u001b[0m\n\u001b[1;32m     33\u001b[0m \u001b[0mprint\u001b[0m\u001b[0;34m(\u001b[0m\u001b[0mnext\u001b[0m\u001b[0;34m(\u001b[0m\u001b[0mwt\u001b[0m\u001b[0;34m)\u001b[0m\u001b[0;34m)\u001b[0m\u001b[0;34m\u001b[0m\u001b[0;34m\u001b[0m\u001b[0m\n\u001b[0;32m---> 34\u001b[0;31m \u001b[0mprint\u001b[0m\u001b[0;34m(\u001b[0m\u001b[0mnext\u001b[0m\u001b[0;34m(\u001b[0m\u001b[0mwt\u001b[0m\u001b[0;34m)\u001b[0m\u001b[0;34m)\u001b[0m\u001b[0;34m\u001b[0m\u001b[0;34m\u001b[0m\u001b[0m\n\u001b[0m",
      "\u001b[0;31mStopIteration\u001b[0m: "
     ]
    }
   ],
   "metadata": {}
  }
 ],
 "metadata": {
  "orig_nbformat": 4,
  "language_info": {
   "name": "python",
   "version": "3.7.3",
   "mimetype": "text/x-python",
   "codemirror_mode": {
    "name": "ipython",
    "version": 3
   },
   "pygments_lexer": "ipython3",
   "nbconvert_exporter": "python",
   "file_extension": ".py"
  },
  "kernelspec": {
   "name": "python3",
   "display_name": "Python 3.7.3 64-bit ('anaconda3': conda)"
  },
  "interpreter": {
   "hash": "50784419fe898108f44419d7095efdb0a1ba7abb2a978f5ac080977cb6168522"
  }
 },
 "nbformat": 4,
 "nbformat_minor": 2
}