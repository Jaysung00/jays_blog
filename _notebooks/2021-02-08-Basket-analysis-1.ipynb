{
 "cells": [
  {
   "cell_type": "markdown",
   "metadata": {},
   "source": [
    "# Market Basket Analysis in Python ①\n",
    "> [Market Basket Analysis in Python ①Introduction to Market Basket Analysis](https://learn.datacamp.com/courses/market-basket-analysis-in-python) まとめ, via Datacamp\n",
    "\n",
    "- toc: true\n",
    "- badges: false\n",
    "- comments: true\n",
    "- author: Jay Sung\n",
    "- categories: [Datacamp]"
   ]
  },
  {
   "cell_type": "markdown",
   "metadata": {},
   "source": [
    "- - -\n",
    "\n",
    "## バスケット分析とは？\n",
    "\n",
    "バスケット分析によって以下のようなことができる。  \n",
    "\n",
    "### 1. 併売分析  \n",
    "一回の買い物でよく一緒に買われるものは何か？\n",
    "\n",
    "### 2. 併売分析に基づいて有用な推奨事項の提供\n",
    "e.g.   \n",
    "・棚の近くに置くべき商品カテゴリー  \n",
    "・棚の遠くに置くべき商品カテゴリー など\n"
   ]
  },
  {
   "cell_type": "markdown",
   "metadata": {},
   "source": [
    "- - -\n",
    "\n",
    "## バスケット分析の使用例\n",
    "\n",
    "e.g.  \n",
    "・Netflixスタイルの推奨エンジン  \n",
    "・eコマースにおける商品推奨の改善  \n",
    "・小売店でのクロスセル（Cross-sell$^{[*1]}$）製品  \n",
    "・在庫管理の改善  \n",
    "・アップセル（Up-sell$^{[*2]}$）するアイテム選択　など\n",
    "\n",
    "<br>  \n",
    "\n",
    "<span style=\"font-size: 85%\"> \n",
    "    $^{[*1]}$ Cross-sell :  顧客が購買する、あるいはすでに利用している製品・サービスに関連するものを販売していくこと  \n",
    "    $^{[*2]}$ Up-sell : 顧客が検討しているものよりランクの高い製品・サービスの販売をすること\n",
    "\n",
    "</span> "
   ]
  },
  {
   "cell_type": "markdown",
   "metadata": {},
   "source": [
    "- - -\n",
    "\n",
    "## バスケット分析の方法\n",
    "\n",
    " **Association Rule** によって構成される\n",
    "\n",
    "・{A} $\\rightarrow$ {B}\n",
    "\n",
    "「Aを買うと、Bを買う」という意味\n",
    "- - -\n",
    "\n",
    "## (実装) クロルセル製品選択\n",
    "\n",
    "小売店ではガムをコーヒーかシリアルかパンかどれかとクロスセルしようとしている。  \n",
    "\n",
    "・{coffee} $\\rightarrow$ {gum}  \n",
    "・{cereal} $\\rightarrow$ {gum}  \n",
    "・{bread} $\\rightarrow$ {gum}  のうち、最も関係性が強いものを選びたい。  \n",
    "\n",
    "<br>  \n",
    "\n",
    "`transactions`は ['coffee','gum'] & ['cereal','gum'] & ['bread','gum'] の３つのペアからなっている。"
   ]
  },
  {
   "cell_type": "code",
   "execution_count": 20,
   "metadata": {},
   "outputs": [
    {
     "data": {
      "text/html": [
       "<div>\n",
       "<style scoped>\n",
       "    .dataframe tbody tr th:only-of-type {\n",
       "        vertical-align: middle;\n",
       "    }\n",
       "\n",
       "    .dataframe tbody tr th {\n",
       "        vertical-align: top;\n",
       "    }\n",
       "\n",
       "    .dataframe thead th {\n",
       "        text-align: right;\n",
       "    }\n",
       "</style>\n",
       "<table border=\"1\" class=\"dataframe\">\n",
       "  <thead>\n",
       "    <tr style=\"text-align: right;\">\n",
       "      <th></th>\n",
       "      <th>0</th>\n",
       "      <th>1</th>\n",
       "    </tr>\n",
       "  </thead>\n",
       "  <tbody>\n",
       "    <tr>\n",
       "      <th>0</th>\n",
       "      <td>bread</td>\n",
       "      <td>gum</td>\n",
       "    </tr>\n",
       "    <tr>\n",
       "      <th>1</th>\n",
       "      <td>bread</td>\n",
       "      <td>gum</td>\n",
       "    </tr>\n",
       "    <tr>\n",
       "      <th>2</th>\n",
       "      <td>cereal</td>\n",
       "      <td>gum</td>\n",
       "    </tr>\n",
       "    <tr>\n",
       "      <th>3</th>\n",
       "      <td>coffee</td>\n",
       "      <td>gum</td>\n",
       "    </tr>\n",
       "    <tr>\n",
       "      <th>4</th>\n",
       "      <td>bread</td>\n",
       "      <td>gum</td>\n",
       "    </tr>\n",
       "    <tr>\n",
       "      <th>...</th>\n",
       "      <td>...</td>\n",
       "      <td>...</td>\n",
       "    </tr>\n",
       "    <tr>\n",
       "      <th>80</th>\n",
       "      <td>bread</td>\n",
       "      <td>gum</td>\n",
       "    </tr>\n",
       "    <tr>\n",
       "      <th>81</th>\n",
       "      <td>coffee</td>\n",
       "      <td>gum</td>\n",
       "    </tr>\n",
       "    <tr>\n",
       "      <th>82</th>\n",
       "      <td>bread</td>\n",
       "      <td>gum</td>\n",
       "    </tr>\n",
       "    <tr>\n",
       "      <th>83</th>\n",
       "      <td>coffee</td>\n",
       "      <td>gum</td>\n",
       "    </tr>\n",
       "    <tr>\n",
       "      <th>84</th>\n",
       "      <td>coffee</td>\n",
       "      <td>gum</td>\n",
       "    </tr>\n",
       "  </tbody>\n",
       "</table>\n",
       "<p>85 rows × 2 columns</p>\n",
       "</div>"
      ],
      "text/plain": [
       "         0    1\n",
       "0    bread  gum\n",
       "1    bread  gum\n",
       "2   cereal  gum\n",
       "3   coffee  gum\n",
       "4    bread  gum\n",
       "..     ...  ...\n",
       "80   bread  gum\n",
       "81  coffee  gum\n",
       "82   bread  gum\n",
       "83  coffee  gum\n",
       "84  coffee  gum\n",
       "\n",
       "[85 rows x 2 columns]"
      ]
     },
     "execution_count": 20,
     "metadata": {},
     "output_type": "execute_result"
    }
   ],
   "source": [
    "#\n",
    "# import & read data\n",
    "\n",
    "import matplotlib.pyplot as plt\n",
    "import pandas as pd\n",
    "import numpy as np\n",
    "\n",
    "transactions = pd.read_csv('./dataset/transactions.csv', header=None)\n",
    "\n",
    "transactions"
   ]
  },
  {
   "cell_type": "markdown",
   "metadata": {},
   "source": [
    "各ペアの数をカウントする"
   ]
  },
  {
   "cell_type": "code",
   "execution_count": 18,
   "metadata": {},
   "outputs": [
    {
     "name": "stdout",
     "output_type": "stream",
     "text": [
      "coffee: 40\n",
      "cereal: 25\n",
      "bread: 20\n"
     ]
    }
   ],
   "source": [
    "#\n",
    "# Count the number of transactions with coffee and gum\n",
    "coffee = transactions[(transactions[0] == 'coffee') & (transactions[1] == 'gum')]\n",
    "\n",
    "# Count the number of transactions with cereal and gum\n",
    "cereal = transactions[(transactions[0] == 'cereal') & (transactions[1] == 'gum')]\n",
    "\n",
    "# Count the number of transactions with bread and gum\n",
    "bread = transactions[(transactions[0] == 'bread') & (transactions[1] == 'gum')]\n",
    "\n",
    "# Print the counts for each transaction.\n",
    "print('coffee:', len(coffee))\n",
    "print('cereal:', len(cereal))\n",
    "print('bread:', len(bread))"
   ]
  },
  {
   "cell_type": "markdown",
   "metadata": {},
   "source": [
    "<br>  \n",
    "\n",
    "\n",
    "**参考文献**  \n",
    "JMR生活総合研究所. アップセリング（Up-selling）、クロスセリング（Cross-selling）. *マーケティング用語集*. https://www.jmrlsi.co.jp/knowledge/yougo/my06/my0618.html\n",
    "\n",
    "\n",
    "\n",
    "- - -\n",
    "\n",
    "**このシリーズの別のポストを見るには**\n",
    "\n",
    "　　　[[Next >>]](https://jaysung00.github.io/jays_blog/datacamp/2021/02/09/Basket-analysis-2.html)\n",
    "   \n",
    "\n"
   ]
  },
  {
   "cell_type": "code",
   "execution_count": null,
   "metadata": {},
   "outputs": [],
   "source": []
  }
 ],
 "metadata": {
  "kernelspec": {
   "display_name": "Python 3",
   "language": "python",
   "name": "python3"
  },
  "language_info": {
   "codemirror_mode": {
    "name": "ipython",
    "version": 3
   },
   "file_extension": ".py",
   "mimetype": "text/x-python",
   "name": "python",
   "nbconvert_exporter": "python",
   "pygments_lexer": "ipython3",
   "version": "3.7.6"
  }
 },
 "nbformat": 4,
 "nbformat_minor": 4
}
