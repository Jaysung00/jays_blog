{
 "cells": [
  {
   "cell_type": "markdown",
   "source": [
    "# 파이썬 예제14) 행렬 테두리 회전하기\n",
    "> [Programmers > 2021 Dev-Matching: 웹 백엔드 개발자 > 행렬 테두리 회전하기](https://programmers.co.kr/learn/courses/30/lessons/77485)\n",
    "\n",
    "- toc: false\n",
    "- badges: false\n",
    "- comments: true\n",
    "- author: Jay Sung\n",
    "- categories: [ ___  A. ENGINEERING __________ > PYTHON 문제풀이]"
   ],
   "metadata": {}
  },
  {
   "cell_type": "markdown",
   "source": [
    "- - -\n"
   ],
   "metadata": {}
  },
  {
   "cell_type": "code",
   "execution_count": 36,
   "source": [
    "\n",
    "# 내 시도\n",
    "\n",
    "rows = 6\n",
    "columns = 6\n",
    "\n",
    "queries = [[2, 2, 5, 4], [3, 3, 6, 6], [5, 1, 6, 3]]\n",
    "\n",
    "##전략\n",
    "# 1. input을 받으면 테두리에 포함되는 리스트를 생각해 min을 반환하는 기능(함수)\n",
    "# 2. input을 받으면 회전을 시키는 기능(함수)\n",
    "\n",
    "def solution(rows, columns, queries):\n",
    "\tanswer = []\n",
    "\tarray = []\n",
    "\n",
    "\t# initial array\n",
    "\tfor i in range(rows):\n",
    "\t\tarray.append([(columns * i) + (j + 1) for j in range(columns)])\n",
    "\t## 하나의 list comprehension으로 만들 수는 없을까?\n",
    "\n",
    "\tfor input in queries:\n",
    "\t\tborder_list = []\n",
    "\t\tbefore = array[input[0]-1][input[1]-1]\n",
    "\n",
    "\t\t# 윗변\n",
    "\t\tfor c in range(input[1], input[3]):\n",
    "\t\t\ttmp = array[input[0]-1][c]\n",
    "\t\t\tarray[input[0]-1][c] = before\n",
    "\t\t\tbefore = tmp\n",
    "\t\t\tborder_list.append(before)\n",
    "\n",
    "\t\t# 오른쪽변\n",
    "\t\tfor r in range(input[0], input[2]):\n",
    "\t\t\ttmp = array[r][input[3]-1]\n",
    "\t\t\tarray[r][input[3]-1] = before\n",
    "\t\t\tbefore = tmp\n",
    "\t\t\tborder_list.append(before)\n",
    "\n",
    "\t\t# 아래쪽변\n",
    "\t\tfor c in reversed(range(input[1] + 1, input[3] + 1)):\n",
    "\t\t\ttmp = array[input[2]-1][c-2]\n",
    "\t\t\tarray[input[2]-1][c-2] = before\n",
    "\t\t\tbefore = tmp\n",
    "\t\t\tborder_list.append(before)\n",
    "\n",
    "\t\t# 왼쪽변\n",
    "\t\tfor r in reversed(range(input[0] + 1, input[2] + 1)):\n",
    "\t\t\ttmp = array[r-2][input[1]-1]\n",
    "\t\t\tarray[r-2][input[1]-1] = before\n",
    "\t\t\tbefore = tmp\n",
    "\t\t\tborder_list.append(before)\n",
    "\n",
    "\t\tanswer.append(min(border_list))\n",
    "\n",
    "\treturn answer\n",
    "\n",
    "print(solution(rows, columns, queries))"
   ],
   "outputs": [
    {
     "output_type": "stream",
     "name": "stdout",
     "text": [
      "[8, 10, 25]\n"
     ]
    }
   ],
   "metadata": {}
  },
  {
   "cell_type": "code",
   "execution_count": 28,
   "source": [
    "\n",
    "# 다른사람 풀이\n",
    "\n",
    "# 평가 1 ; \n",
    "\n",
    "def solution(rows, columns, queries):\n",
    "\tanswer = []\n",
    "\n",
    "\tboard = [[i+(j)*columns for i in range(1,columns+1)] for j in range(rows)]\n",
    "\t# print(board)\n",
    "\n",
    "\tfor a,b,c,d in queries:\n",
    "\t\tstack = []\n",
    "\t\tr1, c1, r2, c2 = a-1, b-1, c-1, d-1\n",
    "\n",
    "\n",
    "\t\tfor i in range(c1, c2+1):\n",
    "\n",
    "\t\t\tstack.append(board[r1][i])\n",
    "\t\t\tif len(stack) == 1:\n",
    "\t\t\t\tcontinue\n",
    "\t\t\telse:\n",
    "\t\t\t\tboard[r1][i] = stack[-2]\n",
    "\n",
    "\n",
    "\t\tfor j in range(r1+1, r2+1):\n",
    "\t\t\tstack.append(board[j][i])\n",
    "\t\t\tboard[j][i] = stack[-2]\n",
    "\n",
    "\t\tfor k in range(c2-1, c1-1, -1):\n",
    "\t\t\tstack.append(board[j][k])\n",
    "\t\t\tboard[j][k] = stack[-2]\n",
    "\n",
    "\t\tfor l in range(r2-1, r1-1, -1):\n",
    "\t\t\tstack.append(board[l][k])\n",
    "\t\t\tboard[l][k] = stack[-2]\n",
    "\n",
    "\t\tanswer.append(min(stack))\n",
    "\n",
    "\n",
    "\treturn answer\n"
   ],
   "outputs": [],
   "metadata": {}
  },
  {
   "cell_type": "markdown",
   "source": [
    "> ## 초기 배열 List comprehesion으로 만들어보자\n",
    ">"
   ],
   "metadata": {}
  },
  {
   "cell_type": "code",
   "execution_count": 37,
   "source": [
    "rows = 6\n",
    "columns = 6\n",
    "\n",
    "board = [[i+(j)*columns for i in range(1,columns+1)] for j in range(rows)]\n",
    "print(board)"
   ],
   "outputs": [
    {
     "output_type": "stream",
     "name": "stdout",
     "text": [
      "[[1, 2, 3, 4, 5, 6], [7, 8, 9, 10, 11, 12], [13, 14, 15, 16, 17, 18], [19, 20, 21, 22, 23, 24], [25, 26, 27, 28, 29, 30], [31, 32, 33, 34, 35, 36]]\n"
     ]
    }
   ],
   "metadata": {}
  }
 ],
 "metadata": {
  "orig_nbformat": 4,
  "language_info": {
   "name": "python",
   "version": "3.7.3",
   "mimetype": "text/x-python",
   "codemirror_mode": {
    "name": "ipython",
    "version": 3
   },
   "pygments_lexer": "ipython3",
   "nbconvert_exporter": "python",
   "file_extension": ".py"
  },
  "kernelspec": {
   "name": "python3",
   "display_name": "Python 3.7.3 64-bit ('anaconda3': conda)"
  },
  "interpreter": {
   "hash": "50784419fe898108f44419d7095efdb0a1ba7abb2a978f5ac080977cb6168522"
  }
 },
 "nbformat": 4,
 "nbformat_minor": 2
}