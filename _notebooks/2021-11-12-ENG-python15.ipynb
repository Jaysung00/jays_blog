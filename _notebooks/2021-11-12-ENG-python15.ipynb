{
 "cells": [
  {
   "cell_type": "markdown",
   "source": [
    "# 파이썬 예제15) 튜플\n",
    "> [Programmers > 2019 카카오 개발자 겨울 인턴십 > 튜플](https://programmers.co.kr/learn/courses/30/lessons/64065)\n",
    "\n",
    "- toc: false\n",
    "- badges: false\n",
    "- comments: true\n",
    "- author: Jay Sung\n",
    "- categories: [ ___  A. ENGINEERING __________ > PYTHON 문제풀이]"
   ],
   "metadata": {}
  },
  {
   "cell_type": "markdown",
   "source": [
    "- - -\n"
   ],
   "metadata": {}
  },
  {
   "cell_type": "code",
   "execution_count": 63,
   "source": [
    "\n",
    "# 내 시도\n",
    "\n",
    "## input string을 개별 원소로 격납\n",
    "## [인덱스 -- 집합의 길이] 에서 해당 집합에서 이전 길이의 집합을 빼고 남은 요소\n",
    "\n",
    "s = \"{{20,111},{111}}\"\n",
    "\n",
    "\n",
    "def solution(s):\n",
    "\tanswer = []\n",
    "\n",
    "\t#문자열을 집합의 리스트로 변환\n",
    "\ts_list = [set(s_i.split(sep=\",\")) for s_i in \\\n",
    "\t\t\t[_ for _ in s.replace(\"}}\", \"\").replace(\"{{\", \"\").split(sep=\"},{\")]]\n",
    "\n",
    "\t#길이 순 정렬\n",
    "\ts_list.sort(key=len)\n",
    "\n",
    "\t#앞에서부터 차집합 구하기\n",
    "\tanswer.append(int(tuple(s_list[0])[0]))\n",
    "\tfor i in range(len(s_list) - 1):\n",
    "\t\tanswer.append(int(tuple(s_list[i+1] - s_list[i])[0]))\n",
    "\n",
    "\treturn answer\n",
    "\n",
    "print(solution(s))  # [2, 1, 3, 4]"
   ],
   "outputs": [
    {
     "output_type": "stream",
     "name": "stdout",
     "text": [
      "[111, 20]\n"
     ]
    }
   ],
   "metadata": {}
  },
  {
   "cell_type": "code",
   "execution_count": 28,
   "source": [
    "\n",
    "# 다른사람 풀이\n",
    "\n",
    "# 평가 1 ;\n",
    "\n",
    "def solution(s):\n",
    "\ts = Counter(re.findall('\\d+', s))\n",
    "\treturn list(map(int, [k for k, v in sorted(s.items(), key=lambda x: x[1], reverse=True)]))\n",
    "\n",
    "import re\n",
    "from collections import Counter\n"
   ],
   "outputs": [],
   "metadata": {}
  }
 ],
 "metadata": {
  "orig_nbformat": 4,
  "language_info": {
   "name": "python",
   "version": "3.7.3",
   "mimetype": "text/x-python",
   "codemirror_mode": {
    "name": "ipython",
    "version": 3
   },
   "pygments_lexer": "ipython3",
   "nbconvert_exporter": "python",
   "file_extension": ".py"
  },
  "kernelspec": {
   "name": "python3",
   "display_name": "Python 3.7.3 64-bit ('anaconda3': conda)"
  },
  "interpreter": {
   "hash": "50784419fe898108f44419d7095efdb0a1ba7abb2a978f5ac080977cb6168522"
  }
 },
 "nbformat": 4,
 "nbformat_minor": 2
}