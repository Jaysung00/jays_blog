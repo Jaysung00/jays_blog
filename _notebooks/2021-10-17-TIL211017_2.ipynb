{
 "cells": [
  {
   "cell_type": "markdown",
   "source": [
    "# Today I Learned 211017\n",
    "\n",
    "- toc: false\n",
    "- badges: false\n",
    "- comments: true\n",
    "- author: Jay Sung\n",
    "- categories: [ ___  **A. ENGINEERING** __________ > ___ a. PYTHON _________ >\b 2. 인프런 파이썬 강의]\n"
   ],
   "metadata": {}
  },
  {
   "cell_type": "markdown",
   "source": [
    "- - -\n",
    "\n",
    "## 인프런 파이썬 중급 (Inflearn Original)\n",
    "클래스 & 메소드 심화(3-1, 3-2)"
   ],
   "metadata": {}
  },
  {
   "cell_type": "code",
   "execution_count": 28,
   "source": [
    "\n",
    "# 클래스 선언\n",
    "class Car(object):\n",
    "\t'''\n",
    "\tCar Class\n",
    "\tAuthor : Me\n",
    "\tDate : 2019.11.08\n",
    "\tDescription : Class, Static, Instance Method\n",
    "\t'''\n",
    "\n",
    "\t# Class Variable\n",
    "\tprice_per_raise = 1.0\n",
    "\n",
    "\tdef __init__(self, company, details):\n",
    "\t\tself._company = company\n",
    "\t\tself._details = details\n",
    "\t\t\n",
    "\tdef __str__(self):\n",
    "\t\treturn 'str : {} - {}'.format(self._company, self._details)\n",
    "\n",
    "\tdef __repr__(self):\n",
    "\t\treturn 'repr : {} - {}'.format(self._company, self._details)\n",
    "\n",
    "\t# Instance Method\n",
    "\t# self : 객체의 고유한 속성 값 사용\n",
    "\tdef detail_info(self):\n",
    "\t\tprint('Current Id : {}'.format(id(self)))\n",
    "\t\tprint('Car Detail Info : {} {}'.format(self._company, self._details.get('price')))\n",
    "\t\t\n",
    "\t# Instance Method\n",
    "\tdef get_price(self):\n",
    "\t\treturn 'Before Car Price -> company : {}, price : {}'.format(self._company, self._details.get('price'))\n",
    "\n",
    "\t# Instance Method\n",
    "\tdef get_price_culc(self):\n",
    "\t\treturn 'After Car Price -> company : {}, price : {}'.format(self._company, self._details.get('price') * Car.price_per_raise)\n",
    "\n",
    "\t# Class Method\n",
    "\t@classmethod # decorator\n",
    "\tdef raise_price(cls, per): # 클래스메소드는 self 대신 cls를 받는다.\n",
    "\t\tif per <= 1:\n",
    "\t\t\tprint('Please Enter 1 or More')\n",
    "\t\t\treturn\n",
    "\t\tcls.price_per_raise = per\n",
    "\t\tprint('Succeed! price increased.')\n",
    "\n",
    "\t# Static Method\n",
    "\t@staticmethod\n",
    "\tdef is_bmw(inst): # 아무것도 인수로 받지 않는다.. 그러나 필요성에 대해서는 의문\n",
    "\t\tif inst._company == 'Bmw':\n",
    "\t\t\treturn 'OK! This car is {}.'.format(inst._company)\n",
    "\t\treturn 'Sorry. This car is not Bmw.'"
   ],
   "outputs": [],
   "metadata": {}
  },
  {
   "cell_type": "code",
   "execution_count": 29,
   "source": [
    "\n",
    "# 자동차 인스턴스\n",
    "car1 = Car('Bmw', {'color' : 'Black', 'horsepower': 270, 'price': 5000})\n",
    "car2 = Car('Audi', {'color' : 'Silver', 'horsepower': 300, 'price': 6000})"
   ],
   "outputs": [],
   "metadata": {}
  },
  {
   "cell_type": "code",
   "execution_count": 30,
   "source": [
    "\n",
    "# 전체정보\n",
    "car1.detail_info()\n",
    "car2.detail_info()"
   ],
   "outputs": [
    {
     "output_type": "stream",
     "name": "stdout",
     "text": [
      "Current Id : 4558480720\n",
      "Car Detail Info : Bmw 5000\n",
      "Current Id : 4558481560\n",
      "Car Detail Info : Audi 6000\n"
     ]
    }
   ],
   "metadata": {}
  },
  {
   "cell_type": "code",
   "execution_count": 31,
   "source": [
    "\n",
    "# 가격 정보(인상 전)\n",
    "print(car1.get_price())\n",
    "print(car2.get_price())"
   ],
   "outputs": [
    {
     "output_type": "stream",
     "name": "stdout",
     "text": [
      "Before Car Price -> company : Bmw, price : 5000\n",
      "Before Car Price -> company : Audi, price : 6000\n"
     ]
    }
   ],
   "metadata": {}
  },
  {
   "cell_type": "code",
   "execution_count": 32,
   "source": [
    "\n",
    "# 가격 인상(클래스 메소드 미사용)\n",
    "Car.price_per_raise = 1.2"
   ],
   "outputs": [],
   "metadata": {}
  },
  {
   "cell_type": "code",
   "execution_count": 33,
   "source": [
    "\n",
    "# 가격 정보(인상 후)\n",
    "print(car1.get_price_culc())\n",
    "print(car2.get_price_culc())\n",
    "print()"
   ],
   "outputs": [
    {
     "output_type": "stream",
     "name": "stdout",
     "text": [
      "After Car Price -> company : Bmw, price : 6000.0\n",
      "After Car Price -> company : Audi, price : 7200.0\n",
      "\n"
     ]
    }
   ],
   "metadata": {}
  },
  {
   "cell_type": "code",
   "execution_count": 34,
   "source": [
    "\n",
    "# 가격 인상(클래스 메소드 사용)\n",
    "Car.raise_price(1.6)\n",
    "\n",
    "# 가격 정보(인상 후 : 클래스메소드)\n",
    "print(car1.get_price_culc())\n",
    "print(car2.get_price_culc())\n",
    "print()"
   ],
   "outputs": [
    {
     "output_type": "stream",
     "name": "stdout",
     "text": [
      "Succeed! price increased.\n",
      "After Car Price -> company : Bmw, price : 8000.0\n",
      "After Car Price -> company : Audi, price : 9600.0\n",
      "\n"
     ]
    }
   ],
   "metadata": {}
  },
  {
   "cell_type": "code",
   "execution_count": 36,
   "source": [
    "\n",
    "# Bmw 여부(스테이틱 메소드 미사용)\n",
    "def is_bmw(inst):\n",
    "    if inst._company == 'Bmw':\n",
    "        return 'OK! This car is {}.'.format(inst._company)\n",
    "    return 'Sorry. This car is not Bmw.'\n",
    "\n",
    "# 별도의 메소드 작성 후 호출\n",
    "print(is_bmw(car1))\n",
    "print(is_bmw(car2))"
   ],
   "outputs": [
    {
     "output_type": "stream",
     "name": "stdout",
     "text": [
      "OK! This car is Bmw.\n",
      "Sorry. This car is not Bmw.\n"
     ]
    }
   ],
   "metadata": {}
  },
  {
   "cell_type": "code",
   "execution_count": 37,
   "source": [
    "\n",
    "# Bmw 여부(스테이틱 메소드 사용)\n",
    "print('Static : ', Car.is_bmw(car1))\n",
    "print('Static : ', Car.is_bmw(car2))\n",
    "print()\n",
    "\n",
    "print('Static : ', car1.is_bmw(car1))\n",
    "print('Static : ', car2.is_bmw(car2))\n"
   ],
   "outputs": [
    {
     "output_type": "stream",
     "name": "stdout",
     "text": [
      "Static :  OK! This car is Bmw.\n",
      "Static :  Sorry. This car is not Bmw.\n",
      "\n",
      "Static :  OK! This car is Bmw.\n",
      "Static :  Sorry. This car is not Bmw.\n"
     ]
    }
   ],
   "metadata": {}
  }
 ],
 "metadata": {
  "orig_nbformat": 4,
  "language_info": {
   "name": "python",
   "version": "3.7.3",
   "mimetype": "text/x-python",
   "codemirror_mode": {
    "name": "ipython",
    "version": 3
   },
   "pygments_lexer": "ipython3",
   "nbconvert_exporter": "python",
   "file_extension": ".py"
  },
  "kernelspec": {
   "name": "python3",
   "display_name": "Python 3.7.3 64-bit ('anaconda3': conda)"
  },
  "interpreter": {
   "hash": "50784419fe898108f44419d7095efdb0a1ba7abb2a978f5ac080977cb6168522"
  }
 },
 "nbformat": 4,
 "nbformat_minor": 2
}