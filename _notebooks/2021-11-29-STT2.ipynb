{
 "cells": [
  {
   "cell_type": "markdown",
   "source": [
    "# 변수변환, 확률변수의 선형결합\n",
    "\n",
    "- toc: true\n",
    "- badges: false\n",
    "- comments: true\n",
    "- author: Jay Sung\n",
    "- categories: [ ___  E. STATISTICS _____________ > 統計検定 準1級 개념정리]"
   ],
   "metadata": {}
  },
  {
   "cell_type": "markdown",
   "source": [
    "- - -\n",
    "- - -"
   ],
   "metadata": {}
  },
  {
   "cell_type": "markdown",
   "source": [
    "| 대분류 | 소분류 | 학습내용 |\n",
    "| - | - | - |\n",
    "| 확률과 확률변수 | 변수변환 | 변수변환, 확률변수의 선형결합의 분포 |"
   ],
   "metadata": {}
  },
  {
   "cell_type": "markdown",
   "source": [
    "- - -\n",
    "# 결합 확률분포란?\n",
    "\n",
    "많은 경우에 우리가 흥미를 가지는 현상은 관찰값이나 측정값들이 여러 개의 확률변수들 $X_1, X_2, \\cdots, X_k$로 이루어져 있다.\n",
    "이처럼 여러 개의 확률변수들을 한꺼번에 고려하는 경우, 결합분포(joint distribution) 이론이 필요하게 된다.\n",
    "\n",
    "편의상, k개의 확률변수 $X_1, X_2, \\cdots, X_k$ 를 **확률벡터(random vector)** **$X$** $= (X_1, X_2, \\cdots, X_k)$로 표현하기도 한다.\n",
    "우선 두 확률변수의 결합 확률밀도함수(joint probability density function)를 다음과 같이 정의하자.\n",
    "\n",
    "$\\space$\n",
    "\n",
    "**_[결합 확률밀도함수의 정의]_**\n",
    "\n",
    "두 확률변수 X와 Y의 **결합 확률밀도함수** $f_{X, Y}(x, y)$는 X, Y가 이산형인 경우\n",
    "$$f_{X, Y}(x, y) = P(X =x, Y=y)$$\n",
    "로 정의되며, 연속형인 경우 이차평면상의 임의의 영역 $A$에 대하여,\n",
    "$$P[(X, Y) \\in A] = \\iint _A f_{X, Y}(x, y)dxdy$$\n",
    "\n",
    "$\\space$\n",
    "\n",
    "$\\space$\n",
    "\n",
    "이때 결합 확률밀도함수 $f_{X, Y}(x, y)$는 모든 실수 $x, y$에 대하여\n",
    "\n",
    "**(1)** $f_{X, Y}(x, y) \\geq 0$\n",
    "\n",
    "**(2)** (X,Y가 이산형인 경우) $\\sum\\limits_{모든}\\sum\\limits_{x,y} f_{(X,Y)}(x,y) = 1,$\n",
    "\n",
    "$\\space\\space\\space\\space\\space\\space$(X,Y가 연속형인 경우) $\\int_{-\\infty}^{\\infty} \\int_{-\\infty}^{\\infty} f_{(X,Y)}(x,y)dxdy = 1$ \n",
    "\n",
    "이라는 조건들을 만족한다."
   ],
   "metadata": {}
  },
  {
   "cell_type": "markdown",
   "source": [
    "- - -\n",
    "# 결합변환"
   ],
   "metadata": {}
  }
 ],
 "metadata": {
  "orig_nbformat": 4,
  "language_info": {
   "name": "python",
   "version": "3.7.3",
   "mimetype": "text/x-python",
   "codemirror_mode": {
    "name": "ipython",
    "version": 3
   },
   "pygments_lexer": "ipython3",
   "nbconvert_exporter": "python",
   "file_extension": ".py"
  },
  "kernelspec": {
   "name": "python3",
   "display_name": "Python 3.7.3 64-bit ('anaconda3': conda)"
  },
  "interpreter": {
   "hash": "50784419fe898108f44419d7095efdb0a1ba7abb2a978f5ac080977cb6168522"
  }
 },
 "nbformat": 4,
 "nbformat_minor": 2
}