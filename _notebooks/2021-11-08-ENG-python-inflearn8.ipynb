{
 "cells": [
  {
   "cell_type": "markdown",
   "source": [
    "# Inflearn 파이썬 중급 - 파이썬 일급함수 - 클로저 (2-1, 2-2, 3-1, 3-2)\n",
    "\n",
    "- toc: false\n",
    "- badges: false\n",
    "- comments: true\n",
    "- author: Jay Sung\n",
    "- categories: [ ___  A. ENGINEERING __________ > PYTHON 인프런 강의]\n",
    "\n"
   ],
   "metadata": {}
  },
  {
   "cell_type": "markdown",
   "source": [
    "- - -\n",
    "- - -\n",
    "## 파이썬 변수 범위(Scope)"
   ],
   "metadata": {}
  },
  {
   "cell_type": "code",
   "execution_count": 1,
   "source": [
    "\n",
    "## Ex1\n",
    "def func_v1(a):\n",
    "\tprint(a)\n",
    "\tprint(b)\n",
    "\n",
    "func_v1(10)  #NameError: name 'b' is not defined\n"
   ],
   "outputs": [
    {
     "output_type": "stream",
     "name": "stdout",
     "text": [
      "10\n"
     ]
    },
    {
     "output_type": "error",
     "ename": "NameError",
     "evalue": "name 'b' is not defined",
     "traceback": [
      "\u001b[0;31m---------------------------------------------------------------------------\u001b[0m",
      "\u001b[0;31mNameError\u001b[0m                                 Traceback (most recent call last)",
      "\u001b[0;32m<ipython-input-1-02bcdbcc2c73>\u001b[0m in \u001b[0;36m<module>\u001b[0;34m\u001b[0m\n\u001b[1;32m      5\u001b[0m         \u001b[0mprint\u001b[0m\u001b[0;34m(\u001b[0m\u001b[0mb\u001b[0m\u001b[0;34m)\u001b[0m\u001b[0;34m\u001b[0m\u001b[0;34m\u001b[0m\u001b[0m\n\u001b[1;32m      6\u001b[0m \u001b[0;34m\u001b[0m\u001b[0m\n\u001b[0;32m----> 7\u001b[0;31m \u001b[0mfunc_v1\u001b[0m\u001b[0;34m(\u001b[0m\u001b[0;36m10\u001b[0m\u001b[0;34m)\u001b[0m  \u001b[0;31m#NameError: name 'b' is not defined\u001b[0m\u001b[0;34m\u001b[0m\u001b[0;34m\u001b[0m\u001b[0m\n\u001b[0m",
      "\u001b[0;32m<ipython-input-1-02bcdbcc2c73>\u001b[0m in \u001b[0;36mfunc_v1\u001b[0;34m(a)\u001b[0m\n\u001b[1;32m      3\u001b[0m \u001b[0;32mdef\u001b[0m \u001b[0mfunc_v1\u001b[0m\u001b[0;34m(\u001b[0m\u001b[0ma\u001b[0m\u001b[0;34m)\u001b[0m\u001b[0;34m:\u001b[0m\u001b[0;34m\u001b[0m\u001b[0;34m\u001b[0m\u001b[0m\n\u001b[1;32m      4\u001b[0m         \u001b[0mprint\u001b[0m\u001b[0;34m(\u001b[0m\u001b[0ma\u001b[0m\u001b[0;34m)\u001b[0m\u001b[0;34m\u001b[0m\u001b[0;34m\u001b[0m\u001b[0m\n\u001b[0;32m----> 5\u001b[0;31m         \u001b[0mprint\u001b[0m\u001b[0;34m(\u001b[0m\u001b[0mb\u001b[0m\u001b[0;34m)\u001b[0m\u001b[0;34m\u001b[0m\u001b[0;34m\u001b[0m\u001b[0m\n\u001b[0m\u001b[1;32m      6\u001b[0m \u001b[0;34m\u001b[0m\u001b[0m\n\u001b[1;32m      7\u001b[0m \u001b[0mfunc_v1\u001b[0m\u001b[0;34m(\u001b[0m\u001b[0;36m10\u001b[0m\u001b[0;34m)\u001b[0m  \u001b[0;31m#NameError: name 'b' is not defined\u001b[0m\u001b[0;34m\u001b[0m\u001b[0;34m\u001b[0m\u001b[0m\n",
      "\u001b[0;31mNameError\u001b[0m: name 'b' is not defined"
     ]
    }
   ],
   "metadata": {}
  },
  {
   "cell_type": "code",
   "execution_count": null,
   "source": [
    "\n",
    "## Ex2\n",
    "b = 20\n",
    "\n",
    "def func_v2(a):\n",
    "\tprint(a)\n",
    "\tprint(b)\n",
    "\n",
    "func_v2(10)"
   ],
   "outputs": [
    {
     "output_type": "stream",
     "name": "stdout",
     "text": [
      "10\n",
      "20\n"
     ]
    }
   ],
   "metadata": {}
  },
  {
   "cell_type": "code",
   "execution_count": null,
   "source": [
    "\n",
    "## Ex3\n",
    "\n",
    "c = 30\n",
    "\n",
    "def func_v3(a):\n",
    "\tprint(a)\n",
    "\tprint(b)\n",
    "\tc = 40\n",
    "\n",
    "print(\">> c =\", c)\n",
    "func_v3(10)\n",
    "print(\">>> c =\", c)"
   ],
   "outputs": [
    {
     "output_type": "stream",
     "name": "stdout",
     "text": [
      ">> c = 30\n",
      "10\n",
      "20\n",
      ">>> c = 30\n"
     ]
    }
   ],
   "metadata": {}
  },
  {
   "cell_type": "markdown",
   "source": [
    "- - -\n",
    "## Global 선언"
   ],
   "metadata": {}
  },
  {
   "cell_type": "code",
   "execution_count": null,
   "source": [
    "\n",
    "## Ex4\n",
    "c = 30\n",
    "\n",
    "def func_v4(a):\n",
    "\tglobal c\n",
    "\tprint(a)\n",
    "\tprint(b)\n",
    "\tc = 40\n",
    "\n",
    "print(\"- - -\")\n",
    "print(\">> c =\", c)\n",
    "func_v4(10)\n",
    "print(\">>> c =\", c)"
   ],
   "outputs": [
    {
     "output_type": "stream",
     "name": "stdout",
     "text": [
      "- - -\n",
      ">> c = 30\n",
      "10\n",
      "20\n",
      ">>> c = 40\n"
     ]
    }
   ],
   "metadata": {}
  },
  {
   "cell_type": "markdown",
   "source": [
    "- - -\n",
    "## 클로저 사용 이유\n",
    "\n",
    "- 해당 시점의 상태를 save하고 있다.\n",
    "- 서버 프로그래밍 -> 동시성(concurrency) 제어 -> 메모리 공간에 여러 자원이 접근 -> 교착상태(Dead lock)\n",
    "- 메모리를 공유하지 않고 메시지 전달로 처리하기 위한 -> Erlang\n",
    "- 클로저는 공유하되 변경되지 않는(Immutable, Read only) 적극적으로 사용 -> 함수형 프로그래밍\n",
    "- 클로저는 불변자료구조 및 atom, STM -> 멀티스레드(Coroutine) 프로그래밍에 강점"
   ],
   "metadata": {}
  },
  {
   "cell_type": "code",
   "execution_count": 3,
   "source": [
    "\n",
    "a = 100\n",
    "\n",
    "print(a + 100)\n",
    "print(a + 1000)"
   ],
   "outputs": [
    {
     "output_type": "stream",
     "name": "stdout",
     "text": [
      "200\n",
      "1100\n"
     ]
    }
   ],
   "metadata": {}
  },
  {
   "cell_type": "code",
   "execution_count": 5,
   "source": [
    "\n",
    "# 결과 누적(함수 사용)\n",
    "print(sum(range(1,51)))\n",
    "print(sum(range(51,101)))\n"
   ],
   "outputs": [
    {
     "output_type": "stream",
     "name": "stdout",
     "text": [
      "1275\n",
      "3775\n"
     ]
    }
   ],
   "metadata": {}
  },
  {
   "cell_type": "markdown",
   "source": [
    "- - -\n",
    "## Class -> Closure 구현"
   ],
   "metadata": {}
  },
  {
   "cell_type": "code",
   "execution_count": 6,
   "source": [
    "\n",
    "# 클래스 이용\n",
    "class Averager():\n",
    "\tdef __init__(self):\n",
    "\t\tself._series = []\n",
    "\t\n",
    "\tdef __call__(self, v):\n",
    "\t\tself._series.append(v)\n",
    "\t\tprint('inner >> {} / {}'.format(self._series, len(self._series)))\n",
    "\t\treturn sum(self._series) / len(self._series)\n",
    "\n",
    "# 인스턴스 생성\n",
    "averager_cls = Averager()\n",
    "\n",
    "# 누적\n",
    "print(averager_cls(10))\n",
    "print(averager_cls(30))\n",
    "print(averager_cls(50))\n",
    "print(averager_cls(10))"
   ],
   "outputs": [
    {
     "output_type": "stream",
     "name": "stdout",
     "text": [
      "inner >> [10] / 1\n",
      "10.0\n",
      "inner >> [10, 30] / 2\n",
      "20.0\n",
      "inner >> [10, 30, 50] / 3\n",
      "30.0\n",
      "inner >> [10, 30, 50, 10] / 4\n",
      "25.0\n"
     ]
    }
   ],
   "metadata": {}
  }
 ],
 "metadata": {
  "orig_nbformat": 4,
  "language_info": {
   "name": "python",
   "version": "3.7.3",
   "mimetype": "text/x-python",
   "codemirror_mode": {
    "name": "ipython",
    "version": 3
   },
   "pygments_lexer": "ipython3",
   "nbconvert_exporter": "python",
   "file_extension": ".py"
  },
  "kernelspec": {
   "name": "python3",
   "display_name": "Python 3.7.3 64-bit ('anaconda3': conda)"
  },
  "interpreter": {
   "hash": "50784419fe898108f44419d7095efdb0a1ba7abb2a978f5ac080977cb6168522"
  }
 },
 "nbformat": 4,
 "nbformat_minor": 2
}