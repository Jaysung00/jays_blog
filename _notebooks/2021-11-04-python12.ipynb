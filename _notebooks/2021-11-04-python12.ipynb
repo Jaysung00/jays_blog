{
 "cells": [
  {
   "cell_type": "markdown",
   "source": [
    "# 파이썬 예제12) 짝지어 제거하기\n",
    "> [Programmers > 2017 팁스다운 > 짝지어 제거하기](https://programmers.co.kr/learn/courses/30/lessons/12973)\n",
    "\n",
    "- toc: false\n",
    "- badges: false\n",
    "- comments: true\n",
    "- author: Jay Sung\n",
    "- categories: [A. Engineering // a. PYTHON //\b 1. 문제풀이]"
   ],
   "metadata": {}
  },
  {
   "cell_type": "markdown",
   "source": [
    "- - -\n"
   ],
   "metadata": {}
  },
  {
   "cell_type": "code",
   "execution_count": 27,
   "source": [
    "\n",
    "# 내 시도\n",
    "\n",
    "s = \"abbcdaadca\"\n",
    "\n",
    "def solution(s):\n",
    "\tanswer = 0\n",
    "\tslist = []\n",
    "\t\n",
    "\tfor i in range(len(s)):\n",
    "\t\tif len(slist) == 0:\n",
    "\t\t\tslist.append(s[i])\n",
    "\t\telif slist[-1] != s[i]:\n",
    "\t\t\tslist.append(s[i])\n",
    "\t\telse:\n",
    "\t\t\tslist.pop()\n",
    "\n",
    "\tif len(slist) == 0:\n",
    "\t\tanswer = 1\n",
    "\treturn answer\n",
    "\n",
    "print(solution(s))"
   ],
   "outputs": [
    {
     "output_type": "stream",
     "name": "stdout",
     "text": [
      "1\n"
     ]
    }
   ],
   "metadata": {}
  },
  {
   "cell_type": "code",
   "execution_count": 28,
   "source": [
    "\n",
    "# 다른사람 풀이\n",
    "\n",
    "# 평가 1 ; 기본적으로 같은 방법임. not(list)를 활용해서 빈 리스트 일 경우 0 (false)를 활용한 리턴값\n",
    "\n",
    "def solution(s):\n",
    "\tanswer = []\n",
    "\tfor i in s:\n",
    "\t\tif not(answer):\n",
    "\t\t\tanswer.append(i)\n",
    "\t\telse:\n",
    "\t\t\tif(answer[-1] == i):\n",
    "\t\t\t\tanswer.pop()\n",
    "\t\t\telse:\n",
    "\t\t\t\tanswer.append(i)\n",
    "\treturn not(answer)"
   ],
   "outputs": [],
   "metadata": {}
  }
 ],
 "metadata": {
  "orig_nbformat": 4,
  "language_info": {
   "name": "python",
   "version": "3.7.3",
   "mimetype": "text/x-python",
   "codemirror_mode": {
    "name": "ipython",
    "version": 3
   },
   "pygments_lexer": "ipython3",
   "nbconvert_exporter": "python",
   "file_extension": ".py"
  },
  "kernelspec": {
   "name": "python3",
   "display_name": "Python 3.7.3 64-bit ('anaconda3': conda)"
  },
  "interpreter": {
   "hash": "50784419fe898108f44419d7095efdb0a1ba7abb2a978f5ac080977cb6168522"
  }
 },
 "nbformat": 4,
 "nbformat_minor": 2
}