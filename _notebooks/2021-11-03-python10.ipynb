{
 "cells": [
  {
   "cell_type": "markdown",
   "source": [
    "# 파이썬 예제10) 멀쩡한 사각형\n",
    "> [Programmers > Summer/Winter Coding(2019) > 멀쩡한 사각형](https://programmers.co.kr/learn/courses/30/lessons/62048?language=python3#)\n",
    "\n",
    "- toc: false\n",
    "- badges: false\n",
    "- comments: true\n",
    "- author: Jay Sung\n",
    "- categories: [ ___  **A. ENGINEERING** __________ > ___ a. PYTHON _________ >\b 1. 문제풀이]"
   ],
   "metadata": {}
  },
  {
   "cell_type": "markdown",
   "source": [
    "- - -\n"
   ],
   "metadata": {}
  },
  {
   "cell_type": "code",
   "execution_count": 28,
   "source": [
    "\n",
    "# 내 풀이\n",
    "\n",
    "## 풀이 전략\n",
    "# 1. 최대공약수(N)으로 나눠 단위 박스 별로 계산\n",
    "# 2. 단위 박스에서 각 높이별로 올림 / 내림으로 계산\n",
    "# 3. 빠지는 박스만큼 전체에서 뺀다\n",
    "\n",
    "## 스스로 생각할 때 비효율적이라고 생각하는 점\n",
    "# float을 조금씩 더해나가면서 올림 혹은 내림을 사용하였기 때문에 시스템오류상 정확히 맞아떨어지지 않는 부분 처리가 귀찮았다.\n",
    "\n",
    "w = 8\n",
    "h = 12\n",
    "\n",
    "import math\n",
    "\n",
    "def solution(w,h):\n",
    "\tanswer = 1\n",
    "\t\n",
    "\t# 전체 박스 갯수\n",
    "\tall = w * h\n",
    "\n",
    "\t# 최대 공약수 구하기\n",
    "\tg = math.gcd(w, h)\n",
    "\tmin_u = min(w/g, h/g)\n",
    "\tmax_u = max(w/g, h/g)\n",
    "\n",
    "\tif min_u == 1:\n",
    "\t\treturn all - g * max_u\n",
    "\telse:\n",
    "\t\tevery_h = max_u / min_u\n",
    "\t\tnot_use_box = math.ceil(max_u / min_u) * 2\n",
    "\t\t\n",
    "\t\tfor _ in range(int(min_u) - 2):\n",
    "\t\t\tup = math.ceil(every_h + max_u / min_u)\n",
    "\t\t\tdown = math.floor(every_h)\n",
    "\n",
    "\t\t\tnot_use_box += up - down\n",
    "\t\t\tevery_h += max_u / min_u\n",
    "\t\t\n",
    "\t\tanswer = all - (not_use_box * g)\n",
    "\n",
    "\t\treturn answer\n",
    "\n",
    "print(solution(w,h)) #Return 80"
   ],
   "outputs": [
    {
     "output_type": "stream",
     "name": "stdout",
     "text": [
      "80\n"
     ]
    }
   ],
   "metadata": {}
  },
  {
   "cell_type": "code",
   "execution_count": 31,
   "source": [
    "\n",
    "# 다른사람 풀이 - 수학적 사고력 이용\n",
    "\n",
    "w = 8\n",
    "h = 12\n",
    "\n",
    "def solution(w,h):\n",
    "\treturn w * h - (w/math.gcd(w, h) + h/math.gcd(w, h) - 1) * math.gcd(w, h)\n",
    "\n",
    "print(solution(w,h))"
   ],
   "outputs": [
    {
     "output_type": "stream",
     "name": "stdout",
     "text": [
      "80.0\n"
     ]
    }
   ],
   "metadata": {}
  }
 ],
 "metadata": {
  "orig_nbformat": 4,
  "language_info": {
   "name": "python",
   "version": "3.7.3",
   "mimetype": "text/x-python",
   "codemirror_mode": {
    "name": "ipython",
    "version": 3
   },
   "pygments_lexer": "ipython3",
   "nbconvert_exporter": "python",
   "file_extension": ".py"
  },
  "kernelspec": {
   "name": "python3",
   "display_name": "Python 3.7.3 64-bit ('anaconda3': conda)"
  },
  "interpreter": {
   "hash": "50784419fe898108f44419d7095efdb0a1ba7abb2a978f5ac080977cb6168522"
  }
 },
 "nbformat": 4,
 "nbformat_minor": 2
}