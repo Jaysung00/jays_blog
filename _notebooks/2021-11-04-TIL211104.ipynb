{
 "cells": [
  {
   "cell_type": "markdown",
   "source": [
    "# Today I Learned 211104\n",
    "\n",
    "- toc: true\n",
    "- badges: false\n",
    "- comments: true\n",
    "- author: Jay Sung\n",
    "- categories: [TIL]\n"
   ],
   "metadata": {}
  },
  {
   "cell_type": "markdown",
   "source": [
    "- - -\n",
    "\n",
    "**인프런 파이썬 중급 (Inflearn Original)**\n",
    "\n",
    "- 시퀀스(2-1, 2-2, 3)  - 파이썬 시퀀스 실습"
   ],
   "metadata": {}
  },
  {
   "cell_type": "markdown",
   "source": [
    "- - -\n",
    "## 튜플(Tuple) 고급사용\n"
   ],
   "metadata": {}
  },
  {
   "cell_type": "code",
   "execution_count": 5,
   "source": [
    "\n",
    "# Tuple Advanced\n",
    "# Unpacking\n",
    "\n",
    "# b, a = a, b\n",
    "\n",
    "print(divmod(100, 9))\n",
    "print(divmod(*(100, 9)))\n",
    "print(*(divmod(100, 9)))"
   ],
   "outputs": [
    {
     "output_type": "stream",
     "name": "stdout",
     "text": [
      "(11, 1)\n",
      "(11, 1)\n",
      "11 1\n"
     ]
    }
   ],
   "metadata": {}
  },
  {
   "cell_type": "code",
   "execution_count": 10,
   "source": [
    "x, y, *rest = range(10)\n",
    "print(x, y, rest)\n",
    "\n",
    "x, y, *rest = range(2)\n",
    "print(x, y, rest)\n",
    "\n",
    "x, y, *rest = 1, 2, 3, 4, 5  # 컴마만 사용하면 자동으로 튜플되는거 까먹지않기\n",
    "print(x, y, rest)\n",
    "\n",
    "type(rest)  # 왜 튜플이 아니라 리스트인걸까....?"
   ],
   "outputs": [
    {
     "output_type": "stream",
     "name": "stdout",
     "text": [
      "0 1 [2, 3, 4, 5, 6, 7, 8, 9]\n",
      "0 1 []\n",
      "1 2 [3, 4, 5]\n"
     ]
    },
    {
     "output_type": "execute_result",
     "data": {
      "text/plain": [
       "list"
      ]
     },
     "metadata": {},
     "execution_count": 10
    }
   ],
   "metadata": {}
  },
  {
   "cell_type": "markdown",
   "source": [
    "- - -\n",
    "## Mutable(가변) vs Immutable(불변)"
   ],
   "metadata": {}
  },
  {
   "cell_type": "code",
   "execution_count": 14,
   "source": [
    "\n",
    "l = (15, 20 ,25)\n",
    "m = [15, 20 ,25]\n",
    "\n",
    "print(l, id(l))\n",
    "print(m, id(m))\n",
    "\n",
    "l = l * 2\n",
    "m = m * 2\n",
    "\n",
    "print(l, id(l))\n",
    "print(m, id(m))\n",
    "\n",
    "l *= 2\n",
    "m *= 2\n",
    "\n",
    "print(l, id(l)) # 튜플형은 계속 새로운 id값을 만들며 재할당 할 수 밖에없음\n",
    "print(m, id(m)) # 연산자의 활용에 따라 리스트는 자기 자신의 id에 추가를 하기도 한다."
   ],
   "outputs": [
    {
     "output_type": "stream",
     "name": "stdout",
     "text": [
      "(15, 20, 25) 4504239200\n",
      "[15, 20, 25] 4502056648\n",
      "(15, 20, 25, 15, 20, 25) 4504075624\n",
      "[15, 20, 25, 15, 20, 25] 4504115464\n",
      "(15, 20, 25, 15, 20, 25, 15, 20, 25, 15, 20, 25) 4451539992\n",
      "[15, 20, 25, 15, 20, 25, 15, 20, 25, 15, 20, 25] 4504115464\n"
     ]
    }
   ],
   "metadata": {}
  },
  {
   "cell_type": "markdown",
   "source": [
    "- - -\n",
    "## Sort vs Sorted 실습\n"
   ],
   "metadata": {}
  },
  {
   "cell_type": "code",
   "execution_count": 19,
   "source": [
    "\n",
    "## reverse, key=len, key=str.lower, key =func ...\n",
    "\n",
    "# sorted : 정렬 후 새로운 객체 반환\n",
    "f_list = ['orange', 'apple', 'mango', 'papaya', 'lemon', 'strawberry', 'coconut']\n",
    "print('sorted - ', sorted(f_list))\n",
    "print('sorted - ', sorted(f_list, reverse=True)) # 역순\n",
    "print('sorted - ', sorted(f_list, key=len)) # 길이순 정렬\n",
    "print('sorted - ', sorted(f_list, key=lambda x : x[-1])) #(람다)함수를 통해 마지막글자 비교\n",
    "print('sorted - ', sorted(f_list, key=lambda x : x[-1], reverse=True))\n",
    "\n"
   ],
   "outputs": [
    {
     "output_type": "stream",
     "name": "stdout",
     "text": [
      "sorted -  ['apple', 'coconut', 'lemon', 'mango', 'orange', 'papaya', 'strawberry']\n",
      "sorted -  ['strawberry', 'papaya', 'orange', 'mango', 'lemon', 'coconut', 'apple']\n",
      "sorted -  ['apple', 'mango', 'lemon', 'orange', 'papaya', 'coconut', 'strawberry']\n",
      "sorted -  ['papaya', 'orange', 'apple', 'lemon', 'mango', 'coconut', 'strawberry']\n",
      "sorted -  ['strawberry', 'coconut', 'mango', 'lemon', 'orange', 'apple', 'papaya']\n"
     ]
    }
   ],
   "metadata": {}
  },
  {
   "cell_type": "code",
   "execution_count": 22,
   "source": [
    "\n",
    "# sort : 정렬 후 객체 직접 변경\n",
    "\n",
    "# 반환 값 확인(None)\n",
    "print('sort - ', f_list.sort(), f_list)\n",
    "print('sort - ', f_list.sort(reverse=True), f_list)\n",
    "print('sort - ', f_list.sort(key=lambda x : x[-1]), f_list)\n",
    "print('sort - ', f_list.sort(key=lambda x : x[-1], reverse=True), f_list)"
   ],
   "outputs": [
    {
     "output_type": "stream",
     "name": "stdout",
     "text": [
      "sort -  None ['apple', 'coconut', 'lemon', 'mango', 'orange', 'papaya', 'strawberry']\n",
      "sort -  None ['strawberry', 'papaya', 'orange', 'mango', 'lemon', 'coconut', 'apple']\n",
      "sort -  None ['papaya', 'orange', 'apple', 'lemon', 'mango', 'coconut', 'strawberry']\n",
      "sort -  None ['strawberry', 'coconut', 'mango', 'lemon', 'orange', 'apple', 'papaya']\n"
     ]
    }
   ],
   "metadata": {}
  },
  {
   "cell_type": "markdown",
   "source": [
    "- - -\n",
    "## List vs Array(배열) 적합한 사용법은?\n",
    "\n",
    "- list의 장점 : 융통성이 좋다. 다양한 자료형과 범용적 사용\n",
    "- array(배열)의 장점 : 숫자기반의 고속연산에 유리"
   ],
   "metadata": {}
  },
  {
   "cell_type": "markdown",
   "source": [
    "- - -\n",
    "## 해시 테이블 (Hashtable)\n",
    "\n",
    "- key에 value를 저장하는 구조\n",
    "- 파이썬에서는 dictionary가 해시테이블의 예이다.\n",
    "- 장점은, 키 값의 연산 결과에 따라 직접 접근이 가능한 구조\n",
    "- key값을 해싱함수를 통해 해시주소값을 찾아내고, 그것을 기반으로 key에 대한 value를 참조하는 원리"
   ],
   "metadata": {}
  },
  {
   "cell_type": "code",
   "execution_count": 25,
   "source": [
    "\n",
    "# Dict 구조\n",
    "print(__builtins__.__dict__) # key-value 구조"
   ],
   "outputs": [
    {
     "output_type": "stream",
     "name": "stdout",
     "text": [
      "{'__name__': 'builtins', '__doc__': \"Built-in functions, exceptions, and other objects.\\n\\nNoteworthy: None is the `nil' object; Ellipsis represents `...' in slices.\", '__package__': '', '__loader__': <class '_frozen_importlib.BuiltinImporter'>, '__spec__': ModuleSpec(name='builtins', loader=<class '_frozen_importlib.BuiltinImporter'>), '__build_class__': <built-in function __build_class__>, '__import__': <built-in function __import__>, 'abs': <built-in function abs>, 'all': <built-in function all>, 'any': <built-in function any>, 'ascii': <built-in function ascii>, 'bin': <built-in function bin>, 'breakpoint': <built-in function breakpoint>, 'callable': <built-in function callable>, 'chr': <built-in function chr>, 'compile': <built-in function compile>, 'delattr': <built-in function delattr>, 'dir': <built-in function dir>, 'divmod': <built-in function divmod>, 'eval': <built-in function eval>, 'exec': <built-in function exec>, 'format': <built-in function format>, 'getattr': <built-in function getattr>, 'globals': <built-in function globals>, 'hasattr': <built-in function hasattr>, 'hash': <built-in function hash>, 'hex': <built-in function hex>, 'id': <built-in function id>, 'input': <bound method Kernel.raw_input of <ipykernel.ipkernel.IPythonKernel object at 0x10c589d68>>, 'isinstance': <built-in function isinstance>, 'issubclass': <built-in function issubclass>, 'iter': <built-in function iter>, 'len': <built-in function len>, 'locals': <built-in function locals>, 'max': <built-in function max>, 'min': <built-in function min>, 'next': <built-in function next>, 'oct': <built-in function oct>, 'ord': <built-in function ord>, 'pow': <built-in function pow>, 'print': <built-in function print>, 'repr': <built-in function repr>, 'round': <built-in function round>, 'setattr': <built-in function setattr>, 'sorted': <built-in function sorted>, 'sum': <built-in function sum>, 'vars': <built-in function vars>, 'None': None, 'Ellipsis': Ellipsis, 'NotImplemented': NotImplemented, 'False': False, 'True': True, 'bool': <class 'bool'>, 'memoryview': <class 'memoryview'>, 'bytearray': <class 'bytearray'>, 'bytes': <class 'bytes'>, 'classmethod': <class 'classmethod'>, 'complex': <class 'complex'>, 'dict': <class 'dict'>, 'enumerate': <class 'enumerate'>, 'filter': <class 'filter'>, 'float': <class 'float'>, 'frozenset': <class 'frozenset'>, 'property': <class 'property'>, 'int': <class 'int'>, 'list': <class 'list'>, 'map': <class 'map'>, 'object': <class 'object'>, 'range': <class 'range'>, 'reversed': <class 'reversed'>, 'set': <class 'set'>, 'slice': <class 'slice'>, 'staticmethod': <class 'staticmethod'>, 'str': <class 'str'>, 'super': <class 'super'>, 'tuple': <class 'tuple'>, 'type': <class 'type'>, 'zip': <class 'zip'>, '__debug__': True, 'BaseException': <class 'BaseException'>, 'Exception': <class 'Exception'>, 'TypeError': <class 'TypeError'>, 'StopAsyncIteration': <class 'StopAsyncIteration'>, 'StopIteration': <class 'StopIteration'>, 'GeneratorExit': <class 'GeneratorExit'>, 'SystemExit': <class 'SystemExit'>, 'KeyboardInterrupt': <class 'KeyboardInterrupt'>, 'ImportError': <class 'ImportError'>, 'ModuleNotFoundError': <class 'ModuleNotFoundError'>, 'OSError': <class 'OSError'>, 'EnvironmentError': <class 'OSError'>, 'IOError': <class 'OSError'>, 'EOFError': <class 'EOFError'>, 'RuntimeError': <class 'RuntimeError'>, 'RecursionError': <class 'RecursionError'>, 'NotImplementedError': <class 'NotImplementedError'>, 'NameError': <class 'NameError'>, 'UnboundLocalError': <class 'UnboundLocalError'>, 'AttributeError': <class 'AttributeError'>, 'SyntaxError': <class 'SyntaxError'>, 'IndentationError': <class 'IndentationError'>, 'TabError': <class 'TabError'>, 'LookupError': <class 'LookupError'>, 'IndexError': <class 'IndexError'>, 'KeyError': <class 'KeyError'>, 'ValueError': <class 'ValueError'>, 'UnicodeError': <class 'UnicodeError'>, 'UnicodeEncodeError': <class 'UnicodeEncodeError'>, 'UnicodeDecodeError': <class 'UnicodeDecodeError'>, 'UnicodeTranslateError': <class 'UnicodeTranslateError'>, 'AssertionError': <class 'AssertionError'>, 'ArithmeticError': <class 'ArithmeticError'>, 'FloatingPointError': <class 'FloatingPointError'>, 'OverflowError': <class 'OverflowError'>, 'ZeroDivisionError': <class 'ZeroDivisionError'>, 'SystemError': <class 'SystemError'>, 'ReferenceError': <class 'ReferenceError'>, 'MemoryError': <class 'MemoryError'>, 'BufferError': <class 'BufferError'>, 'Warning': <class 'Warning'>, 'UserWarning': <class 'UserWarning'>, 'DeprecationWarning': <class 'DeprecationWarning'>, 'PendingDeprecationWarning': <class 'PendingDeprecationWarning'>, 'SyntaxWarning': <class 'SyntaxWarning'>, 'RuntimeWarning': <class 'RuntimeWarning'>, 'FutureWarning': <class 'FutureWarning'>, 'ImportWarning': <class 'ImportWarning'>, 'UnicodeWarning': <class 'UnicodeWarning'>, 'BytesWarning': <class 'BytesWarning'>, 'ResourceWarning': <class 'ResourceWarning'>, 'ConnectionError': <class 'ConnectionError'>, 'BlockingIOError': <class 'BlockingIOError'>, 'BrokenPipeError': <class 'BrokenPipeError'>, 'ChildProcessError': <class 'ChildProcessError'>, 'ConnectionAbortedError': <class 'ConnectionAbortedError'>, 'ConnectionRefusedError': <class 'ConnectionRefusedError'>, 'ConnectionResetError': <class 'ConnectionResetError'>, 'FileExistsError': <class 'FileExistsError'>, 'FileNotFoundError': <class 'FileNotFoundError'>, 'IsADirectoryError': <class 'IsADirectoryError'>, 'NotADirectoryError': <class 'NotADirectoryError'>, 'InterruptedError': <class 'InterruptedError'>, 'PermissionError': <class 'PermissionError'>, 'ProcessLookupError': <class 'ProcessLookupError'>, 'TimeoutError': <class 'TimeoutError'>, 'open': <built-in function open>, 'copyright': Copyright (c) 2001-2019 Python Software Foundation.\n",
      "All Rights Reserved.\n",
      "\n",
      "Copyright (c) 2000 BeOpen.com.\n",
      "All Rights Reserved.\n",
      "\n",
      "Copyright (c) 1995-2001 Corporation for National Research Initiatives.\n",
      "All Rights Reserved.\n",
      "\n",
      "Copyright (c) 1991-1995 Stichting Mathematisch Centrum, Amsterdam.\n",
      "All Rights Reserved., 'credits':     Thanks to CWI, CNRI, BeOpen.com, Zope Corporation and a cast of thousands\n",
      "    for supporting Python development.  See www.python.org for more information., 'license': Type license() to see the full license text, 'help': Type help() for interactive help, or help(object) for help about object., '__IPYTHON__': True, 'display': <function display at 0x1097cf400>, 'get_ipython': <bound method InteractiveShell.get_ipython of <ipykernel.zmqshell.ZMQInteractiveShell object at 0x10aa57ac8>>}\n"
     ]
    }
   ],
   "metadata": {}
  },
  {
   "cell_type": "code",
   "execution_count": 29,
   "source": [
    "\n",
    "# Hash 값 확인\n",
    "\n",
    "t1 = (10, 20, (30, 40, 50))\n",
    "t2 = (10, 20, [30, 40, 50])\n",
    "\n",
    "print(hash(t1)) # hash() 안에는 불변형만 가능하다\n",
    "print(hash(t2)) # 리스트는 수정이 가능하기 때문에 해시값을 뽑아낼 수 없다."
   ],
   "outputs": [
    {
     "output_type": "stream",
     "name": "stdout",
     "text": [
      "5737367089334957572\n"
     ]
    },
    {
     "output_type": "error",
     "ename": "TypeError",
     "evalue": "unhashable type: 'list'",
     "traceback": [
      "\u001b[0;31m---------------------------------------------------------------------------\u001b[0m",
      "\u001b[0;31mTypeError\u001b[0m                                 Traceback (most recent call last)",
      "\u001b[0;32m<ipython-input-29-db22618e85af>\u001b[0m in \u001b[0;36m<module>\u001b[0;34m\u001b[0m\n\u001b[1;32m      6\u001b[0m \u001b[0;34m\u001b[0m\u001b[0m\n\u001b[1;32m      7\u001b[0m \u001b[0mprint\u001b[0m\u001b[0;34m(\u001b[0m\u001b[0mhash\u001b[0m\u001b[0;34m(\u001b[0m\u001b[0mt1\u001b[0m\u001b[0;34m)\u001b[0m\u001b[0;34m)\u001b[0m \u001b[0;31m# hash() 안에는 불변형만 가능하다\u001b[0m\u001b[0;34m\u001b[0m\u001b[0;34m\u001b[0m\u001b[0m\n\u001b[0;32m----> 8\u001b[0;31m \u001b[0mprint\u001b[0m\u001b[0;34m(\u001b[0m\u001b[0mhash\u001b[0m\u001b[0;34m(\u001b[0m\u001b[0mt2\u001b[0m\u001b[0;34m)\u001b[0m\u001b[0;34m)\u001b[0m \u001b[0;31m# 리스트는 수정이 가능하기 때문에 해시값을 뽑아낼 수 없다.\u001b[0m\u001b[0;34m\u001b[0m\u001b[0;34m\u001b[0m\u001b[0m\n\u001b[0m",
      "\u001b[0;31mTypeError\u001b[0m: unhashable type: 'list'"
     ]
    }
   ],
   "metadata": {}
  },
  {
   "cell_type": "markdown",
   "source": [
    "- - -\n",
    "## Dict 생성 고급 예제"
   ],
   "metadata": {}
  },
  {
   "cell_type": "markdown",
   "source": [
    "- - -\n",
    "## Setdefault 사용법"
   ],
   "metadata": {}
  },
  {
   "cell_type": "code",
   "execution_count": 33,
   "source": [
    "\n",
    "## Dict Setdefault 예제\n",
    "\n",
    "# source라는 tuple을 해시테이블로 만들어보자.\n",
    "source = (('k1', 'val1'),\n",
    "\t\t  ('k1', 'val2'),\n",
    "\t\t  ('k2', 'val3'),\n",
    "\t\t  ('k2', 'val4'),\n",
    "\t\t  ('k2', 'val5'))\n",
    "\n",
    "new_dict1 = {}\n",
    "new_dict2 = {}\n",
    "\n",
    "# No use Setdefault\n",
    "for k, v in source:\n",
    "\tif k in new_dict1:\n",
    "\t\tnew_dict1[k].append(v)\n",
    "\telse:\n",
    "\t\tnew_dict1[k] = [v]\n",
    "\n",
    "print(new_dict1)\n",
    "\n",
    "# Use Setdefault\n",
    "for k, v in source:\n",
    "\tnew_dict2.setdefault(k, []).append(v)\n",
    "\n",
    "print(new_dict2)\n",
    "\n",
    "# 주의\n",
    "new_dict3 = {k : v for k, v in source}\n",
    "\n",
    "print(new_dict3)  # 같은 key값은 덮어써버리므로 원하는 모양이 아님"
   ],
   "outputs": [
    {
     "output_type": "stream",
     "name": "stdout",
     "text": [
      "{'k1': ['val1', 'val2'], 'k2': ['val3', 'val4', 'val5']}\n",
      "{'k1': ['val1', 'val2'], 'k2': ['val3', 'val4', 'val5']}\n",
      "{'k1': 'val2', 'k2': 'val5'}\n"
     ]
    }
   ],
   "metadata": {}
  }
 ],
 "metadata": {
  "orig_nbformat": 4,
  "language_info": {
   "name": "python",
   "version": "3.7.3",
   "mimetype": "text/x-python",
   "codemirror_mode": {
    "name": "ipython",
    "version": 3
   },
   "pygments_lexer": "ipython3",
   "nbconvert_exporter": "python",
   "file_extension": ".py"
  },
  "kernelspec": {
   "name": "python3",
   "display_name": "Python 3.7.3 64-bit ('anaconda3': conda)"
  },
  "interpreter": {
   "hash": "50784419fe898108f44419d7095efdb0a1ba7abb2a978f5ac080977cb6168522"
  }
 },
 "nbformat": 4,
 "nbformat_minor": 2
}