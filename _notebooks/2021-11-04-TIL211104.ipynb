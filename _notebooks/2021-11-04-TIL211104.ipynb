{
 "cells": [
  {
   "cell_type": "markdown",
   "source": [
    "# Today I Learned 211104\n",
    "\n",
    "- toc: true\n",
    "- badges: false\n",
    "- comments: true\n",
    "- author: Jay Sung\n",
    "- categories: [TIL]\n"
   ],
   "metadata": {}
  },
  {
   "cell_type": "markdown",
   "source": [
    "- - -\n",
    "\n",
    "**인프런 파이썬 중급 (Inflearn Original)**\n",
    "\n",
    "- 시퀀스(2-1, 2-2)  - 파이썬 시퀀스 실습\n",
    "- 시퀀스(3)"
   ],
   "metadata": {}
  },
  {
   "cell_type": "markdown",
   "source": [
    "- - -\n",
    "## 튜플(Tuple) 고급사용\n"
   ],
   "metadata": {}
  },
  {
   "cell_type": "code",
   "execution_count": 5,
   "source": [
    "\n",
    "# Tuple Advanced\n",
    "# Unpacking\n",
    "\n",
    "# b, a = a, b\n",
    "\n",
    "print(divmod(100, 9))\n",
    "print(divmod(*(100, 9)))\n",
    "print(*(divmod(100, 9)))"
   ],
   "outputs": [
    {
     "output_type": "stream",
     "name": "stdout",
     "text": [
      "(11, 1)\n",
      "(11, 1)\n",
      "11 1\n"
     ]
    }
   ],
   "metadata": {}
  },
  {
   "cell_type": "code",
   "execution_count": 10,
   "source": [
    "x, y, *rest = range(10)\n",
    "print(x, y, rest)\n",
    "\n",
    "x, y, *rest = range(2)\n",
    "print(x, y, rest)\n",
    "\n",
    "x, y, *rest = 1, 2, 3, 4, 5  # 컴마만 사용하면 자동으로 튜플되는거 까먹지않기\n",
    "print(x, y, rest)\n",
    "\n",
    "type(rest)  # 왜 튜플이 아니라 리스트인걸까....?"
   ],
   "outputs": [
    {
     "output_type": "stream",
     "name": "stdout",
     "text": [
      "0 1 [2, 3, 4, 5, 6, 7, 8, 9]\n",
      "0 1 []\n",
      "1 2 [3, 4, 5]\n"
     ]
    },
    {
     "output_type": "execute_result",
     "data": {
      "text/plain": [
       "list"
      ]
     },
     "metadata": {},
     "execution_count": 10
    }
   ],
   "metadata": {}
  },
  {
   "cell_type": "markdown",
   "source": [
    "- - -\n",
    "## Mutable(가변) vs Immutable(불변)"
   ],
   "metadata": {}
  },
  {
   "cell_type": "code",
   "execution_count": 14,
   "source": [
    "\n",
    "l = (15, 20 ,25)\n",
    "m = [15, 20 ,25]\n",
    "\n",
    "print(l, id(l))\n",
    "print(m, id(m))\n",
    "\n",
    "l = l * 2\n",
    "m = m * 2\n",
    "\n",
    "print(l, id(l))\n",
    "print(m, id(m))\n",
    "\n",
    "l *= 2\n",
    "m *= 2\n",
    "\n",
    "print(l, id(l)) # 튜플형은 계속 새로운 id값을 만들며 재할당 할 수 밖에없음\n",
    "print(m, id(m)) # 연산자의 활용에 따라 리스트는 자기 자신의 id에 추가를 하기도 한다."
   ],
   "outputs": [
    {
     "output_type": "stream",
     "name": "stdout",
     "text": [
      "(15, 20, 25) 4504239200\n",
      "[15, 20, 25] 4502056648\n",
      "(15, 20, 25, 15, 20, 25) 4504075624\n",
      "[15, 20, 25, 15, 20, 25] 4504115464\n",
      "(15, 20, 25, 15, 20, 25, 15, 20, 25, 15, 20, 25) 4451539992\n",
      "[15, 20, 25, 15, 20, 25, 15, 20, 25, 15, 20, 25] 4504115464\n"
     ]
    }
   ],
   "metadata": {}
  },
  {
   "cell_type": "markdown",
   "source": [
    "- - -\n",
    "## Sort vs Sorted 실습\n"
   ],
   "metadata": {}
  },
  {
   "cell_type": "code",
   "execution_count": 19,
   "source": [
    "\n",
    "## reverse, key=len, key=str.lower, key =func ...\n",
    "\n",
    "# sorted : 정렬 후 새로운 객체 반환\n",
    "f_list = ['orange', 'apple', 'mango', 'papaya', 'lemon', 'strawberry', 'coconut']\n",
    "print('sorted - ', sorted(f_list))\n",
    "print('sorted - ', sorted(f_list, reverse=True)) # 역순\n",
    "print('sorted - ', sorted(f_list, key=len)) # 길이순 정렬\n",
    "print('sorted - ', sorted(f_list, key=lambda x : x[-1])) #(람다)함수를 통해 마지막글자 비교\n",
    "print('sorted - ', sorted(f_list, key=lambda x : x[-1], reverse=True))\n",
    "\n"
   ],
   "outputs": [
    {
     "output_type": "stream",
     "name": "stdout",
     "text": [
      "sorted -  ['apple', 'coconut', 'lemon', 'mango', 'orange', 'papaya', 'strawberry']\n",
      "sorted -  ['strawberry', 'papaya', 'orange', 'mango', 'lemon', 'coconut', 'apple']\n",
      "sorted -  ['apple', 'mango', 'lemon', 'orange', 'papaya', 'coconut', 'strawberry']\n",
      "sorted -  ['papaya', 'orange', 'apple', 'lemon', 'mango', 'coconut', 'strawberry']\n",
      "sorted -  ['strawberry', 'coconut', 'mango', 'lemon', 'orange', 'apple', 'papaya']\n"
     ]
    }
   ],
   "metadata": {}
  },
  {
   "cell_type": "code",
   "execution_count": 22,
   "source": [
    "\n",
    "# sort : 정렬 후 객체 직접 변경\n",
    "\n",
    "# 반환 값 확인(None)\n",
    "print('sort - ', f_list.sort(), f_list)\n",
    "print('sort - ', f_list.sort(reverse=True), f_list)\n",
    "print('sort - ', f_list.sort(key=lambda x : x[-1]), f_list)\n",
    "print('sort - ', f_list.sort(key=lambda x : x[-1], reverse=True), f_list)"
   ],
   "outputs": [
    {
     "output_type": "stream",
     "name": "stdout",
     "text": [
      "sort -  None ['apple', 'coconut', 'lemon', 'mango', 'orange', 'papaya', 'strawberry']\n",
      "sort -  None ['strawberry', 'papaya', 'orange', 'mango', 'lemon', 'coconut', 'apple']\n",
      "sort -  None ['papaya', 'orange', 'apple', 'lemon', 'mango', 'coconut', 'strawberry']\n",
      "sort -  None ['strawberry', 'coconut', 'mango', 'lemon', 'orange', 'apple', 'papaya']\n"
     ]
    }
   ],
   "metadata": {}
  },
  {
   "cell_type": "markdown",
   "source": [
    "- - -\n",
    "## List vs Array(배열) 적합한 사용법은?\n",
    "\n",
    "- list의 장점 : 융통성이 좋다. 다양한 자료형과 범용적 사용\n",
    "- array(배열)의 장점 : 숫자기반의 고속연산에 유리"
   ],
   "metadata": {}
  }
 ],
 "metadata": {
  "orig_nbformat": 4,
  "language_info": {
   "name": "python",
   "version": "3.7.3",
   "mimetype": "text/x-python",
   "codemirror_mode": {
    "name": "ipython",
    "version": 3
   },
   "pygments_lexer": "ipython3",
   "nbconvert_exporter": "python",
   "file_extension": ".py"
  },
  "kernelspec": {
   "name": "python3",
   "display_name": "Python 3.7.3 64-bit ('anaconda3': conda)"
  },
  "interpreter": {
   "hash": "50784419fe898108f44419d7095efdb0a1ba7abb2a978f5ac080977cb6168522"
  }
 },
 "nbformat": 4,
 "nbformat_minor": 2
}