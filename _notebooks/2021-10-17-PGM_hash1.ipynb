{
 "cells": [
  {
   "cell_type": "markdown",
   "source": [
    "# 파이썬 예제2) 완주하지 못한 선수\n",
    "> [Programmers (Coding Test Practice > 해시 > 완주하지 못한 선수)](https://programmers.co.kr/learn/courses/30/lessons/42576?language=python3)\n",
    "\n",
    "- toc: false\n",
    "- badges: false\n",
    "- comments: true\n",
    "- author: Jay Sung\n",
    "- categories: [ ___  **A. ENGINEERING** __________ > ___ a. PYTHON _________ >\b 1. 문제풀이]"
   ],
   "metadata": {}
  },
  {
   "cell_type": "markdown",
   "source": [
    "- - -\n",
    "### Description\n",
    "\n",
    "수많은 마라톤 선수들이 마라톤에 참여하였습니다. 단 한 명의 선수를 제외하고는 모든 선수가 마라톤을 완주하였습니다.\n",
    "\n",
    "마라톤에 참여한 선수들의 이름이 담긴 배열 participant와 완주한 선수들의 이름이 담긴 배열 completion이 주어질 때, 완주하지 못한 선수의 이름을 return 하도록 solution 함수를 작성해주세요.\n",
    "\n",
    "### 제한사항\n",
    "\n",
    "마라톤 경기에 참여한 선수의 수는 1명 이상 100,000명 이하입니다.\n",
    "completion의 길이는 participant의 길이보다 1 작습니다.\n",
    "참가자의 이름은 1개 이상 20개 이하의 알파벳 소문자로 이루어져 있습니다.\n",
    "참가자 중에는 동명이인이 있을 수 있습니다.\n",
    "\n",
    "### 입출력 예\n",
    "\n",
    "|participant|completion|return|\n",
    "|---|---|---|\n",
    "|[\"leo\", \"kiki\", \"eden\"]\t|[\"eden\", \"kiki\"]\t|\"leo\"|\n",
    "|[\"marina\", \"josipa\", \"nikola\", \"vinko\", \"filipa\"]\t|[\"josipa\", \"filipa\", \"marina\", \"nikola\"]\t|\"vinko\"|\n",
    "|[\"mislav\", \"stanko\", \"mislav\", \"ana\"]\t|[\"stanko\", \"ana\", \"mislav\"]\t|\"mislav\"|\n",
    "\n",
    "입출력 예 설명\n",
    "\n",
    "예제 #1\n",
    "\n",
    "\"leo\"는 참여자 명단에는 있지만, 완주자 명단에는 없기 때문에 완주하지 못했습니다.\n",
    "\n",
    "예제 #2\n",
    "\n",
    "\"vinko\"는 참여자 명단에는 있지만, 완주자 명단에는 없기 때문에 완주하지 못했습니다.\n",
    "\n",
    "예제 #3\n",
    "\n",
    "\"mislav\"는 참여자 명단에는 두 명이 있지만, 완주자 명단에는 한 명밖에 없기 때문에 한명은 완주하지 못했습니다.\n",
    "\n"
   ],
   "metadata": {}
  },
  {
   "cell_type": "code",
   "execution_count": 25,
   "source": [
    "participant = [\"leo\", \"kiki\", \"eden\"]\n",
    "completion = [\"eden\", \"kiki\"]"
   ],
   "outputs": [],
   "metadata": {}
  },
  {
   "cell_type": "code",
   "execution_count": 3,
   "source": [
    "\n",
    "# 첫번째 시도\n",
    "def solution(participant, completion):\n",
    "    for i in range(len(completion)):\n",
    "        participant.remove(completion[i])\n",
    "    answer = participant[0]\n",
    "    return answer\n",
    "\n",
    "print(solution(participant, completion))  # 정답은 무사히 나오지만 해시 구조를 사용하지 않았으므로, 효율성 면에서 오답처리"
   ],
   "outputs": [
    {
     "output_type": "stream",
     "name": "stdout",
     "text": [
      "leo\n"
     ]
    }
   ],
   "metadata": {}
  },
  {
   "cell_type": "markdown",
   "source": [
    "> 해시란?\n",
    ">\n",
    ">해시(hash)란 데이터의 효율적 관리를 목적으로 임의의 길이의 데이터를 고정된 길이의 데이터로 매핑하는 자료구조이다.\n",
    ">이 때 매핑 전 원래 데이터의 값을 키(key), 매핑 후 데이터의 값을 해시값(hash value), 매핑하는 과정 자체를 해싱(hashing)라고 한다.\n"
   ],
   "metadata": {}
  },
  {
   "cell_type": "code",
   "execution_count": 29,
   "source": [
    "\n",
    "# 풀이 1\n",
    "# 해시\n",
    "def solution(participant, completion):\n",
    "\thash = {}\n",
    "\tfor i in participant:\n",
    "\t\tif i in hash:\n",
    "\t\t\thash[i] += 1\n",
    "\t\telse:\n",
    "\t\t\thash[i] = 1\n",
    "\tfor i in completion:\n",
    "\t\tif hash[i] == 1:\n",
    "\t\t\tdel hash[i]\n",
    "\t\telse:\n",
    "\t\t\thash[i] -= 1\n",
    "\tanswer = list(hash.keys())[0]\n",
    "\treturn answer\n",
    "\n",
    "print(solution(participant, completion))"
   ],
   "outputs": [
    {
     "output_type": "stream",
     "name": "stdout",
     "text": [
      "leo\n"
     ]
    }
   ],
   "metadata": {}
  },
  {
   "cell_type": "code",
   "execution_count": 9,
   "source": [
    "\n",
    "# 풀이 2\n",
    "# 데이터의 개수를 셀 때 유용한 파이썬의 collections 모듈의 Counter 클래스 사용\n",
    "\n",
    "import collections\n",
    "\n",
    "def solution(participant, completion):\n",
    "    answer = collections.Counter(participant) - collections.Counter(completion)\n",
    "    return list(answer.keys())[0]\n",
    "\n",
    "print(solution(participant, completion))"
   ],
   "outputs": [
    {
     "output_type": "stream",
     "name": "stdout",
     "text": [
      "leo\n"
     ]
    }
   ],
   "metadata": {}
  },
  {
   "cell_type": "code",
   "execution_count": 32,
   "source": [
    "\n",
    "# 풀이 3\n",
    "# 별도의 풀이. 정렬해서 다른 부분에서 찾는 방법\n",
    "def solution(participant, completion):\n",
    "\tparticipant.sort()\n",
    "\tcompletion.sort()\n",
    "\tfor i in range(len(completion)):\n",
    "\t\tif participant[i] != completion[i]:\n",
    "\t\t\treturn participant[i]\n",
    "\treturn participant[len(participant)-1]\n",
    "\n",
    "print(solution(participant, completion))"
   ],
   "outputs": [
    {
     "output_type": "stream",
     "name": "stdout",
     "text": [
      "['eden', 'kiki', 'leo']\n",
      "['eden', 'kiki']\n",
      "leo\n"
     ]
    }
   ],
   "metadata": {}
  }
 ],
 "metadata": {
  "orig_nbformat": 4,
  "language_info": {
   "name": "python",
   "version": "3.7.3",
   "mimetype": "text/x-python",
   "codemirror_mode": {
    "name": "ipython",
    "version": 3
   },
   "pygments_lexer": "ipython3",
   "nbconvert_exporter": "python",
   "file_extension": ".py"
  },
  "kernelspec": {
   "name": "python3",
   "display_name": "Python 3.7.3 64-bit ('anaconda3': conda)"
  },
  "interpreter": {
   "hash": "50784419fe898108f44419d7095efdb0a1ba7abb2a978f5ac080977cb6168522"
  }
 },
 "nbformat": 4,
 "nbformat_minor": 2
}