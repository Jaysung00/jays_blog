{
 "cells": [
  {
   "cell_type": "markdown",
   "source": [
    "# Today I Learned 211018\n",
    "\n",
    "- toc: false\n",
    "- badges: false\n",
    "- comments: true\n",
    "- author: Jay Sung\n",
    "- categories: [ENG > A. PYTHON > b. 인프런 파이썬 강의]\n"
   ],
   "metadata": {}
  },
  {
   "cell_type": "markdown",
   "source": [
    "- - -\n",
    "\n",
    "## 인프런 파이썬 중급 (Inflearn Original)\n",
    "매직 메소드(1-1, 2-1, 2-2)\n",
    "\n",
    "- - -\n",
    "#### 파이썬의 핵심\n",
    "- 시퀀스(Sequence)\n",
    "- 반복(Iterator)\n",
    "- 함수(Functions)\n",
    "- 클래스(Class)\n",
    "\n",
    "- - -\n",
    "### 매직 메소드 (스페셜 메소드)란?\n",
    "\n",
    "클래스 안에 정의할 수 있는 특별한 Built-in 메서드\n"
   ],
   "metadata": {}
  },
  {
   "cell_type": "code",
   "execution_count": 1,
   "source": [
    "\n",
    "# 기본형\n",
    "print(int)\n",
    "print(float)\n",
    "\n",
    "# 모든 속성 및 메소드 출력\n",
    "print(dir(int))\n",
    "print(dir(float))"
   ],
   "outputs": [
    {
     "output_type": "stream",
     "name": "stdout",
     "text": [
      "<class 'int'>\n",
      "<class 'float'>\n",
      "['__abs__', '__add__', '__and__', '__bool__', '__ceil__', '__class__', '__delattr__', '__dir__', '__divmod__', '__doc__', '__eq__', '__float__', '__floor__', '__floordiv__', '__format__', '__ge__', '__getattribute__', '__getnewargs__', '__gt__', '__hash__', '__index__', '__init__', '__init_subclass__', '__int__', '__invert__', '__le__', '__lshift__', '__lt__', '__mod__', '__mul__', '__ne__', '__neg__', '__new__', '__or__', '__pos__', '__pow__', '__radd__', '__rand__', '__rdivmod__', '__reduce__', '__reduce_ex__', '__repr__', '__rfloordiv__', '__rlshift__', '__rmod__', '__rmul__', '__ror__', '__round__', '__rpow__', '__rrshift__', '__rshift__', '__rsub__', '__rtruediv__', '__rxor__', '__setattr__', '__sizeof__', '__str__', '__sub__', '__subclasshook__', '__truediv__', '__trunc__', '__xor__', 'bit_length', 'conjugate', 'denominator', 'from_bytes', 'imag', 'numerator', 'real', 'to_bytes']\n",
      "['__abs__', '__add__', '__bool__', '__class__', '__delattr__', '__dir__', '__divmod__', '__doc__', '__eq__', '__float__', '__floordiv__', '__format__', '__ge__', '__getattribute__', '__getformat__', '__getnewargs__', '__gt__', '__hash__', '__init__', '__init_subclass__', '__int__', '__le__', '__lt__', '__mod__', '__mul__', '__ne__', '__neg__', '__new__', '__pos__', '__pow__', '__radd__', '__rdivmod__', '__reduce__', '__reduce_ex__', '__repr__', '__rfloordiv__', '__rmod__', '__rmul__', '__round__', '__rpow__', '__rsub__', '__rtruediv__', '__set_format__', '__setattr__', '__sizeof__', '__str__', '__sub__', '__subclasshook__', '__truediv__', '__trunc__', 'as_integer_ratio', 'conjugate', 'fromhex', 'hex', 'imag', 'is_integer', 'real']\n"
     ]
    }
   ],
   "metadata": {}
  },
  {
   "cell_type": "code",
   "execution_count": 4,
   "source": [
    "n = 10\n",
    "\n",
    "print(n + 100)\n",
    "\n",
    "# 여기서 내부적으로 일어나는 일.\n",
    "print(n.__add__(100)) #int class의 매직메소드인 __add__가 호출됨"
   ],
   "outputs": [
    {
     "output_type": "stream",
     "name": "stdout",
     "text": [
      "110\n",
      "110\n"
     ]
    }
   ],
   "metadata": {}
  },
  {
   "cell_type": "code",
   "execution_count": 9,
   "source": [
    "print(bool(n), n.__bool__())  #내부적으로 일어나는 일\n",
    "print(n * 100, n.__mul__(100))"
   ],
   "outputs": [
    {
     "output_type": "stream",
     "name": "stdout",
     "text": [
      "True True\n",
      "1000 1000\n"
     ]
    }
   ],
   "metadata": {}
  },
  {
   "cell_type": "code",
   "execution_count": 23,
   "source": [
    "\n",
    "#클래스 예제1\n",
    "class Fruit:\n",
    "\tdef __init__(self, name, price):\n",
    "\t\tself._name = name\n",
    "\t\tself._price = price\n",
    "\t\n",
    "\tdef __str__(self):\n",
    "\t\treturn 'Fruit Class Info : {} , {}'.format(self._name, self._price)\n",
    "\t\n",
    "\tdef __add__(self, x):\n",
    "\t\tprint('Called >> __add__')\n",
    "\t\treturn self._price + x._price\n",
    "\n",
    "\tdef __sub__(self, x):\n",
    "\t\tprint('Called >> __sub__')\n",
    "\t\treturn self._price - x._price\n",
    "\n",
    "\tdef __le__(self, x):\n",
    "\t\tprint('Called >> __le__')\n",
    "\t\tif self._price <= x._price:\n",
    "\t\t\treturn True\n",
    "\t\telse:\n",
    "\t\t\treturn False\n",
    "\n",
    "\tdef __ge__(self, x):\n",
    "\t\tprint('Called >> __ge__')\n",
    "\t\tif self._price >= x._price:\n",
    "\t\t\treturn True\n",
    "\t\telse:\n",
    "\t\t\treturn False"
   ],
   "outputs": [],
   "metadata": {}
  },
  {
   "cell_type": "code",
   "execution_count": 24,
   "source": [
    "\n",
    "#인스턴스 생성\n",
    "s1 = Fruit('Orange', 7500)\n",
    "s2 = Fruit('Banana', 3000)"
   ],
   "outputs": [],
   "metadata": {}
  },
  {
   "cell_type": "code",
   "execution_count": 25,
   "source": [
    "\n",
    "#일반적인 계산\n",
    "print(s1._price + s2._price)  \n",
    "##코드 양도 늘어나고 가독성도 떨어지므로 좋지않은 방식"
   ],
   "outputs": [
    {
     "output_type": "stream",
     "name": "stdout",
     "text": [
      "10500\n"
     ]
    }
   ],
   "metadata": {}
  },
  {
   "cell_type": "code",
   "execution_count": 26,
   "source": [
    "\n",
    "# __add__ 매소드의 이용\n",
    "print(s1 + s2) \n",
    "## + 를 사용하므로써 __add__가 실행되는 빌트인 매직메소드"
   ],
   "outputs": [
    {
     "output_type": "stream",
     "name": "stdout",
     "text": [
      "Called >> __add__\n",
      "10500\n"
     ]
    }
   ],
   "metadata": {}
  },
  {
   "cell_type": "code",
   "execution_count": 32,
   "source": [
    "\n",
    "# 매직메소드\n",
    "print(s1 >= s2)\n",
    "print(s1 <= s2)\n",
    "print(s1 - s2)\n",
    "print(s2 - s1)\n",
    "print(s1)  ## __str__\n",
    "print(s2)"
   ],
   "outputs": [
    {
     "output_type": "stream",
     "name": "stdout",
     "text": [
      "Called >> __ge__\n",
      "True\n",
      "Called >> __le__\n",
      "False\n",
      "Called >> __sub__\n",
      "4500\n",
      "Called >> __sub__\n",
      "-4500\n",
      "Fruit Class Info : Orange , 7500\n",
      "Fruit Class Info : Banana , 3000\n"
     ]
    }
   ],
   "metadata": {}
  },
  {
   "cell_type": "markdown",
   "source": [
    "> ## 보충지식\n",
    ">\n",
    "> #### *args\n",
    "> 매개변수 앞에 애스터리스크(*)를 붙여주면, 여러개의 변수를 하나의 튜플로 묶어 패킹(packing)해줌\n",
    "> 함수에 값을 넘길때, 리스트나 튜플같이 컨테이너형 변수에 애스터리스크를 붙이면 unpacking되어 전달된다.\n",
    ">\n",
    "> #### **kwargs\n",
    "> 키와 밸류값을 가변적으로 패킹하여 전달받을 수 있다.\n"
   ],
   "metadata": {}
  },
  {
   "cell_type": "code",
   "execution_count": 50,
   "source": [
    "\n",
    "# 클래스 예제2\n",
    "# 벡터를 다루는 클래스를 만들어보자\n",
    "## 예1) (5,2) + (4,3) = (9,5)\n",
    "## 예2) (10,3) * 3 = (50,15)\n",
    "## 예3) Max((5,10)) = 10\n",
    "\n",
    "class Vector(object):\n",
    "\tdef __init__(self, *args): # packing해서 넘겨받아 나중에 unpacking\n",
    "\t\t'''\n",
    "\t\tCreate a vector, example : v = Vector(5,10)\n",
    "\t\t'''\n",
    "\t\tif len(args) == 0:\n",
    "\t\t\tself._x, self._y = 0, 0\n",
    "\t\telse:\n",
    "\t\t\tself._x, self._y = args\n",
    "\n",
    "\tdef __repr__(self):\n",
    "\t\t'''Returns the vector informations.'''\n",
    "\t\treturn 'Vector(%r, %r)' % (self._x, self._y)\n",
    "\n",
    "\tdef __add__(self, other):\n",
    "\t\t'''Returns the vector addition of self and other'''\n",
    "\t\treturn Vector(self._x + other._x, self._y + other._y)\n",
    "\n",
    "\tdef __mul__(self, y):\n",
    "\t\treturn Vector(self._x * y, self._y * y)\n",
    "\t\n",
    "\tdef __bool__(self):\n",
    "\t\treturn bool(max(self._x, self._y)) #좌표 평면에서 0,0인지 확인\n",
    "\n",
    "print(Vector.__doc__)  #클래스 자체의 주석은 없음\n",
    "print(Vector.__init__.__doc__)  #메소드 단위의 주석"
   ],
   "outputs": [
    {
     "output_type": "stream",
     "name": "stdout",
     "text": [
      "None\n",
      "\n",
      "\t\tCreate a vector, example : v = Vector(5,10)\n",
      "\t\t\n"
     ]
    }
   ],
   "metadata": {}
  },
  {
   "cell_type": "code",
   "execution_count": 51,
   "source": [
    "\n",
    "# Vector 인스턴스 생성\n",
    "v1 = Vector(5,7)\n",
    "v2 = Vector(23, 53)\n",
    "v3 = Vector()"
   ],
   "outputs": [],
   "metadata": {}
  },
  {
   "cell_type": "code",
   "execution_count": 54,
   "source": [
    "\n",
    "# 매직메소드 출력\n",
    "print(Vector.__init__.__doc__)\n",
    "print(Vector.__repr__.__doc__)\n",
    "print(Vector.__add__.__doc__)\n",
    "print(v1, v2, v3)\n",
    "print(v1 + v2)\n",
    "print(v1 * 3)\n",
    "print(v2 * 10)\n",
    "print(bool(v1), bool(v2))\n",
    "print(bool(v3))\n"
   ],
   "outputs": [
    {
     "output_type": "stream",
     "name": "stdout",
     "text": [
      "\n",
      "\t\tCreate a vector, example : v = Vector(5,10)\n",
      "\t\t\n",
      "Returns the vector informations.\n",
      "Returns the vector addition of self and other\n",
      "Vector(5, 7) Vector(23, 53) Vector(0, 0)\n",
      "Vector(28, 60)\n",
      "Vector(15, 21)\n",
      "Vector(230, 530)\n",
      "True True\n",
      "False\n"
     ]
    }
   ],
   "metadata": {}
  }
 ],
 "metadata": {
  "orig_nbformat": 4,
  "language_info": {
   "name": "python",
   "version": "3.7.3",
   "mimetype": "text/x-python",
   "codemirror_mode": {
    "name": "ipython",
    "version": 3
   },
   "pygments_lexer": "ipython3",
   "nbconvert_exporter": "python",
   "file_extension": ".py"
  },
  "kernelspec": {
   "name": "python3",
   "display_name": "Python 3.7.3 64-bit ('anaconda3': conda)"
  },
  "interpreter": {
   "hash": "50784419fe898108f44419d7095efdb0a1ba7abb2a978f5ac080977cb6168522"
  }
 },
 "nbformat": 4,
 "nbformat_minor": 2
}