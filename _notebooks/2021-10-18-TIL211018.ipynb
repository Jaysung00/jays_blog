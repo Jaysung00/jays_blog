{
 "cells": [
  {
   "cell_type": "markdown",
   "source": [
    "# Today I Learned 211018\n",
    "\n",
    "- toc: false\n",
    "- badges: false\n",
    "- comments: true\n",
    "- author: Jay Sung\n",
    "- categories: [TIL]\n"
   ],
   "metadata": {}
  },
  {
   "cell_type": "markdown",
   "source": [
    "- - -\n",
    "\n",
    "## 인프런 파이썬 중급 (Inflearn Original)\n",
    "매직 메소드(1-1)\n",
    "\n",
    "- - -\n",
    "#### 파이썬의 핵심\n",
    "- 시퀀스(Sequence)\n",
    "- 반복(Iterator)\n",
    "- 함수(Functions)\n",
    "- 클래스(Class)\n",
    "\n",
    "- - -\n",
    "### 매직 메소드 (스페셜 메소드)란?\n",
    "\n",
    "클래스 안에 정의할 수 있는 특별한 Built-in 메서드\n"
   ],
   "metadata": {}
  },
  {
   "cell_type": "code",
   "execution_count": 1,
   "source": [
    "\n",
    "# 기본형\n",
    "print(int)\n",
    "print(float)\n",
    "\n",
    "# 모든 속성 및 메소드 출력\n",
    "print(dir(int))\n",
    "print(dir(float))"
   ],
   "outputs": [
    {
     "output_type": "stream",
     "name": "stdout",
     "text": [
      "<class 'int'>\n",
      "<class 'float'>\n",
      "['__abs__', '__add__', '__and__', '__bool__', '__ceil__', '__class__', '__delattr__', '__dir__', '__divmod__', '__doc__', '__eq__', '__float__', '__floor__', '__floordiv__', '__format__', '__ge__', '__getattribute__', '__getnewargs__', '__gt__', '__hash__', '__index__', '__init__', '__init_subclass__', '__int__', '__invert__', '__le__', '__lshift__', '__lt__', '__mod__', '__mul__', '__ne__', '__neg__', '__new__', '__or__', '__pos__', '__pow__', '__radd__', '__rand__', '__rdivmod__', '__reduce__', '__reduce_ex__', '__repr__', '__rfloordiv__', '__rlshift__', '__rmod__', '__rmul__', '__ror__', '__round__', '__rpow__', '__rrshift__', '__rshift__', '__rsub__', '__rtruediv__', '__rxor__', '__setattr__', '__sizeof__', '__str__', '__sub__', '__subclasshook__', '__truediv__', '__trunc__', '__xor__', 'bit_length', 'conjugate', 'denominator', 'from_bytes', 'imag', 'numerator', 'real', 'to_bytes']\n",
      "['__abs__', '__add__', '__bool__', '__class__', '__delattr__', '__dir__', '__divmod__', '__doc__', '__eq__', '__float__', '__floordiv__', '__format__', '__ge__', '__getattribute__', '__getformat__', '__getnewargs__', '__gt__', '__hash__', '__init__', '__init_subclass__', '__int__', '__le__', '__lt__', '__mod__', '__mul__', '__ne__', '__neg__', '__new__', '__pos__', '__pow__', '__radd__', '__rdivmod__', '__reduce__', '__reduce_ex__', '__repr__', '__rfloordiv__', '__rmod__', '__rmul__', '__round__', '__rpow__', '__rsub__', '__rtruediv__', '__set_format__', '__setattr__', '__sizeof__', '__str__', '__sub__', '__subclasshook__', '__truediv__', '__trunc__', 'as_integer_ratio', 'conjugate', 'fromhex', 'hex', 'imag', 'is_integer', 'real']\n"
     ]
    }
   ],
   "metadata": {}
  },
  {
   "cell_type": "code",
   "execution_count": 4,
   "source": [
    "n = 10\n",
    "\n",
    "print(n + 100)\n",
    "\n",
    "# 여기서 내부적으로 일어나는 일.\n",
    "print(n.__add__(100)) #int class의 매직메소드인 __add__가 호출됨"
   ],
   "outputs": [
    {
     "output_type": "stream",
     "name": "stdout",
     "text": [
      "110\n",
      "110\n"
     ]
    }
   ],
   "metadata": {}
  },
  {
   "cell_type": "code",
   "execution_count": 9,
   "source": [
    "print(bool(n), n.__bool__())  #내부적으로 일어나는 일\n",
    "print(n * 100, n.__mul__(100))"
   ],
   "outputs": [
    {
     "output_type": "stream",
     "name": "stdout",
     "text": [
      "True True\n",
      "1000 1000\n"
     ]
    }
   ],
   "metadata": {}
  },
  {
   "cell_type": "code",
   "execution_count": 23,
   "source": [
    "\n",
    "#클래스 예제1\n",
    "class Fruit:\n",
    "\tdef __init__(self, name, price):\n",
    "\t\tself._name = name\n",
    "\t\tself._price = price\n",
    "\t\n",
    "\tdef __str__(self):\n",
    "\t\treturn 'Fruit Class Info : {} , {}'.format(self._name, self._price)\n",
    "\t\n",
    "\tdef __add__(self, x):\n",
    "\t\tprint('Called >> __add__')\n",
    "\t\treturn self._price + x._price\n",
    "\n",
    "\tdef __sub__(self, x):\n",
    "\t\tprint('Called >> __sub__')\n",
    "\t\treturn self._price - x._price\n",
    "\n",
    "\tdef __le__(self, x):\n",
    "\t\tprint('Called >> __le__')\n",
    "\t\tif self._price <= x._price:\n",
    "\t\t\treturn True\n",
    "\t\telse:\n",
    "\t\t\treturn False\n",
    "\n",
    "\tdef __ge__(self, x):\n",
    "\t\tprint('Called >> __ge__')\n",
    "\t\tif self._price >= x._price:\n",
    "\t\t\treturn True\n",
    "\t\telse:\n",
    "\t\t\treturn False"
   ],
   "outputs": [],
   "metadata": {}
  },
  {
   "cell_type": "code",
   "execution_count": 24,
   "source": [
    "\n",
    "#인스턴스 생성\n",
    "s1 = Fruit('Orange', 7500)\n",
    "s2 = Fruit('Banana', 3000)"
   ],
   "outputs": [],
   "metadata": {}
  },
  {
   "cell_type": "code",
   "execution_count": 25,
   "source": [
    "\n",
    "#일반적인 계산\n",
    "print(s1._price + s2._price)  \n",
    "##코드 양도 늘어나고 가독성도 떨어지므로 좋지않은 방식"
   ],
   "outputs": [
    {
     "output_type": "stream",
     "name": "stdout",
     "text": [
      "10500\n"
     ]
    }
   ],
   "metadata": {}
  },
  {
   "cell_type": "code",
   "execution_count": 26,
   "source": [
    "\n",
    "# __add__ 매소드의 이용\n",
    "print(s1 + s2) \n",
    "## + 를 사용하므로써 __add__가 실행되는 빌트인 매직메소드"
   ],
   "outputs": [
    {
     "output_type": "stream",
     "name": "stdout",
     "text": [
      "Called >> __add__\n",
      "10500\n"
     ]
    }
   ],
   "metadata": {}
  },
  {
   "cell_type": "code",
   "execution_count": 32,
   "source": [
    "\n",
    "# 매직메소드\n",
    "print(s1 >= s2)\n",
    "print(s1 <= s2)\n",
    "print(s1 - s2)\n",
    "print(s2 - s1)\n",
    "print(s1)  ## __str__\n",
    "print(s2)"
   ],
   "outputs": [
    {
     "output_type": "stream",
     "name": "stdout",
     "text": [
      "Called >> __ge__\n",
      "True\n",
      "Called >> __le__\n",
      "False\n",
      "Called >> __sub__\n",
      "4500\n",
      "Called >> __sub__\n",
      "-4500\n",
      "Fruit Class Info : Orange , 7500\n",
      "Fruit Class Info : Banana , 3000\n"
     ]
    }
   ],
   "metadata": {}
  }
 ],
 "metadata": {
  "orig_nbformat": 4,
  "language_info": {
   "name": "python",
   "version": "3.7.3",
   "mimetype": "text/x-python",
   "codemirror_mode": {
    "name": "ipython",
    "version": 3
   },
   "pygments_lexer": "ipython3",
   "nbconvert_exporter": "python",
   "file_extension": ".py"
  },
  "kernelspec": {
   "name": "python3",
   "display_name": "Python 3.7.3 64-bit ('anaconda3': conda)"
  },
  "interpreter": {
   "hash": "50784419fe898108f44419d7095efdb0a1ba7abb2a978f5ac080977cb6168522"
  }
 },
 "nbformat": 4,
 "nbformat_minor": 2
}