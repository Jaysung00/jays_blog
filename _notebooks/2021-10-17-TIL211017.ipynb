{
 "cells": [
  {
   "cell_type": "markdown",
   "source": [
    "# Today I Learned 211017\n",
    "\n",
    "- toc: false\n",
    "- badges: false\n",
    "- comments: true\n",
    "- author: Jay Sung\n",
    "- categories: [A. ENGINEERING　　　　>　PYTHON　　　　　　　>　\bⅱ. 인프런 파이썬 강의]\n"
   ],
   "metadata": {}
  },
  {
   "cell_type": "markdown",
   "source": [
    "- - -\n",
    "\n",
    "## 인프런 파이썬 중급 (Inflearn Original)\n",
    "클래스 & 메소드 심화(2-1, 2-2)"
   ],
   "metadata": {}
  },
  {
   "cell_type": "code",
   "execution_count": 1,
   "source": [
    "\n",
    "# 클래스 재 선언\n",
    "class Car():\n",
    "    \"\"\"\n",
    "    Car Class\n",
    "    Author : Kim\n",
    "    Date : 2019.11.08\n",
    "    \"\"\"\n",
    "\n",
    "    # 클래스 변수 (모든 인스턴스가 공유)\n",
    "    car_count = 0\n",
    "\n",
    "    def __init__(self, company, details):\n",
    "        self._company = company\n",
    "        self._details = details\n",
    "        Car.car_count += 1\n",
    "\n",
    "    def __str__(self):\n",
    "        return 'str : {} - {}'.format(self._company, self._details)\n",
    "\n",
    "    def __repr__(self):\n",
    "        return 'repr : {} - {}'.format(self._company, self._details)\n",
    "\n",
    "    def detail_info(self):\n",
    "        print('Current Id : {}'.format(id(self)))\n",
    "        print('Car Detail Info : {} {}'.format(self._company, self._details.get('price')))\n",
    "\n",
    "    def __del__(self):\n",
    "        Car.car_count -= 1\n"
   ],
   "outputs": [],
   "metadata": {}
  },
  {
   "cell_type": "code",
   "execution_count": 2,
   "source": [
    "# Self 의미\n",
    "car1 = Car('Ferrari', {'color' : 'White', 'horsepower': 400, 'price': 8000})\n",
    "car2 = Car('Bmw', {'color' : 'Black', 'horsepower': 270, 'price': 5000})\n",
    "car3 = Car('Audi', {'color' : 'Silver', 'horsepower': 300, 'price': 6000})"
   ],
   "outputs": [],
   "metadata": {}
  },
  {
   "cell_type": "code",
   "execution_count": 4,
   "source": [
    "\n",
    "# dir 확인\n",
    "print(dir(car1))\n",
    "print(dir(car2))  # 매직메서드를 포함한 모든 어트리뷰트 포함"
   ],
   "outputs": [
    {
     "output_type": "stream",
     "name": "stdout",
     "text": [
      "['__class__', '__del__', '__delattr__', '__dict__', '__dir__', '__doc__', '__eq__', '__format__', '__ge__', '__getattribute__', '__gt__', '__hash__', '__init__', '__init_subclass__', '__le__', '__lt__', '__module__', '__ne__', '__new__', '__reduce__', '__reduce_ex__', '__repr__', '__setattr__', '__sizeof__', '__str__', '__subclasshook__', '__weakref__', '_company', '_details', 'car_count', 'detail_info']\n",
      "['__class__', '__del__', '__delattr__', '__dict__', '__dir__', '__doc__', '__eq__', '__format__', '__ge__', '__getattribute__', '__gt__', '__hash__', '__init__', '__init_subclass__', '__le__', '__lt__', '__module__', '__ne__', '__new__', '__reduce__', '__reduce_ex__', '__repr__', '__setattr__', '__sizeof__', '__str__', '__subclasshook__', '__weakref__', '_company', '_details', 'car_count', 'detail_info']\n"
     ]
    }
   ],
   "metadata": {}
  },
  {
   "cell_type": "code",
   "execution_count": 5,
   "source": [
    "\n",
    "# __dict__ 확인\n",
    "print(car1.__dict__)\n",
    "print(car2.__dict__) #딕셔너리 형태로 실제로 사용중인 것만 키와 밸류로 들여다볼수 있음\n",
    "#네임스페이스"
   ],
   "outputs": [
    {
     "output_type": "stream",
     "name": "stdout",
     "text": [
      "{'_company': 'Ferrari', '_details': {'color': 'White', 'horsepower': 400, 'price': 8000}}\n",
      "{'_company': 'Bmw', '_details': {'color': 'Black', 'horsepower': 270, 'price': 5000}}\n"
     ]
    }
   ],
   "metadata": {}
  },
  {
   "cell_type": "code",
   "execution_count": 6,
   "source": [
    "\n",
    "# Doctring\n",
    "print(Car.__doc__) #클래스 내의 설명부분 주석을 보여줌"
   ],
   "outputs": [
    {
     "output_type": "stream",
     "name": "stdout",
     "text": [
      "\n",
      "    Car Class\n",
      "    Author : Kim\n",
      "    Date : 2019.11.08\n",
      "    \n"
     ]
    }
   ],
   "metadata": {}
  },
  {
   "cell_type": "code",
   "execution_count": 7,
   "source": [
    "\n",
    "# 메서드 실행\n",
    "car1.detail_info()\n",
    "car2.detail_info()\n",
    "\n",
    "# 에러\n",
    "# Car.detail_info()"
   ],
   "outputs": [
    {
     "output_type": "stream",
     "name": "stdout",
     "text": [
      "Current Id : 4361860096\n",
      "Car Detail Info : Ferrari 8000\n",
      "Current Id : 4361860152\n",
      "Car Detail Info : Bmw 5000\n"
     ]
    }
   ],
   "metadata": {}
  },
  {
   "cell_type": "code",
   "execution_count": 8,
   "source": [
    "\n",
    "# 비교\n",
    "print(car1.__class__, car2.__class__)\n",
    "print(id(car1.__class__), id(car2.__class__)) \n",
    "## 부모에서 나오기 떄문에 아이디는 모두 같다"
   ],
   "outputs": [
    {
     "output_type": "stream",
     "name": "stdout",
     "text": [
      "<class '__main__.Car'> <class '__main__.Car'>\n",
      "140610028679592 140610028679592\n"
     ]
    }
   ],
   "metadata": {}
  },
  {
   "cell_type": "code",
   "execution_count": 9,
   "source": [
    "\n",
    "# 인스턴스 변수\n",
    "# 직접 접근(PEP 문법적으로 권장X)\n",
    "print(car1._company, car2._company)\n",
    "print(car2._company, car3._company)"
   ],
   "outputs": [
    {
     "output_type": "stream",
     "name": "stdout",
     "text": [
      "Ferrari Bmw\n",
      "Bmw Audi\n"
     ]
    }
   ],
   "metadata": {}
  },
  {
   "cell_type": "code",
   "execution_count": 10,
   "source": [
    "\n",
    "# 클래스 변수\n",
    "# 접근\n",
    "print(car1.car_count)\n",
    "print(car2.car_count)\n",
    "print(Car.car_count)"
   ],
   "outputs": [
    {
     "output_type": "stream",
     "name": "stdout",
     "text": [
      "3\n",
      "3\n",
      "3\n"
     ]
    }
   ],
   "metadata": {}
  },
  {
   "cell_type": "code",
   "execution_count": 11,
   "source": [
    "\n",
    "# 공유 확인\n",
    "print(Car.__dict__)\n",
    "print(car1.__dict__)\n",
    "print(car2.__dict__)\n",
    "print(car3.__dict__)"
   ],
   "outputs": [
    {
     "output_type": "stream",
     "name": "stdout",
     "text": [
      "{'__module__': '__main__', '__doc__': '\\n    Car Class\\n    Author : Kim\\n    Date : 2019.11.08\\n    ', 'car_count': 3, '__init__': <function Car.__init__ at 0x103f1b6a8>, '__str__': <function Car.__str__ at 0x103f1b1e0>, '__repr__': <function Car.__repr__ at 0x103f1b378>, 'detail_info': <function Car.detail_info at 0x103f1b730>, '__del__': <function Car.__del__ at 0x103f1b598>, '__dict__': <attribute '__dict__' of 'Car' objects>, '__weakref__': <attribute '__weakref__' of 'Car' objects>}\n",
      "{'_company': 'Ferrari', '_details': {'color': 'White', 'horsepower': 400, 'price': 8000}}\n",
      "{'_company': 'Bmw', '_details': {'color': 'Black', 'horsepower': 270, 'price': 5000}}\n",
      "{'_company': 'Audi', '_details': {'color': 'Silver', 'horsepower': 300, 'price': 6000}}\n"
     ]
    }
   ],
   "metadata": {}
  },
  {
   "cell_type": "code",
   "execution_count": 12,
   "source": [
    "\n",
    "# 인스턴스 네임스페이스 없으면 상위에서 검색\n",
    "# 즉, 동일한 이름으로 변수 생성 가능(인스턴스 검색 후 -> 상위(클래스 변수, 부모 클래스 변수))\n",
    "del car2\n",
    "\n",
    "print(car1.car_count)\n",
    "print(Car.car_count)"
   ],
   "outputs": [
    {
     "output_type": "stream",
     "name": "stdout",
     "text": [
      "2\n",
      "2\n"
     ]
    }
   ],
   "metadata": {}
  }
 ],
 "metadata": {
  "orig_nbformat": 4,
  "language_info": {
   "name": "python",
   "version": "3.7.3",
   "mimetype": "text/x-python",
   "codemirror_mode": {
    "name": "ipython",
    "version": 3
   },
   "pygments_lexer": "ipython3",
   "nbconvert_exporter": "python",
   "file_extension": ".py"
  },
  "kernelspec": {
   "name": "python3",
   "display_name": "Python 3.7.3 64-bit ('anaconda3': conda)"
  },
  "interpreter": {
   "hash": "50784419fe898108f44419d7095efdb0a1ba7abb2a978f5ac080977cb6168522"
  }
 },
 "nbformat": 4,
 "nbformat_minor": 2
}