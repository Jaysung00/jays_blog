{
 "cells": [
  {
   "cell_type": "markdown",
   "source": [
    "# 조건부 기댓값과 조건부 분산\n",
    "\n",
    "- toc: true\n",
    "- badges: false\n",
    "- comments: true\n",
    "- author: Jay Sung\n",
    "- categories: [ ___  E. STATISTICS _____________ > 統計検定 準1級 개념정리]"
   ],
   "metadata": {}
  },
  {
   "cell_type": "markdown",
   "source": [
    "- - -\n",
    "- - -"
   ],
   "metadata": {}
  },
  {
   "cell_type": "markdown",
   "source": [
    "| 대분류 | 소분류 | 학습내용 |\n",
    "| - | - | - |\n",
    "| 확률과 확률변수 | 분포의 특수값 | 조건부 기댓값, 조건부 분산 |"
   ],
   "metadata": {}
  },
  {
   "cell_type": "markdown",
   "source": [
    "- - -\n",
    "# 조건부 기댓값 (Conditional expectation)\n",
    "\n",
    "**_[Y의 조건부 확률밀도함수]_**\n",
    "\n",
    "$$f_{Y|x}(y|x) = f(x,y)/f(x), \\space \\space f(x)>0 $$\n",
    "\n",
    "$\\space$\n",
    "\n",
    "조건부 확률변수 $Y|X=x$의 **조건부 기대값**은 $E(Y|X=x)$로 표기하고\n",
    "\n",
    "$$\\begin{aligned}\n",
    "E(Y|X=x) &= \\sum\\limits_{모든\\space y_i} y_if_{Y|x} (y_i | x) \\space \\space (concrete) \\\\\n",
    "&= \\int^{\\infty}_{-\\infty}yf_{Y|x}(y|x)dy \\space \\space (continuous)\n",
    "\n",
    "\\end{aligned}$$\n",
    "\n",
    "로 정의된다."
   ],
   "metadata": {}
  }
 ],
 "metadata": {
  "orig_nbformat": 4,
  "language_info": {
   "name": "python",
   "version": "3.7.3",
   "mimetype": "text/x-python",
   "codemirror_mode": {
    "name": "ipython",
    "version": 3
   },
   "pygments_lexer": "ipython3",
   "nbconvert_exporter": "python",
   "file_extension": ".py"
  },
  "kernelspec": {
   "name": "python3",
   "display_name": "Python 3.7.3 64-bit ('anaconda3': conda)"
  },
  "interpreter": {
   "hash": "50784419fe898108f44419d7095efdb0a1ba7abb2a978f5ac080977cb6168522"
  }
 },
 "nbformat": 4,
 "nbformat_minor": 2
}