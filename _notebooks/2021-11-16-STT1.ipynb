{
 "cells": [
  {
   "cell_type": "markdown",
   "source": [
    "# 적률생성함수(Moment Generating Function), 확률생성함수(Probability Generating Function)\n",
    "\n",
    "- toc: true\n",
    "- badges: false\n",
    "- comments: true\n",
    "- author: Jay Sung\n",
    "- categories: [ ___  E. STATISTICS _____________ > 統計検定 準1級 개념정리]"
   ],
   "metadata": {}
  },
  {
   "cell_type": "markdown",
   "source": [
    "- - -\n",
    "- - -"
   ],
   "metadata": {}
  },
  {
   "cell_type": "markdown",
   "source": [
    "| 대분류 | 소분류 | 학습내용|\n",
    "| - | - | - |\n",
    "| 확률과 확률변수 | 확률분포와 모함수 | 적률모함수, 확률모함수 |"
   ],
   "metadata": {}
  },
  {
   "cell_type": "markdown",
   "source": [
    "- - -\n",
    "# 적률(moment) & 중심적률 & 표준화적률\n",
    "\n",
    "**_[수학적 관점]_**\n",
    "\n",
    "상수 c에 대한 x의 n차 적률은\n",
    "$$\\mu_n = \\int_{-\\infty}^{\\infty}(x-c)^nf(x)dx$$\n",
    "로 정의된다.\n",
    "\n",
    "\n",
    "$\\space$\n",
    "\n",
    "**_[통계적 관점]_**\n",
    "\n",
    "확률변수 $X$ 에 대해 $X^r$ 에 대한 기댓값\n",
    "$$\\mu_r' = E[X^r]$$\n",
    "\n",
    "*(discrete random variable 일 때)* $$\\mu_r' = E[X^r] = \\sum\\limits_xX^r\\cdot f(x)$$\n",
    "*(continuous random variable 일 때)* $$\\mu_r' = E[X^r] = \\int_{-\\infty}^{\\infty}X^r\\cdot f(x)dx$$\n",
    "을 **r차 적률** ($r^{th} \\space moment$)이라고 하며, 평균 중심으로 적률을 구한 것을\n",
    "\n",
    "$$\\mu_r = E[(X-\\mu)^r]$$\n",
    "을 평균 $\\mu = E(x)$에 대한 **$X$의 r차 중심적률**($r^{th} \\space central \\space moment$)이라 정의한다."
   ],
   "metadata": {}
  },
  {
   "cell_type": "markdown",
   "source": [
    "r차 중심적률을 표준편차의 r제곱으로 나눈 **$X$의 r차 표준화적률**을 아래와 같이 정의할 수 있다.\n",
    "$$\\tilde{\\mu}_n = \\cfrac{\\mu_n}{\\sigma^n} = \\cfrac{E[(x-\\mu)^n]}{\\sigma^n} = E[(\\cfrac{x-\\mu}{\\sigma})^n]$$"
   ],
   "metadata": {}
  },
  {
   "cell_type": "markdown",
   "source": [
    "|이름|기호|정의|기댓값 형태| 통계량과의 관계|\n",
    "|-|:-:|:-:|:-:|:-:|\n",
    "|적률| $\\mu_n'$|$\\int_{-\\infty}^{\\infty}x^nf(x)dx$|$E[X^n]$|평균 = $\\mu_1'$|\n",
    "|중심적률|$\\mu_n$|$\\int_{-\\infty}^{\\infty}(x-\\mu)^nf(x)dx$|$E[(X - \\mu)^n]$|분산 = $\\mu_2$|\n",
    "|표준화적률|$\\tilde{\\mu}_n$|$\\cfrac{\\mu_n}{\\sigma^n}$|$E[(\\cfrac{X-\\mu}{\\sigma})^n]$|왜도 = $\\tilde{\\mu}_3$ 첨도 = $\\tilde{\\mu}_4$|"
   ],
   "metadata": {}
  },
  {
   "cell_type": "markdown",
   "source": [
    "- - -\n",
    "# 생성 함수(모함수)란?\n",
    "수학에서 어떤 수열 $a_n$ (n은 자연수)에 대하여,\n",
    "$$f(x) = a_0 + a_1x + a_2x^2 + \\dots + a_nx^n + \\dots = \\sum\\limits^{\\infty}_{k=0}a_kx^k$$\n",
    "와 같이 미지수의 계수가 수열의 각 항으로 되어 있는 멱급수 형태의 함수를 **생성함수** (generating function)라고 한다."
   ],
   "metadata": {}
  },
  {
   "cell_type": "markdown",
   "source": [
    "- - -\n",
    "# 적률생섬함수 (MGF; moment generating function)\n",
    "\n",
    "적률생섬함수는 위에서 배운 세가지 적률\n",
    "- 적률\n",
    "- 중심적률\n",
    "- 표준화적률\n",
    "\n",
    "중 첫번째 '적률' (원점에 대한 적률)을 생성한다. 물론 적률은 적분을 통해 구할 수 있지만,\n",
    "\n",
    "**적률생성함수를 한 번 구해놓으면 n차 적률을 아주 쉽게 구할 수 있다**.\n",
    "\n",
    "$\\space$\n",
    "\n",
    "## 적률생섬함수의 정의\n",
    "\n",
    "확률변수 $X$가 있을 때, $e^{tX}$의 기댓값이 적률생섬함수가 된다. 즉,\n",
    "$$M_X(t) = E[e^{tX}]$$\n",
    "를 확률 변수 X의 적률생성함수 라고 하고, 연속확률변수라면 아래와 같이 구할 수 있다.\n",
    "$$M_X(t) = E[e^{tX}] = \\int_{-\\infty}^{\\infty}e^{tx}f(x)dx$$"
   ],
   "metadata": {}
  },
  {
   "cell_type": "markdown",
   "source": [
    "## 적률생섬함수가 적률을 생성하는 원리\n",
    "\n",
    "$e^{tX}$를 변수를 t로 생각하여 테일러 전개하면,\n",
    "\n",
    "$$e^{tX} = e^{aX} + \\cfrac{Xe^{aX}}{1!}(t-a) + \\cfrac{X^2e^{aX}}{2!}(t-a)^2 + \\cfrac{X^3e^{aX}}{3!}(t-a)^3 + \\dots$$\n",
    "\n",
    "a 에 0을 집어넣어, 매클로린 급수를 만들면\n",
    "$$e^{tX} = 1 + Xt + \\cfrac{X^2}{2!}t^2 + \\cfrac{X^3}{3!}t^3 + \\dots $$\n",
    "\n",
    "가 되고, 이를 적률생성함수 식에 대입하면\n",
    "$$M_x(t) = E[e^{tX}] = E[1 + Xt + \\cfrac{X^2}{2!}t^2 + \\cfrac{X^3}{3!}t^3 + \\dots]$$\n",
    "가 된다.\n",
    "\n",
    "이를 기대값 항을 분리해서 써주면\n",
    "$$\n",
    "\\begin{aligned}\n",
    "M_x(t) = E[e^{tX}] &= 1 + E[Xt] + E[\\cfrac{X^2}{2!}t^2] + E[\\cfrac{X^3}{3!}t^3] + \\dots\\\\\n",
    "&= 1 + E[X]t + \\cfrac{E[X^2]}{2!}]t^2 + \\cfrac{E[X^3]}{3!}t^3 + \\dots\\end{aligned}$$"
   ],
   "metadata": {}
  },
  {
   "cell_type": "markdown",
   "source": [
    "\n",
    "**_[1번 미분]_**\n",
    "\n",
    "$$\\cfrac{dM_X(t)}{dt} = E[X] + \\cfrac{E[X^2]}{1!}]t + \\cfrac{E[X^3]}{2!}t^2 + \\dots$$\n",
    "\n",
    "t에 0을 넣으면,\n",
    "\n",
    "$$\\cfrac{dM_X(t)}{dt} = E[X]$$\n",
    "\n",
    "1차 적률이 나온다. 즉, 적률생성함수를 한번 미분하고 t에 0을 넣으면 1차적률이다.\n",
    "\n"
   ],
   "metadata": {}
  },
  {
   "cell_type": "markdown",
   "source": [
    "\n",
    "**_[2번 미분]_**\n",
    "\n",
    "$$\\cfrac{d^2M_X(t)}{dt^2} = E[X^2] + \\cfrac{E[X^3]}{1!}t + \\dots$$\n",
    "\n",
    "t에 0을 넣으면,\n",
    "\n",
    "$$\\cfrac{d^2M_X(t)}{dt^2} = E[X^2]$$\n",
    "\n",
    "2차 적률이 나온다. 즉, 적률생성함수를 두번 미분하고 t에 0을 넣으면 2차적률이다."
   ],
   "metadata": {}
  },
  {
   "cell_type": "markdown",
   "source": [
    "\n",
    "**_[n번 미분]_**\n",
    "\n",
    "n번 미분하고 t에 0을 넣으면,\n",
    "\n",
    "$$\\cfrac{d^nM_X(t)}{dt^n} = E[X^n]$$\n",
    "\n",
    "n차 적률이 나온다."
   ],
   "metadata": {}
  },
  {
   "cell_type": "markdown",
   "source": [
    "> 이와 같은 성질은, 확률변수의 분포형태가 적률생성함수에 의하여 유일하게 결정됨을 보여준다. 이러한 사실은 분포의 형태가 적률에 의해 표현된다는 점으로 미루어 짐작 될 수 있다.\n",
    ">\n",
    "> **확률변수 X와 Y가 같은 적률생성함수를 가지면 두 확률변수는 같은 확률밀도함수를 가진다.**"
   ],
   "metadata": {}
  },
  {
   "cell_type": "markdown",
   "source": [
    "- - -\n",
    "## (예) 이항확률변수 $X \\sim B(n,p)$의 적률생성함수와 그 활용\n",
    "\n",
    "$$\n",
    "\\begin{aligned}M_X(t) = E(e^{tX}) &= \\sum\\limits^n_{x=0}e^{tx}\\binom{n}{x}p^x(1-p)^{n-x}\\\\\n",
    "&= \\sum\\limits^n_{x=0}\\binom{n}{x}(pe^t)^x(1-p)^{n-x}\\\\\n",
    "&= (1-p+pe^t)^n \\end{aligned}$$\n",
    "\n",
    "그러므로, 이항확률변수 $X \\sim B(n,p)$ 의 평균과 분산은 다음과 같이 계산된다. (단, p+q = 1)\n",
    "$$\n",
    "\\begin{aligned}\n",
    "M_X^{(1)}(t) &= n(q+pe^t)^{n-1}\\cdot pe^t \\\\\n",
    "M_X^{(2)}(t) &= n(q+pe^t)^{n-1}\\cdot pe^t + pe^t\\cdot n(n-1)(q+pe^t)^{n-2}pe^t \\end{aligned}$$\n",
    "\n",
    "이고, t=0 을 대입하면,\n",
    "\n",
    "$$\n",
    "\\begin{aligned}\n",
    "M_X^{(1)}(0) &= n(q+p)^{n-1}p \\\\\n",
    "&= np\\\\\n",
    "&= E(X)\\\\\n",
    "& \\space \\\\\n",
    "M_X^{(2)}(0) &= n(q+p)^{n-1}p + pn(n-1)(q+p)^{n-2}p \\\\\n",
    "&= np + p^2n(n-1)\\\\\n",
    "&= E(X^2) \\end{aligned}$$\n",
    "\n",
    "이 된다. 그러므로,\n",
    "$$\\begin{aligned}\n",
    "Var(X) &= np + p^2n(n-1) - (np)^2\\\\\n",
    "&= np - np^2\\\\\n",
    "&= np(1-p)\n",
    "\\end{aligned}$$\n"
   ],
   "metadata": {}
  },
  {
   "cell_type": "markdown",
   "source": [
    "- - -\n",
    "- - -\n",
    "# 확률생성함수 (Probability generating function)\n",
    "\n",
    "이산형 확률변수 $X$가 음이 아닌 정수값 0,1,2,...를 가질 수 있을 때, 확률변수 $X$의 성질을 파악하는데 다음과 같이 정의 되는 확률생성함수를 이용할 수 있다. 편의상 $P(X = j) = p_j$로 표기한다.\n",
    "\n",
    "이산형 확률변수 $X$의 **확률생성함수**는 이하와 같이 정의된다.\n",
    "$$ G_X(s) = E(s^X) = \\sum\\limits^{\\infty}_{j=0}p_js^j$$\n",
    "\n",
    "이와 같이 정의된 확률생성함수 $G_X(s)$는 $|s| \\leq 1$ 에 대하여 다음과 같은 성질들을 가진다.\n",
    "\n",
    "(확률생성함수라는 이름의 유래는 아래의 성질3으로 부터 온것으로 여겨진다.)\n",
    "\n",
    "1. $E(X) = G_X'(1) = \\left. \\cfrac{d}{ds}G_X(s) \\right|_{s=1}$\n",
    "\n",
    "$\\space$\n",
    "\n",
    "2. 서로 독립인 확률변수 X와 Y의 합인 Z = X + Y의 확률생성함수는\n",
    "$G_Z(s) = G_X(s)\\cdot G_Y(s)$ 이다.\n",
    "\n",
    "$\\space$\n",
    "\n",
    "3. $P(X=k) = \\left. (1/k!)\\cfrac{d^k}{ds^k}G_X(s) \\right|_{s=0}$"
   ],
   "metadata": {}
  }
 ],
 "metadata": {
  "orig_nbformat": 4,
  "language_info": {
   "name": "python",
   "version": "3.7.3",
   "mimetype": "text/x-python",
   "codemirror_mode": {
    "name": "ipython",
    "version": 3
   },
   "pygments_lexer": "ipython3",
   "nbconvert_exporter": "python",
   "file_extension": ".py"
  },
  "kernelspec": {
   "name": "python3",
   "display_name": "Python 3.7.3 64-bit ('anaconda3': conda)"
  },
  "interpreter": {
   "hash": "50784419fe898108f44419d7095efdb0a1ba7abb2a978f5ac080977cb6168522"
  }
 },
 "nbformat": 4,
 "nbformat_minor": 2
}