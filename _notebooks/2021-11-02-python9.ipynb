{
 "cells": [
  {
   "cell_type": "markdown",
   "source": [
    "# 파이썬 예제9) 문자열 압축\n",
    "> [Programmers > 2020 KAKAO BLIND RECRUITMENT > 문자열 압축](https://programmers.co.kr/learn/courses/30/lessons/60057)\n",
    "\n",
    "- toc: false\n",
    "- badges: false\n",
    "- comments: true\n",
    "- author: Jay Sung\n",
    "- categories: [python 문제풀이]"
   ],
   "metadata": {}
  },
  {
   "cell_type": "markdown",
   "source": [
    "- - -\n"
   ],
   "metadata": {}
  },
  {
   "cell_type": "code",
   "execution_count": 137,
   "source": [
    "\n",
    "# 내풀이.... => OK\n",
    "# 통과하긴 했으나, 상당히 어거지 ㅜㅜ\n",
    "\n",
    "s = \"aaaaaaaaaa\"\n",
    "\n",
    "def solution(s):\n",
    "\tanswer = len(s)\n",
    "\t\n",
    "\tfor d in range(1, len(s) // 2 + 1):\n",
    "\t\tlist1 = [ s[k:k+d] for k in range(0, len(s), d) ]\n",
    "\t\tn = 0\n",
    "\t\ti = 0\n",
    "\t\twhile i < len(list1) - 1:\n",
    "\t\t\tif list1[i] == list1[i+1]:\n",
    "\t\t\t\tm = 0\n",
    "\t\t\t\twhile list1[i] == list1[i+1]:\n",
    "\t\t\t\t\tm += 1\n",
    "\t\t\t\t\tdel list1[i+1]\n",
    "\t\t\t\t\tif len(list1) == i+1:\n",
    "\t\t\t\t\t\tbreak\n",
    "\t\t\t\tif m >= 999:\n",
    "\t\t\t\t\tn += 4\n",
    "\t\t\t\telif m >= 99:\n",
    "\t\t\t\t\tn += 3\n",
    "\t\t\t\telif m >= 9:\n",
    "\t\t\t\t\tn += 2\n",
    "\t\t\t\telif m >= 1:\n",
    "\t\t\t\t\tn += 1\n",
    "\t\t\ti += 1\n",
    "\t\tif answer > d * (len(list1) - 1) + len(list1[-1]) + n:\n",
    "\t\t\tanswer = d * (len(list1) - 1) + len(list1[-1]) + n\n",
    "\n",
    "\treturn answer\n",
    "\n",
    "print(solution(s))"
   ],
   "outputs": [
    {
     "output_type": "stream",
     "name": "stdout",
     "text": [
      "3\n"
     ]
    }
   ],
   "metadata": {}
  },
  {
   "cell_type": "code",
   "execution_count": 138,
   "source": [
    "\n",
    "# 다른사람 풀이\n",
    "\n",
    "def compress(text, tok_len):\n",
    "\twords = [text[i:i+tok_len] for i in range(0, len(text), tok_len)]\n",
    "\tres = []\n",
    "\tcur_word = words[0]\n",
    "\tcur_cnt = 1\n",
    "\tfor a, b in zip(words, words[1:] + ['']):\n",
    "\t\tif a == b:\n",
    "\t\t\tcur_cnt += 1\n",
    "\t\telse:\n",
    "\t\t\tres.append([cur_word, cur_cnt])\n",
    "\t\t\tcur_word = b\n",
    "\t\t\tcur_cnt = 1\n",
    "\treturn sum(len(word) + (len(str(cnt)) if cnt > 1 else 0) for word, cnt in res)\n",
    "\n",
    "def solution(text):\n",
    "\treturn min(compress(text, tok_len) for tok_len in list(range(1, int(len(text)/2) + 1)) + [len(text)])\n",
    "\n",
    "a = [\n",
    "\t\"aabbaccc\",\n",
    "\t\"ababcdcdababcdcd\",\n",
    "\t\"abcabcdede\",\n",
    "\t\"abcabcabcabcdededededede\",\n",
    "\t\"xababcdcdababcdcd\",\n",
    "\n",
    "\t'aaaaaa',\n",
    "]\n",
    "\n",
    "for x in a:\n",
    "\tprint(solution(x))"
   ],
   "outputs": [
    {
     "output_type": "stream",
     "name": "stdout",
     "text": [
      "7\n",
      "9\n",
      "8\n",
      "14\n",
      "17\n",
      "2\n"
     ]
    }
   ],
   "metadata": {}
  },
  {
   "cell_type": "code",
   "execution_count": 147,
   "source": [
    "\n",
    "# 위의 compress함수 분해.\n",
    "# 멋진 코드다. 배울 수 있도록!\n",
    "\n",
    "text = \"aabbaccc\"\n",
    "tok_len = 1\n",
    "\n",
    "words = [text[i:i+tok_len] for i in range(0, len(text), tok_len)]\n",
    "\n",
    "res = []\n",
    "cur_word = words[0] # 가장 처음단어 가리키는중\n",
    "cur_cnt = 1\n",
    "for a, b in zip(words, words[1:] + ['']): # 하나씩 엇갈리게 만든 리스트를 zip으로 병렬처리함\n",
    "\t## zip은 병렬처리가 가능한 파이썬내장함수\n",
    "\tif a == b:\n",
    "\t\tcur_cnt += 1  #같으면 카운트 1추가\n",
    "\telse:\n",
    "\t\tres.append([cur_word, cur_cnt]) # 다를때 현재 단어와 카운트 개수 저장\n",
    "\t\tcur_word = b # 다를 때의 뒷단어로 현재단어 이동\n",
    "\t\tcur_cnt = 1 # 카운트 1로 초기화\n",
    "\n",
    "\tprint(res)\n",
    "\n",
    "sum(len(word) + (len(str(cnt)) if cnt > 1 else 0) for word, cnt in res)"
   ],
   "outputs": [
    {
     "output_type": "stream",
     "name": "stdout",
     "text": [
      "[]\n",
      "[['a', 2]]\n",
      "[['a', 2]]\n",
      "[['a', 2], ['b', 2]]\n",
      "[['a', 2], ['b', 2], ['a', 1]]\n",
      "[['a', 2], ['b', 2], ['a', 1]]\n",
      "[['a', 2], ['b', 2], ['a', 1]]\n",
      "[['a', 2], ['b', 2], ['a', 1], ['c', 3]]\n"
     ]
    },
    {
     "output_type": "execute_result",
     "data": {
      "text/plain": [
       "7"
      ]
     },
     "metadata": {},
     "execution_count": 147
    }
   ],
   "metadata": {}
  }
 ],
 "metadata": {
  "orig_nbformat": 4,
  "language_info": {
   "name": "python",
   "version": "3.7.3",
   "mimetype": "text/x-python",
   "codemirror_mode": {
    "name": "ipython",
    "version": 3
   },
   "pygments_lexer": "ipython3",
   "nbconvert_exporter": "python",
   "file_extension": ".py"
  },
  "kernelspec": {
   "name": "python3",
   "display_name": "Python 3.7.3 64-bit ('anaconda3': conda)"
  },
  "interpreter": {
   "hash": "50784419fe898108f44419d7095efdb0a1ba7abb2a978f5ac080977cb6168522"
  }
 },
 "nbformat": 4,
 "nbformat_minor": 2
}