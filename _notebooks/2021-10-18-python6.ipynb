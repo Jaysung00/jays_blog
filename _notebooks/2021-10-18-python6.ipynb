{
 "cells": [
  {
   "cell_type": "markdown",
   "source": [
    "# 파이썬 예제6) 크레인 인형뽑기 게임\n",
    "> [Programmers > 2019 카카오 개발자 겨울인턴 > 크레인 인형뽑기 게임](https://programmers.co.kr/learn/courses/30/lessons/64061)\n",
    "\n",
    "- toc: false\n",
    "- badges: false\n",
    "- comments: true\n",
    "- author: Jay Sung\n",
    "- categories: [A. ENGINEERING&nbsp;&nbsp;&nbsp;&nbsp;&nbsp;&nbsp;&nbsp;&nbsp;&nbsp;&nbsp;&nbsp;&nbsp;&nbsp;&nbsp;&nbsp;> a. PYTHON&nbsp;&nbsp;&nbsp;&nbsp;&nbsp;&nbsp;&nbsp;&nbsp;&nbsp;&nbsp;&nbsp;&nbsp;&nbsp;&nbsp;&nbsp;&nbsp;&nbsp;&nbsp;> \b1. 문제풀이]"
   ],
   "metadata": {}
  },
  {
   "cell_type": "markdown",
   "source": [
    "- - -\n"
   ],
   "metadata": {}
  },
  {
   "cell_type": "code",
   "execution_count": 1,
   "source": [
    "\n",
    "# 첫번째 시도 (리스트 이용 -> 시간초과 실패....)\n",
    "\n",
    "board = [[0, 0, 0, 0, 0], [0, 0, 1, 0, 3], [0, 2, 5, 0, 1], [4, 2, 4, 4, 2], [3, 5, 1, 3, 1]]\n",
    "moves = [1, 5, 3, 5, 1, 2, 1, 4]\n",
    "\n",
    "def solution(board, moves):\n",
    "\t\n",
    "\tn = len(board)\n",
    "\tin_col = []\n",
    "\n",
    "\t# input column 리스트화\n",
    "\tfor m in moves:\n",
    "\t\theight = 0\n",
    "\t\twhile height < n:\n",
    "\t\t\tif board[height][m - 1] == 0:\n",
    "\t\t\t\theight += 1\n",
    "\t\t\telse:\n",
    "\t\t\t\tin_col.append(board[height][m - 1])\n",
    "\t\t\t\tboard[height][m - 1] = 0\n",
    "\t\t\t\tbreak\n",
    "\n",
    "\t# answer 구하기\n",
    "\tanswer = 0\n",
    "\tend_condition = False\n",
    "\twhile end_condition == False:\n",
    "\t\tif len(in_col) == 0:\n",
    "\t\t\tend_condition = True\n",
    "\t\tfor i in range(len(in_col) - 1):\n",
    "\t\t\tif in_col[i+1] == in_col[i]:\n",
    "\t\t\t\tanswer += 2\n",
    "\t\t\t\tend_condition = False\n",
    "\t\t\t\tdel in_col[i:i+2]\n",
    "\t\t\t\tbreak;\n",
    "\t\t\telse:\n",
    "\t\t\t\tend_condition = True\n",
    "\n",
    "\treturn answer\n",
    "\n",
    "print(solution(board, moves))  ## 런타임에러...."
   ],
   "outputs": [
    {
     "output_type": "stream",
     "name": "stdout",
     "text": [
      "4\n"
     ]
    }
   ],
   "metadata": {}
  },
  {
   "cell_type": "code",
   "execution_count": 2,
   "source": [
    "\n",
    "#두 번째 시도 (스택구조 이용 -> 성공)\n",
    "\n",
    "board = [[0, 0, 0, 0, 0], [0, 0, 1, 0, 3], [0, 2, 5, 0, 1], [4, 2, 4, 4, 2], [3, 5, 1, 3, 1]]\n",
    "moves = [1, 5, 3, 5, 1, 2, 1, 4]\n",
    "\n",
    "class Stack:\n",
    "\t#리스트를 이용하여 스택 생성\n",
    "\tdef __init__ (self):\n",
    "\t\tself.top = []\n",
    "\t#스택의 크기를 출력\n",
    "\tdef __len__(self):\n",
    "\t\treturn len(self.top)\n",
    "\t#스택 내부 자료를 string으로 변환하여 반환\n",
    "\tdef __str__(self):\n",
    "\t\treturn str(self.top[::1])\n",
    "\t#PUSH\n",
    "\tdef push(self, item):\n",
    "\t\tself.top.append(item)\n",
    "\t#POP\n",
    "\tdef pop(self):\n",
    "\t\t#if Stack is not empty\n",
    "\t\tif not self.isEmpty():\n",
    "\t\t\t#pop and return \n",
    "\t\t\treturn self.top.pop(-1)\n",
    "\t\telse:\n",
    "\t\t\tprint(\"Stack underflow\")\n",
    "\t\t\texit()\n",
    "\t#스택이 비어있는지 확인\n",
    "\tdef isEmpty(self):\n",
    "\t\treturn len(self.top)==0\n",
    "\t#스택에서 top의 값을 읽어온다\n",
    "\tdef peek(self):\n",
    "\t\tif not self.isEmpty():\n",
    "\t\t\treturn self.top[-1]\n",
    "\t\telse:\n",
    "\t\t\tprint(\"underflow\")\n",
    "\n",
    "def solution(board, moves):\n",
    "\t\n",
    "\tn = len(board)\n",
    "\tanswer = 0\n",
    "\tin_stack = Stack()\n",
    "\n",
    "\t# input stack\n",
    "\tfor m in moves:\n",
    "\t\theight = 0\n",
    "\t\twhile height < n:\n",
    "\t\t\tif board[height][m - 1] == 0:\n",
    "\t\t\t\theight += 1\n",
    "\t\t\telse:\n",
    "\t\t\t\tif in_stack.peek() == board[height][m - 1]:\n",
    "\t\t\t\t\tin_stack.pop()\n",
    "\t\t\t\t\tanswer += 2\n",
    "\t\t\t\telse:\n",
    "\t\t\t\t\tin_stack.push(board[height][m - 1])\n",
    "\t\t\t\tboard[height][m - 1] = 0\n",
    "\t\t\t\tbreak\n",
    "\n",
    "\treturn answer\n",
    "\n",
    "print(solution(board, moves))"
   ],
   "outputs": [
    {
     "output_type": "stream",
     "name": "stdout",
     "text": [
      "underflow\n",
      "4\n"
     ]
    }
   ],
   "metadata": {}
  },
  {
   "cell_type": "code",
   "execution_count": null,
   "source": [
    "\n",
    "# 좋은 풀이 뜯어보기 (굳이 스택구조를 만들지 않고 리스트를 충분히 스택처럼 사용할 수 있다)\n",
    "def solution(board, moves):\n",
    "\tstacklist = []\n",
    "\tanswer = 0\n",
    "\n",
    "\tfor i in moves:\n",
    "\t\tfor j in range(len(board)):\n",
    "\t\t\tif board[j][i-1] != 0:\n",
    "\t\t\t\tstacklist.append(board[j][i-1])\n",
    "\t\t\t\tboard[j][i-1] = 0\n",
    "\n",
    "\t\t\t\tif len(stacklist) > 1:\n",
    "\t\t\t\t\tif stacklist[-1] == stacklist[-2]:\n",
    "\t\t\t\t\t\tstacklist.pop(-1)\n",
    "\t\t\t\t\t\tstacklist.pop(-1)\n",
    "\t\t\t\t\t\tanswer += 2\n",
    "\t\t\t\tbreak\n",
    "\n",
    "\treturn answer"
   ],
   "outputs": [],
   "metadata": {}
  },
  {
   "cell_type": "code",
   "execution_count": null,
   "source": [],
   "outputs": [],
   "metadata": {}
  }
 ],
 "metadata": {
  "orig_nbformat": 4,
  "language_info": {
   "name": "python",
   "version": "3.7.3",
   "mimetype": "text/x-python",
   "codemirror_mode": {
    "name": "ipython",
    "version": 3
   },
   "pygments_lexer": "ipython3",
   "nbconvert_exporter": "python",
   "file_extension": ".py"
  },
  "kernelspec": {
   "name": "python3",
   "display_name": "Python 3.7.3 64-bit ('anaconda3': conda)"
  },
  "interpreter": {
   "hash": "50784419fe898108f44419d7095efdb0a1ba7abb2a978f5ac080977cb6168522"
  }
 },
 "nbformat": 4,
 "nbformat_minor": 2
}