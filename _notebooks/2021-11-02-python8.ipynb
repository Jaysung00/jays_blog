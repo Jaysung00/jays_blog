{
 "cells": [
  {
   "cell_type": "markdown",
   "source": [
    "# 파이썬 예제8) 오픈채팅방\n",
    "> [Programmers > 2021 KAKAO BLIND RECRUITMENT > 오픈채팅방](https://programmers.co.kr/learn/courses/30/lessons/42888)\n",
    "\n",
    "- toc: false\n",
    "- badges: false\n",
    "- comments: true\n",
    "- author: Jay Sung\n",
    "- categories: [ ___  **A. ENGINEERING** __________ > ___ a. PYTHON _________ >\b 1. 문제풀이]"
   ],
   "metadata": {}
  },
  {
   "cell_type": "markdown",
   "source": [
    "- - -\n"
   ],
   "metadata": {}
  },
  {
   "cell_type": "code",
   "execution_count": 20,
   "source": [
    "\n",
    "# 첫번째 시도 => OK\n",
    "# 전략 ; 1. 딕셔너리로 각 아이디 별 최종 닉네임을 보관   2. 아웃풋메세지 네임드튜플에 보관\n",
    "\n",
    "# import\n",
    "from collections import namedtuple\n",
    "Output = namedtuple('Output', 'Command Id')\n",
    "\n",
    "record = [\"Enter uid1234 Muzi\", \"Enter uid4567 Prodo\", \"Leave uid1234\", \"Enter uid1234 Prodo\", \"Change uid4567 Ryan\"]\n",
    "def solution(record):\n",
    "\n",
    "\tanswer = []\n",
    "\n",
    "\tnickname_dic = {}\n",
    "\toutput_order = []\n",
    "\tfor info in record:\n",
    "\t\tinfo_list = info.split()\n",
    "\t\tif len(info_list) == 3:\n",
    "\t\t\tnickname_dic[info_list[1]] = info_list[2]\n",
    "\t\tif info_list[0] != \"Change\":\n",
    "\t\t\toutput_order.append(Output(info_list[0], info_list[1]))\n",
    "\n",
    "\tfor m in output_order:\n",
    "\t\tif m.Command == 'Enter':\n",
    "\t\t\tanswer.append(nickname_dic[m.Id] + \"님이 들어왔습니다.\")\n",
    "\t\telse:\n",
    "\t\t\tanswer.append(nickname_dic[m.Id] + \"님이 나갔습니다.\")\n",
    "\n",
    "\treturn answer\n",
    "\n",
    "print(solution(record))"
   ],
   "outputs": [
    {
     "output_type": "stream",
     "name": "stdout",
     "text": [
      "['Prodo님이 들어왔습니다.', 'Ryan님이 들어왔습니다.', 'Prodo님이 나갔습니다.', 'Prodo님이 들어왔습니다.']\n"
     ]
    }
   ],
   "metadata": {}
  },
  {
   "cell_type": "code",
   "execution_count": null,
   "source": [
    "\n",
    "# 다른 사람 풀이 뜯어보기\n",
    "\n",
    "def solution(record):\n",
    "    answer = []\n",
    "    namespace = {}\n",
    "    printer = {'Enter':'님이 들어왔습니다.', 'Leave':'님이 나갔습니다.'}\n",
    "    for r in record:\n",
    "        rr = r.split(' ')\n",
    "        if rr[0] in ['Enter', 'Change']:\n",
    "            namespace[rr[1]] = rr[2]\n",
    "\n",
    "    for r in record:\n",
    "        if r.split(' ')[0] != 'Change':\n",
    "            answer.append(namespace[r.split(' ')[1]] + printer[r.split(' ')[0]])\n",
    "\n",
    "    return answer"
   ],
   "outputs": [],
   "metadata": {}
  }
 ],
 "metadata": {
  "orig_nbformat": 4,
  "language_info": {
   "name": "python",
   "version": "3.7.3",
   "mimetype": "text/x-python",
   "codemirror_mode": {
    "name": "ipython",
    "version": 3
   },
   "pygments_lexer": "ipython3",
   "nbconvert_exporter": "python",
   "file_extension": ".py"
  },
  "kernelspec": {
   "name": "python3",
   "display_name": "Python 3.7.3 64-bit ('anaconda3': conda)"
  },
  "interpreter": {
   "hash": "50784419fe898108f44419d7095efdb0a1ba7abb2a978f5ac080977cb6168522"
  }
 },
 "nbformat": 4,
 "nbformat_minor": 2
}