{
 "cells": [
  {
   "cell_type": "markdown",
   "source": [
    "# Today I Learned 211103\n",
    "\n",
    "- toc: false\n",
    "- badges: false\n",
    "- comments: true\n",
    "- author: Jay Sung\n",
    "- categories: [ ___  **A. ENGINEERING** __________ > ___ a. PYTHON _________ >\b 인프런 파이썬 강의]\n"
   ],
   "metadata": {}
  },
  {
   "cell_type": "markdown",
   "source": [
    "- - -\n",
    "\n",
    "## 인프런 파이썬 중급 (Inflearn Original)\n",
    "시퀀스(1-1, 1-2, 1-3)\n",
    "\n",
    "- - -\n",
    "#### What is python sequence?\n",
    " 참조 : [artofproblemsolving.com](https://artofproblemsolving.com/wiki/index.php/Sequence_(Python)#:~:text=In%20Python%2C%20sequence%20is%20the%20generic%20term%20for%20an%20ordered%20set.&text=Lists%20are%20the%20most%20versatile,new%20elements%20can%20be%20inserted.)\n",
    "\n",
    "- - -\n",
    "\n",
    "## 자료형(Data type)의 구분\n",
    "\n",
    "### 시퀀스 (Sequence; 연속형 자로형)\n",
    "\n",
    "#### 컨테이너형 | 플랫형\n",
    "- 컨테이너(Container; 서로 다른 자료형) [list, tuple, collections, deque])\n",
    "- 플랫(Flat; 한개의 자료형) [str, bytes, bytearray, array.array, memoryview])\n",
    "\n",
    "#### 가변형 | 불변형\n",
    "- 가변형 [list, bytearray, array.array, memoryview, deque]\n",
    "- 불변형 [tuple, str, bytes]"
   ],
   "metadata": {}
  },
  {
   "cell_type": "code",
   "execution_count": 4,
   "source": [
    "\n",
    "# for문을 이용한 리스트 생성\n",
    "chars = '+_)(*&^%$#@!)'\n",
    "code_list1 = []\n",
    "\n",
    "for s in chars:\n",
    "\t# 유니코드 리스트\n",
    "\tcode_list1.append(ord(s))\n",
    "\n",
    "print(\"for문 이용 : \", code_list1)\n",
    "\n",
    "# 지능형 리스트(Comprehending Lists) ; 상대적으로 효율적임!\n",
    "code_list2 = [ord(s) for s in chars]\n",
    "\n",
    "print(\"comprehend : \", code_list2)\n"
   ],
   "outputs": [
    {
     "output_type": "stream",
     "name": "stdout",
     "text": [
      "for문 이용 :  [43, 95, 41, 40, 42, 38, 94, 37, 36, 35, 64, 33, 41]\n",
      "comprehend :  [43, 95, 41, 40, 42, 38, 94, 37, 36, 35, 64, 33, 41]\n"
     ]
    }
   ],
   "metadata": {}
  },
  {
   "cell_type": "markdown",
   "source": [
    "> #### ord() 함수 : 특정한 한 문자를 아스키 코드 값으로 변환해주는 함수\n",
    "> #### chr() 함수 : 아스키코드 값을 문자로 변환해주는 함수 (10진수, 16진수 사용 가능)\n"
   ],
   "metadata": {}
  },
  {
   "cell_type": "code",
   "execution_count": 8,
   "source": [
    "\n",
    "# Comprehending Lists + Map, Filter\n",
    "code_list3 = [ord(s) for s in chars if ord(s) > 40]\n",
    "\n",
    "print(\"comprehend + if : \", code_list3)\n",
    "\n",
    "code_list4 = list(filter(lambda x : x > 40, map(ord, chars)))\n",
    "\n",
    "print(\"comprehend + filter, map : \", code_list4)"
   ],
   "outputs": [
    {
     "output_type": "stream",
     "name": "stdout",
     "text": [
      "comprehend + if :  [43, 95, 41, 42, 94, 64, 41]\n",
      "comprehend + filter, map :  [43, 95, 41, 42, 94, 64, 41]\n"
     ]
    }
   ],
   "metadata": {}
  },
  {
   "cell_type": "code",
   "execution_count": 9,
   "source": [
    "\n",
    "# 원상 복구해서 검산\n",
    "print([chr(s) for s in code_list1])\n",
    "print([chr(s) for s in code_list2])\n",
    "print([chr(s) for s in code_list3])\n",
    "print([chr(s) for s in code_list4])"
   ],
   "outputs": [
    {
     "output_type": "stream",
     "name": "stdout",
     "text": [
      "['+', '_', ')', '(', '*', '&', '^', '%', '$', '#', '@', '!', ')']\n",
      "['+', '_', ')', '(', '*', '&', '^', '%', '$', '#', '@', '!', ')']\n",
      "['+', '_', ')', '*', '^', '@', ')']\n",
      "['+', '_', ')', '*', '^', '@', ')']\n"
     ]
    }
   ],
   "metadata": {}
  },
  {
   "cell_type": "markdown",
   "source": [
    "> ## (기초) lambda 함수 짚고 넘어가기\n",
    "> #### 이름없는 함수, 일회성 함수\n",
    ">\n",
    "> 일반적인 함수 정의 에서, def plus(a, b) : print(a+b) -> 함수 이름은 plus\n",
    "> 람다함수에서 lambda x, y : x + y\n",
    ">\n",
    "> _[예시]_\n",
    "\n",
    "> (lambda x,y : x+y)(2, 10)\t\t\t\t=> Output: 12\n",
    ">  \n",
    "> f = lambda x: x*x\n",
    "\n",
    "> f(2)\t\t\t\t\t=> Output: 4\n",
    ">\n",
    ">\n",
    ">\n",
    "> _[주의사항]_\n",
    "\n",
    "> 파이썬 기본 Built-in function과 같은 이름의 함수를 설정하면 우선순위 상으로 내가 만든 함수가 우선되므로, 같은 이름의 함수를 사용하지 않도록!\n",
    ">\n",
    ">"
   ],
   "metadata": {}
  },
  {
   "cell_type": "markdown",
   "source": [
    "> ## (기초) map 함수 짚고 넘어가기\n",
    "> ### map(function, iterable)\n",
    ">\n",
    "> 첫 번째 매개변수로는 함수가 오고\n",
    "> 두 번째 매개변수로는 반복 가능한 자료형(리스트, 튜플 등)\n",
    ">\n",
    "> - map 함수의 반환 값은 map객체(iterator)이기 때문에 해당 자료형을 list 혹은 tuple로 형 변환시켜주어야 함\n",
    ">\n",
    "> - 함수의 동작은 두 번째 인자로 들어온 반복 가능한 자료형 (리스트나 튜플)을 첫 번째 인자로 들어온 함수에 하나씩 집어넣어서 함수를 수행하는 함수\n",
    ">\n",
    "> _[예시]_\n",
    "\n",
    "> ``` result2 = list(map(func_pow, [1, 2, 3, 4, 5])) ```"
   ],
   "metadata": {}
  },
  {
   "cell_type": "markdown",
   "source": [
    "> ## (기초) filter 함수 짚고 넘어가기\n",
    "> ### filter(conditional fuction, iterable)\n",
    ">\n",
    "> 두번째 인자로 넘어온 데이터 중에서 첫번째 인자로 넘어온 조건 함수를 만족하는 데이터만을 반환\n",
    ">\n",
    "> - 첫번째 인자로 def로 함수를 정의한 함수 이름을 넘겨도 되고, 간단하게 lambda함수를 넘겨도 된다.\n",
    ">\n",
    "> - filter 타입(iterator)으로 결과를 리턴하므로 해당 자료형을 list 혹은 tuple로 형 변환시켜주어야 함\n",
    ">\n",
    "> _[예시]_\n",
    "\n",
    "> ```python\n",
    "> for woman in filter(lambda u: u[\"sex\"] != \"M\", users):\n",
    ">     print(woman)\n",
    "> ```\n",
    ">\n",
    "> _[참고사항]_\n",
    "\n",
    "> map 함수와 사용방법 동일하나, 함수의 결과가 참인지 거짓인지에 따라, 해당요소를 포함할지 결정하는 것이 차이점!"
   ],
   "metadata": {}
  },
  {
   "cell_type": "code",
   "execution_count": 27,
   "source": [
    "\n",
    "# Generator 생성\n",
    "## Generator는 한 번에 한 개의 항목을 생성(메모리 유지x)\n",
    "import array\n",
    "\n",
    "tuple_gen = (ord(s) for s in chars)\n",
    "\n",
    "print(tuple_gen)\n",
    "print(type(tuple_gen))\n",
    "\n",
    "print(next(tuple_gen)) # 제네레이터 값을 보는 방법 (두가지 다 가능)\n",
    "print(next(tuple_gen))\n",
    "print(next(tuple_gen))\n",
    "print(next(tuple_gen))\n",
    "print(next(tuple_gen))\n",
    "print(next(tuple_gen))\n",
    "print(tuple_gen.__next__())\n",
    "print(tuple_gen.__next__())\n",
    "print(tuple_gen.__next__())\n",
    "print(tuple_gen.__next__())\n",
    "print(tuple_gen.__next__())\n",
    "print(tuple_gen.__next__())\n",
    "print(tuple_gen.__next__())\n",
    "print(tuple_gen.__next__()) # generator로 더이상 다음값이 없음"
   ],
   "outputs": [
    {
     "output_type": "stream",
     "name": "stdout",
     "text": [
      "<generator object <genexpr> at 0x1044a2228>\n",
      "<class 'generator'>\n",
      "43\n",
      "95\n",
      "41\n",
      "40\n",
      "42\n",
      "38\n",
      "94\n",
      "37\n",
      "36\n",
      "35\n",
      "64\n",
      "33\n",
      "41\n"
     ]
    },
    {
     "output_type": "error",
     "ename": "StopIteration",
     "evalue": "",
     "traceback": [
      "\u001b[0;31m---------------------------------------------------------------------------\u001b[0m",
      "\u001b[0;31mStopIteration\u001b[0m                             Traceback (most recent call last)",
      "\u001b[0;32m<ipython-input-27-3a66ada14ac6>\u001b[0m in \u001b[0;36m<module>\u001b[0;34m\u001b[0m\n\u001b[1;32m     22\u001b[0m \u001b[0mprint\u001b[0m\u001b[0;34m(\u001b[0m\u001b[0mtuple_gen\u001b[0m\u001b[0;34m.\u001b[0m\u001b[0m__next__\u001b[0m\u001b[0;34m(\u001b[0m\u001b[0;34m)\u001b[0m\u001b[0;34m)\u001b[0m\u001b[0;34m\u001b[0m\u001b[0;34m\u001b[0m\u001b[0m\n\u001b[1;32m     23\u001b[0m \u001b[0mprint\u001b[0m\u001b[0;34m(\u001b[0m\u001b[0mtuple_gen\u001b[0m\u001b[0;34m.\u001b[0m\u001b[0m__next__\u001b[0m\u001b[0;34m(\u001b[0m\u001b[0;34m)\u001b[0m\u001b[0;34m)\u001b[0m\u001b[0;34m\u001b[0m\u001b[0;34m\u001b[0m\u001b[0m\n\u001b[0;32m---> 24\u001b[0;31m \u001b[0mprint\u001b[0m\u001b[0;34m(\u001b[0m\u001b[0mtuple_gen\u001b[0m\u001b[0;34m.\u001b[0m\u001b[0m__next__\u001b[0m\u001b[0;34m(\u001b[0m\u001b[0;34m)\u001b[0m\u001b[0;34m)\u001b[0m \u001b[0;31m# generator로 더이상 다음값이 없음\u001b[0m\u001b[0;34m\u001b[0m\u001b[0;34m\u001b[0m\u001b[0m\n\u001b[0m",
      "\u001b[0;31mStopIteration\u001b[0m: "
     ]
    }
   ],
   "metadata": {}
  },
  {
   "cell_type": "code",
   "execution_count": 31,
   "source": [
    "\n",
    "# Genertor로 array에 격납\n",
    "array_gen = array.array('I', (ord(s) for s in chars))\n",
    "\n",
    "print(array_gen)\n",
    "print(type(array_gen))\n",
    "\n",
    "print(array_gen.tolist()) #리스트로 변환"
   ],
   "outputs": [
    {
     "output_type": "stream",
     "name": "stdout",
     "text": [
      "array('I', [43, 95, 41, 40, 42, 38, 94, 37, 36, 35, 64, 33, 41])\n",
      "<class 'array.array'>\n",
      "[43, 95, 41, 40, 42, 38, 94, 37, 36, 35, 64, 33, 41]\n"
     ]
    }
   ],
   "metadata": {}
  },
  {
   "cell_type": "code",
   "execution_count": 32,
   "source": [
    "\n",
    "# Generator 예제\n",
    "print(('%s' % c + str(n) for c in ['A', 'B', 'C', 'D'] for n in range(1, 21)))"
   ],
   "outputs": [
    {
     "output_type": "stream",
     "name": "stdout",
     "text": [
      "<generator object <genexpr> at 0x1044a2408>\n"
     ]
    }
   ],
   "metadata": {}
  },
  {
   "cell_type": "code",
   "execution_count": 36,
   "source": [
    "\n",
    "# for문으로 Generator 출력해보면 이러함\n",
    "for s in ('%s' % c + str(n) for c in ['A', 'B', 'C', 'D'] for n in range(1, 21)):\n",
    "\tprint(s, end = ' ')"
   ],
   "outputs": [
    {
     "output_type": "stream",
     "name": "stdout",
     "text": [
      "A1 A2 A3 A4 A5 A6 A7 A8 A9 A10 A11 A12 A13 A14 A15 A16 A17 A18 A19 A20 B1 B2 B3 B4 B5 B6 B7 B8 B9 B10 B11 B12 B13 B14 B15 B16 B17 B18 B19 B20 C1 C2 C3 C4 C5 C6 C7 C8 C9 C10 C11 C12 C13 C14 C15 C16 C17 C18 C19 C20 D1 D2 D3 D4 D5 D6 D7 D8 D9 D10 D11 D12 D13 D14 D15 D16 D17 D18 D19 D20 "
     ]
    }
   ],
   "metadata": {}
  },
  {
   "cell_type": "code",
   "execution_count": 47,
   "source": [
    "\n",
    "### 리스트를 생성할 때 주의사항!\n",
    "\n",
    "marks1 = [['~'] * 3 for _ in range(4)]\n",
    "marks2 = [['~'] * 3] * 4\n",
    "\n",
    "print(marks1)\n",
    "print(marks2)\n",
    "\n",
    "# when modified\n",
    "marks1[0][1] = 'X'\n",
    "marks2[0][1] = 'X'\n",
    "\n",
    "# print\n",
    "print(\"modified1 => \", marks1)\n",
    "print(\"modified2 => \", marks2)  ### critical한 문제가 발생한다!!!\n",
    "\n",
    "\n",
    "# 원인을 증명해보자\n",
    "print()\n",
    "print([id(i) for i in marks1])\n",
    "print([id(i) for i in marks2])  # ID가 다 카피되어있다! -> 주의할것!!"
   ],
   "outputs": [
    {
     "output_type": "stream",
     "name": "stdout",
     "text": [
      "[['~', '~', '~'], ['~', '~', '~'], ['~', '~', '~'], ['~', '~', '~']]\n",
      "[['~', '~', '~'], ['~', '~', '~'], ['~', '~', '~'], ['~', '~', '~']]\n",
      "modified1 =>  [['~', 'X', '~'], ['~', '~', '~'], ['~', '~', '~'], ['~', '~', '~']]\n",
      "modified2 =>  [['~', 'X', '~'], ['~', 'X', '~'], ['~', 'X', '~'], ['~', 'X', '~']]\n",
      "\n",
      "[4367185864, 4367131976, 4366891400, 4367085000]\n",
      "[4366969736, 4366969736, 4366969736, 4366969736]\n"
     ]
    }
   ],
   "metadata": {}
  }
 ],
 "metadata": {
  "orig_nbformat": 4,
  "language_info": {
   "name": "python",
   "version": "3.7.3",
   "mimetype": "text/x-python",
   "codemirror_mode": {
    "name": "ipython",
    "version": 3
   },
   "pygments_lexer": "ipython3",
   "nbconvert_exporter": "python",
   "file_extension": ".py"
  },
  "kernelspec": {
   "name": "python3",
   "display_name": "Python 3.7.3 64-bit ('anaconda3': conda)"
  },
  "interpreter": {
   "hash": "50784419fe898108f44419d7095efdb0a1ba7abb2a978f5ac080977cb6168522"
  }
 },
 "nbformat": 4,
 "nbformat_minor": 2
}