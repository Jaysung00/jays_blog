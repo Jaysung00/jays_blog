{
 "cells": [
  {
   "cell_type": "markdown",
   "metadata": {},
   "source": [
    "# ICI Review - Week2. Potential Outcomes\n",
    "\n",
    "- toc: true\n",
    "- badges: false\n",
    "- comments: true\n",
    "- author: Jay Sung\n",
    "- categories: [ ___  C. CAUSAL INFERENCE ___ > Brady Neal Course]"
   ]
  },
  {
   "cell_type": "markdown",
   "metadata": {},
   "source": [
    "- - -\n",
    "- - -\n"
   ]
  },
  {
   "cell_type": "markdown",
   "metadata": {},
   "source": [
    "# potential outcomes 이란 무엇인가?\n",
    "\n",
    "<br/>\n",
    "인과 추론이란 어떠한 치료 혹은 정책과 같은 개입에 대해 어떠한 outcome을 추론 함으로써 이루어진다.\n",
    "\n",
    "Potential Outcome의 직관적 이해를 위해 두통이 있는 경우를 생각해보자. \n",
    "\n",
    "만약 너가 약을 먹었을 때 두통이 사라지고, 약을 먹지 않았을 때 두통이 계속 된다면 약이 아마도 두통에 대해 인과적 효과가 있다고 말할 수 있을 것이다. \n",
    "\n",
    "만약 약을 먹지 않아도 두통이 사라진다고 한다면 약에 두통에 대한 인과적 효과가 있다고 말할 수 있을까? 아마 아닐 것이다.\n",
    "\n",
    "<br/>\n",
    "\n",
    "그렇다면 이러한 Potential Outcome을 표기하는 Notation에 대해 조금 더 구체적으로 들어가보자.\n",
    "\n",
    "![w2_page5](./images/w2_page5.png)\n",
    "\n",
    "\n",
    "\n",
    "\n",
    "\n",
    "- - -"
   ]
  },
  {
   "cell_type": "markdown",
   "metadata": {},
   "source": [
    "# The fundamental problem of causal inference\n",
    "\n",
    "- - -"
   ]
  },
  {
   "cell_type": "markdown",
   "metadata": {},
   "source": [
    "# Getting around the fundamental problem of causal inference\n",
    "\n",
    "- - -"
   ]
  },
  {
   "cell_type": "markdown",
   "metadata": {},
   "source": [
    "# A complete example with estimation\n",
    "\n",
    "- - -"
   ]
  }
 ],
 "metadata": {
  "interpreter": {
   "hash": "33575b48931247401db68408f7ddeb810d9a3fa4853ace66d365cd86d1f3bde1"
  },
  "kernelspec": {
   "display_name": "Python 3.7.3 64-bit ('anaconda3': conda)",
   "language": "python",
   "name": "python3"
  },
  "language_info": {
   "codemirror_mode": {
    "name": "ipython",
    "version": 3
   },
   "file_extension": ".py",
   "mimetype": "text/x-python",
   "name": "python",
   "nbconvert_exporter": "python",
   "pygments_lexer": "ipython3",
   "version": "3.7.3"
  },
  "orig_nbformat": 4
 },
 "nbformat": 4,
 "nbformat_minor": 2
}
