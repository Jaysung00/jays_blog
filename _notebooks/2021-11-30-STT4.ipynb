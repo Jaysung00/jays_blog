{
 "cells": [
  {
   "cell_type": "markdown",
   "source": [
    "# 공부할 개념\n",
    "\n",
    "- toc: true\n",
    "- badges: false\n",
    "- comments: true\n",
    "- author: Jay Sung\n",
    "- categories: [ ___  E. STATISTICS _____________ > 統計検定 準1級 개념정리]"
   ],
   "metadata": {}
  },
  {
   "cell_type": "markdown",
   "source": [
    "- - -\n",
    "- - -"
   ],
   "metadata": {}
  },
  {
   "cell_type": "markdown",
   "source": [
    "| 대분류 | 소분류 | 학습내용 |\n",
    "| - | - | - |\n",
    "| 확률과 확률변수 | . | . |"
   ],
   "metadata": {}
  },
  {
   "cell_type": "markdown",
   "source": [
    "- - -\n",
    "# "
   ],
   "metadata": {}
  }
 ],
 "metadata": {
  "orig_nbformat": 4,
  "language_info": {
   "name": "python",
   "version": "3.7.3",
   "mimetype": "text/x-python",
   "codemirror_mode": {
    "name": "ipython",
    "version": 3
   },
   "pygments_lexer": "ipython3",
   "nbconvert_exporter": "python",
   "file_extension": ".py"
  },
  "kernelspec": {
   "name": "python3",
   "display_name": "Python 3.7.3 64-bit ('anaconda3': conda)"
  },
  "interpreter": {
   "hash": "50784419fe898108f44419d7095efdb0a1ba7abb2a978f5ac080977cb6168522"
  }
 },
 "nbformat": 4,
 "nbformat_minor": 2
}