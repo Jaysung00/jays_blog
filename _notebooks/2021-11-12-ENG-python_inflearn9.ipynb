{
 "cells": [
  {
   "cell_type": "markdown",
   "source": [
    "# Inflearn 파이썬 중급 - 파이썬 일급함수 - 데코레이터 (4-1, 4-2)\n",
    "\n",
    "- toc: false\n",
    "- badges: false\n",
    "- comments: true\n",
    "- author: Jay Sung\n",
    "- categories: [ ___  A. ENGINEERING __________ > PYTHON 인프런 강의]\n",
    "\n"
   ],
   "metadata": {}
  },
  {
   "cell_type": "markdown",
   "source": [
    "- - -\n",
    "## 클로저 -> 데코레이터 관계\n",
    "\n",
    "### **데코레이터의 장점**\n",
    "1. 중복 제거, 코드 간결, 공통 함수 작성\n",
    "2. 로깅, 프레임워크, 유효성 체크 -> 공통 함수\n",
    "\n",
    "### **데코레이터의 단점**\n",
    "1. 가독성 감소\n",
    "2. 특정 기능에 한정된 함수는 단일 함수로 작성하는 것이 유리\n",
    "3. 디버깅 불편"
   ],
   "metadata": {}
  },
  {
   "cell_type": "markdown",
   "source": [
    "- - -\n",
    "## 데코레이터 실습"
   ],
   "metadata": {}
  },
  {
   "cell_type": "code",
   "execution_count": 11,
   "source": [
    "import time\n",
    "\n",
    "def perf_clock(func):\n",
    "\tdef perf_clocked(*args):\n",
    "\t\t# 함수 시작 시간\n",
    "\t\tst = time.perf_counter()\n",
    "\t\t# 함수 실행\n",
    "\t\tresult = func(*args)\n",
    "\t\t# 함수 종료 시간\n",
    "\t\tet = time.perf_counter() - st\n",
    "\t\t# 실행 함수명\n",
    "\t\tname = func.__name__\n",
    "\t\t# 함수 매개변수\n",
    "\t\targ_str = ', '.join(repr(arg) for arg in args)\n",
    "\t\t# 결과 출력\n",
    "\t\tprint('[%0.5fs] %s(%s) -> %r' % (et, name, arg_str, result))\n",
    "\t\treturn result\n",
    "\treturn perf_clocked"
   ],
   "outputs": [],
   "metadata": {}
  },
  {
   "cell_type": "code",
   "execution_count": 12,
   "source": [
    "\n",
    "# 데코레이터 미사용\n",
    "def time_func(seconds):\n",
    "\ttime.sleep(seconds)\n",
    "\n",
    "def sum_func(*numbers):\n",
    "\treturn sum(numbers)\n",
    "\n",
    "none_deco1 = perf_clock(time_func)\n",
    "none_deco2 = perf_clock(sum_func)\n",
    "\n",
    "print(none_deco1, none_deco1.__code__.co_freevars)\n",
    "print(none_deco2, none_deco2.__code__.co_freevars)\n",
    "\n",
    "print('-' * 40, 'Called None Decorator -> time_func')\n",
    "print()\n",
    "none_deco1(1.5)\n",
    "print('-' * 40, 'Called None Decorator -> sum_func')\n",
    "print()\n",
    "none_deco2(100,200,300,400,500)"
   ],
   "outputs": [
    {
     "output_type": "stream",
     "name": "stdout",
     "text": [
      "<function perf_clock.<locals>.perf_clocked at 0x10d2011e0> ('func',)\n",
      "<function perf_clock.<locals>.perf_clocked at 0x10d28df28> ('func',)\n",
      "---------------------------------------- Called None Decorator -> time_func\n",
      "\n",
      "[1.50038s] time_func(1.5) -> None\n",
      "---------------------------------------- Called None Decorator -> sum_func\n",
      "\n",
      "[0.00000s] sum_func(100, 200, 300, 400, 500) -> 1500\n"
     ]
    },
    {
     "output_type": "execute_result",
     "data": {
      "text/plain": [
       "1500"
      ]
     },
     "metadata": {},
     "execution_count": 12
    }
   ],
   "metadata": {}
  },
  {
   "cell_type": "code",
   "execution_count": 13,
   "source": [
    "\n",
    "# 데코레이터 사용\n",
    "@perf_clock\n",
    "def time_func(seconds):\n",
    "\ttime.sleep(seconds)\n",
    "\n",
    "@perf_clock\n",
    "def sum_func(*numbers):\n",
    "\treturn sum(numbers)\n",
    "\n",
    "print('-' * 40, 'Called Decorator -> time_func')\n",
    "print()\n",
    "time_func(1.5)\n",
    "print('-' * 40, 'Called Decorator -> sum_func')\n",
    "print()\n",
    "sum_func(100,200,300,400,500)"
   ],
   "outputs": [
    {
     "output_type": "stream",
     "name": "stdout",
     "text": [
      "---------------------------------------- Called Decorator -> time_func\n",
      "\n",
      "[1.50004s] time_func(1.5) -> None\n",
      "---------------------------------------- Called Decorator -> sum_func\n",
      "\n",
      "[0.00000s] sum_func(100, 200, 300, 400, 500) -> 1500\n"
     ]
    },
    {
     "output_type": "execute_result",
     "data": {
      "text/plain": [
       "1500"
      ]
     },
     "metadata": {},
     "execution_count": 13
    }
   ],
   "metadata": {}
  }
 ],
 "metadata": {
  "orig_nbformat": 4,
  "language_info": {
   "name": "python",
   "version": "3.7.3",
   "mimetype": "text/x-python",
   "codemirror_mode": {
    "name": "ipython",
    "version": 3
   },
   "pygments_lexer": "ipython3",
   "nbconvert_exporter": "python",
   "file_extension": ".py"
  },
  "kernelspec": {
   "name": "python3",
   "display_name": "Python 3.7.3 64-bit ('anaconda3': conda)"
  },
  "interpreter": {
   "hash": "50784419fe898108f44419d7095efdb0a1ba7abb2a978f5ac080977cb6168522"
  }
 },
 "nbformat": 4,
 "nbformat_minor": 2
}