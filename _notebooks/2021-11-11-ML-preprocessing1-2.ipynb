{
 "cells": [
  {
   "cell_type": "markdown",
   "source": [
    "# Fastcampus 파이썬 전처리 - 1-2. 파이썬 주요 데이터 구조\n",
    "\n",
    "- toc: true\n",
    "- badges: false\n",
    "- comments: true\n",
    "- author: Jay Sung\n",
    "- categories: [ ___  B. MACHINE LEARNING ___ > Pre-processing]"
   ],
   "metadata": {}
  },
  {
   "cell_type": "markdown",
   "source": [
    "- - -\n",
    "- - -\n",
    "# 리스트와 튜플\n",
    "\n",
    "\n",
    "_[공통점]_\n",
    "\n",
    "- 인덱싱과 슬라이싱 가능\n",
    "- iterable\n",
    "\n",
    "_[차이점]_\n",
    "\n",
    "- __리스트는 가변, 튜플은 불변__ 이므로 리스트는 사전의 key로 사용할 수 없고 튜플은 가능하다. \n",
    "- 순회 속도는 리스트보다 __튜플이 약간 더 빠르다__ (따라서 요소 변경이 필요없는 경우 튜플이 적합)"
   ],
   "metadata": {}
  },
  {
   "cell_type": "markdown",
   "source": [
    "- - -\n",
    "## 리스트 관련 함수"
   ],
   "metadata": {}
  },
  {
   "cell_type": "code",
   "execution_count": 18,
   "source": [
    "\n",
    "list1 = [5, 6, 7, 8, 9, 10]\n",
    "\n",
    "## 요소 추가\n",
    "# .append(x) => 새로운 요소x를 맨 뒤에 추가\n",
    "list1.append(10)\n",
    "print(list1)\n",
    "list1.append(20)\n",
    "print(list1)\n",
    "\n",
    "# .insert(a, x) => 새로운 요소 x를 a 위치에 추가 (기존의 요소는 뒤로 밀림)\n",
    "list1.insert(1,15)\n",
    "print(list1)"
   ],
   "outputs": [
    {
     "output_type": "stream",
     "name": "stdout",
     "text": [
      "[5, 6, 7, 8, 9, 10, 10]\n",
      "[5, 6, 7, 8, 9, 10, 10, 20]\n",
      "[5, 15, 6, 7, 8, 9, 10, 10, 20]\n"
     ]
    }
   ],
   "metadata": {}
  },
  {
   "cell_type": "code",
   "execution_count": 15,
   "source": [
    "\n",
    "## 요소 제거\n",
    "# .remove(x) => 기존 요소 x를 제거 (단, x가 여러 개면 맨 앞 하나만 지워지고, 없으면 오류 발생)\n",
    "list1.remove(10)\n",
    "print(list1)\n",
    "\n",
    "# .pop() => 맨 마지막 요소를 출력하면서 그 요소를 삭제 (stack 구조)\n",
    "list1.pop()"
   ],
   "outputs": [
    {
     "output_type": "stream",
     "name": "stdout",
     "text": [
      "[5, 15, 6, 7, 8, 9, 10, 20]\n"
     ]
    },
    {
     "output_type": "execute_result",
     "data": {
      "text/plain": [
       "20"
      ]
     },
     "metadata": {},
     "execution_count": 15
    }
   ],
   "metadata": {}
  },
  {
   "cell_type": "code",
   "execution_count": 17,
   "source": [
    "\n",
    "## 위치 찾기\n",
    "# .index(x) => x의 위치를 반환 (단, x가 여러 개면 맨 앞 인덱스를 반환하고, 없으면 오류 발생)\n",
    "list1.index(7)"
   ],
   "outputs": [
    {
     "output_type": "execute_result",
     "data": {
      "text/plain": [
       "3"
      ]
     },
     "metadata": {},
     "execution_count": 17
    }
   ],
   "metadata": {}
  },
  {
   "cell_type": "markdown",
   "source": [
    "- - -\n",
    "## 튜플 관련 함수\n",
    "\n",
    "- 소괄호를 쓰지 않아도 된다는 특징 덕분에 SWAP (값을 서로 변경), 함수의 가변인자 및 여러개의 출력을 받는데 많이 사용"
   ],
   "metadata": {}
  },
  {
   "cell_type": "code",
   "execution_count": 21,
   "source": [
    "\n",
    "# 소괄호 없이 튜플 만들기\n",
    "T = 1, 2, 3\n",
    "print(T)"
   ],
   "outputs": [
    {
     "output_type": "stream",
     "name": "stdout",
     "text": [
      "(1, 2, 3)\n"
     ]
    }
   ],
   "metadata": {}
  },
  {
   "cell_type": "code",
   "execution_count": 22,
   "source": [
    "\n",
    "# 원소가 하나인 튜플은 반드시 원소뒤에 쉼표 붙여서 표시\n",
    "T = 1,\n",
    "print(type(T))\n",
    "print(T)"
   ],
   "outputs": [
    {
     "output_type": "stream",
     "name": "stdout",
     "text": [
      "<class 'tuple'>\n",
      "(1,)\n"
     ]
    }
   ],
   "metadata": {}
  },
  {
   "cell_type": "code",
   "execution_count": 23,
   "source": [
    "\n",
    "# 튜플을 이용한 여러 값 동시에 입력 받기 및 SWAP\n",
    "a, b = 1, 2\n",
    "print(a, b)\n",
    "b, a = a, b\n",
    "print(a, b)"
   ],
   "outputs": [
    {
     "output_type": "stream",
     "name": "stdout",
     "text": [
      "1 2\n",
      "2 1\n"
     ]
    }
   ],
   "metadata": {}
  },
  {
   "cell_type": "code",
   "execution_count": 24,
   "source": [
    "\n",
    "# 함수의 가변인자로 사용\n",
    "def f(*x):\n",
    "\tprint(\"입력된 데이터 타입 {}\".format(type(x)))\n",
    "\tsum_x = 0\n",
    "\tproduct_x = 1\n",
    "\tfor val in x:  # x는 튜플이므로 iterable => for문 사용가능\n",
    "\t\tsum_x += val\n",
    "\t\tproduct_x *= val\n",
    "\treturn sum_x, product_x\n",
    "\n",
    "S, P = f(1,2,3,4,5)\n",
    "print(S, P)"
   ],
   "outputs": [
    {
     "output_type": "stream",
     "name": "stdout",
     "text": [
      "입력된 데이터 타입 <class 'tuple'>\n",
      "15 120\n"
     ]
    }
   ],
   "metadata": {}
  },
  {
   "cell_type": "markdown",
   "source": [
    "- - -\n",
    "- - -\n",
    "# 사전\n",
    "\n",
    "- 사전(dictionary)이란 key와 value 쌍으로 이루어진 hash table"
   ],
   "metadata": {}
  },
  {
   "cell_type": "markdown",
   "source": [
    "- - -\n",
    "## 사전 관련 함수"
   ],
   "metadata": {}
  },
  {
   "cell_type": "code",
   "execution_count": 27,
   "source": [
    "\n",
    "## 요소 확인하는 함수 - 값을 효율적으로 순회하거나 변경할 때 사용\n",
    "\n",
    "dic = {1:1, 2:4, 3:9, 4:16, 5:25}\n",
    "\n",
    "# .keys() => 키 리스트 받기\n",
    "print(dic.keys())\n",
    "print(list(dic.keys()))\n",
    "\n",
    "# .values() => 값 리스트 받기\n",
    "print(dic.values())\n",
    "print(list(dic.values()))\n",
    "\n",
    "# .items() => 키와 값 쌍으로 얻기\n",
    "print(dic.items())\n",
    "print(list(dic.items()))"
   ],
   "outputs": [
    {
     "output_type": "stream",
     "name": "stdout",
     "text": [
      "dict_keys([1, 2, 3, 4, 5])\n",
      "[1, 2, 3, 4, 5]\n",
      "dict_values([1, 4, 9, 16, 25])\n",
      "[1, 4, 9, 16, 25]\n",
      "dict_items([(1, 1), (2, 4), (3, 9), (4, 16), (5, 25)])\n",
      "[(1, 1), (2, 4), (3, 9), (4, 16), (5, 25)]\n"
     ]
    }
   ],
   "metadata": {}
  },
  {
   "cell_type": "markdown",
   "source": [
    "- - -\n",
    "- - -\n",
    "# 반복문과 comprehension"
   ],
   "metadata": {}
  },
  {
   "cell_type": "markdown",
   "source": [
    "- - -\n",
    "## 대표적인 이터레이터 객체 생성 함수 : itertools 모듈 함수\n",
    "\n",
    "- itertools 모듈은 다양한 종류의 이터레이터 객체를 생성하는 함수로 구성됨"
   ],
   "metadata": {}
  },
  {
   "cell_type": "code",
   "execution_count": 33,
   "source": [
    "import itertools\n",
    "\n",
    "## itertools.product(*L)\n",
    "# 순회가능한 여러 개의 객체를 순서대로 순회하는 이터레이터를 생성 (**다중 for문과 같다**)\n",
    "count = 0\n",
    "for a, b, c in itertools.product(range(2), range(2), range(2)):\n",
    "\tprint(a, b, c)\n",
    "\n"
   ],
   "outputs": [
    {
     "output_type": "stream",
     "name": "stdout",
     "text": [
      "0 0 0\n",
      "0 0 1\n",
      "0 1 0\n",
      "0 1 1\n",
      "1 0 0\n",
      "1 0 1\n",
      "1 1 0\n",
      "1 1 1\n"
     ]
    }
   ],
   "metadata": {}
  },
  {
   "cell_type": "code",
   "execution_count": 37,
   "source": [
    "\n",
    "## itertools.combination(p,r)\n",
    "# 이터레이터 객체 p 에서 크기 r의 가능한 모든 *조합*을 갖는 이터레이터를 생성\n",
    "\n",
    "L = ['a', 'b', 'c', 'd']\n",
    "for comb in itertools.combinations(L, 2):\n",
    "\tprint(comb)"
   ],
   "outputs": [
    {
     "output_type": "stream",
     "name": "stdout",
     "text": [
      "('a', 'b')\n",
      "('a', 'c')\n",
      "('a', 'd')\n",
      "('b', 'c')\n",
      "('b', 'd')\n",
      "('c', 'd')\n"
     ]
    }
   ],
   "metadata": {}
  },
  {
   "cell_type": "code",
   "execution_count": 39,
   "source": [
    "\n",
    "# L에서 가능한 모든 조합 뽑기\n",
    "\n",
    "for r in range(1, len(L) + 1):\n",
    "\tfor comb in itertools.combinations(L, r):\n",
    "\t\tprint(comb)"
   ],
   "outputs": [
    {
     "output_type": "stream",
     "name": "stdout",
     "text": [
      "('a',)\n",
      "('b',)\n",
      "('c',)\n",
      "('d',)\n",
      "('a', 'b')\n",
      "('a', 'c')\n",
      "('a', 'd')\n",
      "('b', 'c')\n",
      "('b', 'd')\n",
      "('c', 'd')\n",
      "('a', 'b', 'c')\n",
      "('a', 'b', 'd')\n",
      "('a', 'c', 'd')\n",
      "('b', 'c', 'd')\n",
      "('a', 'b', 'c', 'd')\n"
     ]
    }
   ],
   "metadata": {}
  },
  {
   "cell_type": "code",
   "execution_count": 36,
   "source": [
    "\n",
    "## itertools.permutations(p,r)\n",
    "# 이터레이터 객체 p 에서 크기 r의 가능한 모든 *순열*을 갖는 이터레이터를 생성\n",
    "\n",
    "for per in itertools.permutations(L, 2):\n",
    "\tprint(per)"
   ],
   "outputs": [
    {
     "output_type": "stream",
     "name": "stdout",
     "text": [
      "('a', 'b')\n",
      "('a', 'c')\n",
      "('a', 'd')\n",
      "('b', 'a')\n",
      "('b', 'c')\n",
      "('b', 'd')\n",
      "('c', 'a')\n",
      "('c', 'b')\n",
      "('c', 'd')\n",
      "('d', 'a')\n",
      "('d', 'b')\n",
      "('d', 'c')\n"
     ]
    }
   ],
   "metadata": {}
  },
  {
   "cell_type": "markdown",
   "source": [
    "- - -\n",
    "## Comprehension\n",
    "\n",
    "___list comprehension___\n",
    "\n",
    "- for문을 사용하여 한줄로 리스트 작성\n",
    "- 문법 : [output **for** element **in** iterator (**if** condition)]\n",
    "\n",
    "___dictionary comprehension___\n",
    "\n",
    "- for문을 사용하여 한줄로 사전 작성\n",
    "- 문법 : {~key~ : ~val~  **for** key, val **in** iterator (**if** condition)}"
   ],
   "metadata": {}
  },
  {
   "cell_type": "code",
   "execution_count": 50,
   "source": [
    "\n",
    "# 예시1 (dictionary comprehension)\n",
    "\n",
    "dic1 = {x:y**2 for x,y in zip(range(10), range(10)) if x%2 == 0}\n",
    "print(dic1)"
   ],
   "outputs": [
    {
     "output_type": "stream",
     "name": "stdout",
     "text": [
      "{0: 0, 2: 4, 4: 16, 6: 36, 8: 64}\n"
     ]
    }
   ],
   "metadata": {}
  },
  {
   "cell_type": "code",
   "execution_count": 49,
   "source": [
    "\n",
    "# 풀어쓰면 아래와 같다\n",
    "dic2 = dict()\n",
    "for x, y in zip(range(10), range(10)):\n",
    "\tif x%2 == 0:\n",
    "\t\tdic2[x] = y ** 2\n",
    "print(dic2)"
   ],
   "outputs": [
    {
     "output_type": "stream",
     "name": "stdout",
     "text": [
      "{0: 0, 2: 4, 4: 16, 6: 36, 8: 64}\n"
     ]
    }
   ],
   "metadata": {}
  },
  {
   "cell_type": "code",
   "execution_count": 52,
   "source": [
    "\n",
    "# 예시2 (dictionary comprehension)\n",
    "dic_ex1 = {1 : 'NaN', 2:2, 3:4, 4:'NaN'}\n",
    "dic_ex2 = {x:y for x,y in dic_ex1.items() if y != 'NaN'}\n",
    "\n",
    "print(dic_ex1)\n",
    "print(dic_ex2)"
   ],
   "outputs": [
    {
     "output_type": "stream",
     "name": "stdout",
     "text": [
      "{1: 'NaN', 2: 2, 3: 4, 4: 'NaN'}\n",
      "{2: 2, 3: 4}\n"
     ]
    }
   ],
   "metadata": {}
  },
  {
   "cell_type": "markdown",
   "source": [
    "- - -\n",
    "- - -\n",
    "# Numpy의 데이터 구조\n",
    "\n",
    "- Numpy의 자료형은 __ndarray__ ; 배열연산에 특화\n",
    "- 리스트와 ndarray는 유연성과 효율성을 기준으로 비교할 수 있다."
   ],
   "metadata": {}
  },
  {
   "cell_type": "markdown",
   "source": [
    "- - -\n",
    "### 리스트와 ndarray의 비교\n",
    "\n",
    "_리스트_\n",
    "- 유연성이 높고 효율성이 떨어짐\n",
    "- 서로 다른 데이터 타입의 요소를 담을 수 있으나, 각 요소 정보를 따로 저장하므로 반복문 사용이 필수적\n",
    "\n",
    "_ndarray_\n",
    "- 유연성이 낮고 효율성이높음\n",
    "- 서로 다른 데이터 타입의 요소를 담을 수 없으나, 모든 요소 정보를 한번에 저장하므로 C로 구현된 내부 반복문을 사용하여 속도가 매우 빠르다"
   ],
   "metadata": {}
  },
  {
   "cell_type": "markdown",
   "source": [
    "- - -\n",
    "## 사용방법"
   ],
   "metadata": {}
  },
  {
   "cell_type": "code",
   "execution_count": 54,
   "source": [
    "\n",
    "# np.array([...]) => ndarray의 작성\n",
    "import numpy as np\n",
    "a = np.array([1,3,2,5,3])\n",
    "b = np.array([3.14, 4, 2, 3])\n",
    "c = np.array([1,2,3,4], dtype = float)\n",
    "print(a)\n",
    "print(b) # 모든 자료형이 같아야 하므로, 모두 float으로 설정됨\n",
    "print(c)"
   ],
   "outputs": [
    {
     "output_type": "stream",
     "name": "stdout",
     "text": [
      "[1 3 2 5 3]\n",
      "[3.14 4.   2.   3.  ]\n",
      "[1. 2. 3. 4.]\n"
     ]
    }
   ],
   "metadata": {}
  },
  {
   "cell_type": "code",
   "execution_count": 56,
   "source": [
    "a\n",
    "# array([..])"
   ],
   "outputs": [
    {
     "output_type": "execute_result",
     "data": {
      "text/plain": [
       "array([1, 3, 2, 5, 3])"
      ]
     },
     "metadata": {},
     "execution_count": 56
    }
   ],
   "metadata": {}
  },
  {
   "cell_type": "markdown",
   "source": [
    "- - -\n",
    "## 다양한 함수"
   ],
   "metadata": {}
  },
  {
   "cell_type": "code",
   "execution_count": 59,
   "source": [
    "\n",
    "# np.zeros(shape) => shape(튜플) 모양을 갖는 영벡터/영행렬 생성\n",
    "\n",
    "np.zeros((3,2))"
   ],
   "outputs": [
    {
     "output_type": "execute_result",
     "data": {
      "text/plain": [
       "array([[0., 0.],\n",
       "       [0., 0.],\n",
       "       [0., 0.]])"
      ]
     },
     "metadata": {},
     "execution_count": 59
    }
   ],
   "metadata": {}
  },
  {
   "cell_type": "code",
   "execution_count": 60,
   "source": [
    "\n",
    "# np.arange([start,] stop [, step]) => start부터 stop까지 step만큼 건너뛴 ndarray반환\n",
    "\n",
    "np.arange(1, 5, 0.2)"
   ],
   "outputs": [
    {
     "output_type": "execute_result",
     "data": {
      "text/plain": [
       "array([1. , 1.2, 1.4, 1.6, 1.8, 2. , 2.2, 2.4, 2.6, 2.8, 3. , 3.2, 3.4,\n",
       "       3.6, 3.8, 4. , 4.2, 4.4, 4.6, 4.8])"
      ]
     },
     "metadata": {},
     "execution_count": 60
    }
   ],
   "metadata": {}
  },
  {
   "cell_type": "code",
   "execution_count": 61,
   "source": [
    "\n",
    "# np.linspace(start, stop, num) => start부터 stop까지 num개수의 요소를 가지는 등간격의 1차원 배열 반환\n",
    "\n",
    "np.linspace(0,1,9)"
   ],
   "outputs": [
    {
     "output_type": "execute_result",
     "data": {
      "text/plain": [
       "array([0.   , 0.125, 0.25 , 0.375, 0.5  , 0.625, 0.75 , 0.875, 1.   ])"
      ]
     },
     "metadata": {},
     "execution_count": 61
    }
   ],
   "metadata": {}
  },
  {
   "cell_type": "markdown",
   "source": [
    "- - -\n",
    "## 인덱싱과 슬라이싱\n",
    "\n",
    "- 기본적인 인덱싱과 슬라이싱은 리스트와 완전 동일\n",
    "- 2차원 배열의 경우, X[i, j]는 i행j열의 요소를 나타냄 (리스트의 경우 X[i][j])\n",
    "- Bool리스트나, 여러개의 인덱스를 리스트 형태로 입력받을 수도 있다."
   ],
   "metadata": {}
  },
  {
   "cell_type": "code",
   "execution_count": 62,
   "source": [
    "\n",
    "# 기본적인 인덱싱과 슬라이싱\n",
    "x1 = np.random.random(size = (10, 5))\n",
    "\n",
    "print(\"x1[0,1]:\\n\", x1[0,1])\n",
    "print(\"x1[1:4, 2]:\\n\", x1[1:4, 2])\n",
    "print(\"x1[0, 2:4]:\\n\", x1[0, 2:4])"
   ],
   "outputs": [
    {
     "output_type": "stream",
     "name": "stdout",
     "text": [
      "x1[0,1]:\n",
      " 0.991458380474886\n",
      "x1[1:4, 2]:\n",
      " [0.28552211 0.72780905 0.64592508]\n",
      "x1[0, 2:4]:\n",
      " [0.1724539  0.87906146]\n"
     ]
    }
   ],
   "metadata": {}
  },
  {
   "cell_type": "markdown",
   "source": [
    "- - -\n",
    "## 유니버셜 함수\n",
    "\n",
    "- 유니버셜 함수는 ndarray의 개별요소에 반복된 연산을 빠르게 수행하는 것을 주 목적으로 하는 함수\n",
    "- 유니버셜 함수는 단순 반복문에 비해 매우 빠름"
   ],
   "metadata": {}
  },
  {
   "cell_type": "code",
   "execution_count": 63,
   "source": [
    "\n",
    "x = np.array([1,2,3,4])\n",
    "y = np.array([4,3,2,1])\n",
    "\n",
    "print(\"x + y = \", x + y)\n",
    "print(\"x - y = \", x - y)\n",
    "print(\"x * y = \", x * y)\n",
    "print(\"x / y = \", x / y)\n",
    "print(\"log x = \", np.log(x))\n"
   ],
   "outputs": [
    {
     "output_type": "stream",
     "name": "stdout",
     "text": [
      "x + y =  [5 5 5 5]\n",
      "x - y =  [-3 -1  1  3]\n",
      "x * y =  [4 6 6 4]\n",
      "x / y =  [0.25       0.66666667 1.5        4.        ]\n",
      "log x =  [0.         0.69314718 1.09861229 1.38629436]\n"
     ]
    }
   ],
   "metadata": {}
  },
  {
   "cell_type": "code",
   "execution_count": 65,
   "source": [
    "\n",
    "# loop와 유니버셜 함수의 속도 비교\n",
    "arr_1 = np.random.randint(1,10, size = 10 ** 8)\n",
    "arr_2 = np.random.randint(1,10, size = 10 ** 8)\n",
    "\n",
    "import time\n",
    "t1 = time.time()\n",
    "output = []\n",
    "for val1, val2 in zip(arr_1, arr_2):\n",
    "\toutput.append(val1 + val2) # 반복문과 리스트를 사용해서 합계 구현\n",
    "t2 = time.time()\n",
    "print(\"반복문을 사용한 경우 : \", round(t2 - t1, 4))\n",
    "\n",
    "t1 = time.time()\n",
    "output = arr_1 + arr_2 # 유니버셜 함수를 사용해서 구현\n",
    "t2 = time.time()\n",
    "print(\"유니버셜 함수를 사용한 경우\", round(t2 - t1, 4), \"   --> 압도적으로 빠르다\")"
   ],
   "outputs": [
    {
     "output_type": "stream",
     "name": "stdout",
     "text": [
      "반복문을 사용한 경우 :  65.5616\n",
      "유니버셜 함수를 사용한 경우 9.3789    --> 압도적으로 빠르다\n"
     ]
    }
   ],
   "metadata": {}
  },
  {
   "cell_type": "markdown",
   "source": [
    "- - -\n",
    "## 브로드캐스팅\n",
    "\n",
    "- 다른 크기의 배열에 유니버셜 함수를 적용하는 규칙 집합으로, 큰 차원의 배열에 맞게 작은 배열이 확장됨"
   ],
   "metadata": {}
  },
  {
   "cell_type": "code",
   "execution_count": 67,
   "source": [
    "print(np.arange(3) + 5)\n",
    "print()\n",
    "print(np.ones((3,3)) + np.arange(3))\n",
    "print()\n",
    "print(np.arange(3).reshape(3,1) + np.arange(3))"
   ],
   "outputs": [
    {
     "output_type": "stream",
     "name": "stdout",
     "text": [
      "[5 6 7]\n",
      "\n",
      "[[1. 2. 3.]\n",
      " [1. 2. 3.]\n",
      " [1. 2. 3.]]\n",
      "\n",
      "[[0 1 2]\n",
      " [1 2 3]\n",
      " [2 3 4]]\n"
     ]
    }
   ],
   "metadata": {}
  },
  {
   "cell_type": "code",
   "execution_count": 71,
   "source": [
    "\n",
    "# 브로드캐스팅 다른 예시 z ~ normalization\n",
    "\n",
    "X = np.random.random((10, 3))\n",
    "Xmean = X.mean(axis = 0) # 열별 평균 -> shape : (1,3)\n",
    "Xstd = X.std(axis = 0) # 열별 표준편차 -> shape : (1,3)\n",
    "Z = (X -Xmean) / Xstd  ## 브로드캐스팅을 통해 shape이 맞지 않더라도 복제되어 연산된다.\n",
    "\n",
    "print(\"X:\", X)\n",
    "print(\"\\nXmean:\\n:\", Xmean)\n",
    "print(\"\\nXstd:\\n\", Xstd)\n",
    "print(\"\\nZ:\\n\", Z)"
   ],
   "outputs": [
    {
     "output_type": "stream",
     "name": "stdout",
     "text": [
      "X: [[0.34526374 0.0068874  0.0648696 ]\n",
      " [0.02405672 0.33285715 0.77607038]\n",
      " [0.53832713 0.03900782 0.76152028]\n",
      " [0.53662339 0.87083756 0.05370867]\n",
      " [0.32347594 0.35124106 0.78431537]\n",
      " [0.9124582  0.76879527 0.57759713]\n",
      " [0.36505003 0.57848753 0.78177599]\n",
      " [0.14326022 0.06703938 0.40142469]\n",
      " [0.3084953  0.95590363 0.97143739]\n",
      " [0.45909972 0.94533755 0.7000227 ]]\n",
      "\n",
      "Xmean:\n",
      ": [0.39561104 0.49163943 0.58727422]\n",
      "\n",
      "Xstd:\n",
      " [0.23008893 0.36257427 0.2991969 ]\n",
      "\n",
      "Z:\n",
      " [[-0.21881668 -1.33697305 -1.74602282]\n",
      " [-1.61482919 -0.43793037  0.63100974]\n",
      " [ 0.62026493 -1.24838316  0.58237922]\n",
      " [ 0.6128602   1.0458495  -1.78332578]\n",
      " [-0.31350963 -0.38722653  0.6585668 ]\n",
      " [ 2.24629301  0.76441119 -0.03234354]\n",
      " [-0.13282261  0.23953189  0.65007949]\n",
      " [-1.09675342 -1.17107056 -0.62116127]\n",
      " [-0.37861768  1.28046648  1.28398109]\n",
      " [ 0.27593107  1.25132462  0.37683707]]\n"
     ]
    }
   ],
   "metadata": {}
  },
  {
   "cell_type": "markdown",
   "source": [
    "- - -\n",
    "## 비교 연산자\n",
    "\n",
    "- 비교 연산자의 결과는 항상 Bool 타입의 배열\n",
    "- 따라서 비교연산자의 결과를 바탕으로 조건에 맞는 요소 탐색에 활용가능"
   ],
   "metadata": {}
  },
  {
   "cell_type": "code",
   "execution_count": 74,
   "source": [
    "L = np.array([1,2,3,4,5])\n",
    "cond = L>=3\n",
    "print(sum(cond)) # 조건을 만족하는 요소의 개수\n",
    "print(L[cond]) # 조건을 만족하는 요소만 반환\n"
   ],
   "outputs": [
    {
     "output_type": "stream",
     "name": "stdout",
     "text": [
      "3\n",
      "[3 4 5]\n"
     ]
    }
   ],
   "metadata": {}
  },
  {
   "cell_type": "markdown",
   "source": [
    "- - -\n",
    "- - -\n",
    "# Pandas의 데이터 구조\n",
    "\n",
    "- Series 와 DataFrame 으로 구성"
   ],
   "metadata": {}
  },
  {
   "cell_type": "markdown",
   "source": [
    "- - -\n",
    "## Series\n",
    "\n",
    "- **1차원 배열 자료형**으로 인덱스와 값의 쌍으로 구성\n",
    "- Series는 ndarray에 인덱스가 부여된 형태이므로 Series에서 유니버셜 함수와 브로드캐스팅 등이 적용된다."
   ],
   "metadata": {}
  },
  {
   "cell_type": "code",
   "execution_count": 5,
   "source": [
    "\n",
    "## Series의 작성\n",
    "\n",
    "import pandas as pd\n",
    "\n",
    "# 1. 사전을 이용한 작성법\n",
    "print(pd.Series({'a':1, 'b':2, 'c':3, 'd':4}))\n",
    "\n",
    "print()\n",
    "\n",
    "# 2. 리스트를 이용한 작성법\n",
    "print(pd.Series([1,2,3,4], index = ['a','b','c','d']))\n"
   ],
   "outputs": [
    {
     "output_type": "stream",
     "name": "stdout",
     "text": [
      "a    1\n",
      "b    2\n",
      "c    3\n",
      "d    4\n",
      "dtype: int64\n",
      "\n",
      "a    1\n",
      "b    2\n",
      "c    3\n",
      "d    4\n",
      "dtype: int64\n"
     ]
    }
   ],
   "metadata": {}
  },
  {
   "cell_type": "code",
   "execution_count": 9,
   "source": [
    "\n",
    "s = pd.Series({'a':1, 'b':2, 'c':3, 'd':4})\n",
    "\n",
    "print(s.values)\n",
    "print(type(s.values))  # 인덱스를 제외하면 nparray이다"
   ],
   "outputs": [
    {
     "output_type": "stream",
     "name": "stdout",
     "text": [
      "[1 2 3 4]\n",
      "<class 'numpy.ndarray'>\n"
     ]
    }
   ],
   "metadata": {}
  },
  {
   "cell_type": "markdown",
   "source": [
    "- - -\n",
    "## DataFrame\n",
    "\n",
    "- **2차원 배열 자료형**으로 값, 행 인덱스(**보통 그냥 index라고 부름**), 열 인덱스(**보통 column으로 부름**) 로 구성\n",
    "- DataFrame은 ndarray에 행과 열 인덱스가 부여된 형태의 데이터\n",
    "- DataFrame은 **하나 이상의 Series의 집합**이라고도 볼 수 있다"
   ],
   "metadata": {}
  },
  {
   "cell_type": "code",
   "execution_count": 13,
   "source": [
    "\n",
    "## DataFrame 의 작성법\n",
    "\n",
    "# 1. 사전을 이용한 정의\n",
    "df = pd.DataFrame({'Col1':[1,2,3,4], 'Col2':[5,6,7,8]}, index = ['a', 'b', 'c', 'd'])\n",
    "print(df)\n",
    "\n",
    "# 2. 데이터, 컬럼, 인덱스 따로 정의\n",
    "\n",
    "## 이외에도 몇가지 방법이 더 있지만 생략"
   ],
   "outputs": [
    {
     "output_type": "stream",
     "name": "stdout",
     "text": [
      "   Col1  Col2\n",
      "a     1     5\n",
      "b     2     6\n",
      "c     3     7\n",
      "d     4     8\n"
     ]
    }
   ],
   "metadata": {}
  },
  {
   "cell_type": "code",
   "execution_count": 14,
   "source": [
    "df.values"
   ],
   "outputs": [
    {
     "output_type": "execute_result",
     "data": {
      "text/plain": [
       "array([[1, 5],\n",
       "       [2, 6],\n",
       "       [3, 7],\n",
       "       [4, 8]])"
      ]
     },
     "metadata": {},
     "execution_count": 14
    }
   ],
   "metadata": {}
  },
  {
   "cell_type": "code",
   "execution_count": 15,
   "source": [
    "type(df.values) # 역시 값은 ndarray"
   ],
   "outputs": [
    {
     "output_type": "execute_result",
     "data": {
      "text/plain": [
       "numpy.ndarray"
      ]
     },
     "metadata": {},
     "execution_count": 15
    }
   ],
   "metadata": {}
  },
  {
   "cell_type": "code",
   "execution_count": 18,
   "source": [
    "type(df['Col1'])"
   ],
   "outputs": [
    {
     "output_type": "execute_result",
     "data": {
      "text/plain": [
       "pandas.core.series.Series"
      ]
     },
     "metadata": {},
     "execution_count": 18
    }
   ],
   "metadata": {}
  },
  {
   "cell_type": "markdown",
   "source": [
    "- - -\n",
    "## Pandas의 인덱싱과 슬라이싱\n",
    "\n",
    "|암묵적 인덱스|명시적 인덱스|Data|\n",
    "|--|--|--|\n",
    "|0|a|1|\n",
    "|1|b|2|\n",
    "|2|c|3|\n",
    "|3|d|4|\n",
    "\n",
    "- Pandas 객체는 암묵적 인덱스(위치인덱스)와 명시적 인덱스라는 두 종류의 인덱스가 있음\n",
    "- **명시**적 인덱스를 참조하는 **loc 인덱서**와 **암묵**적 인덱스를 참조하는 **iloc 인덱서**가 있다"
   ],
   "metadata": {}
  },
  {
   "cell_type": "code",
   "execution_count": 26,
   "source": [
    "print(s, '\\n')\n",
    "\n",
    "print(\"s.loc['a'] = \", s.loc['a'])\n",
    "print(\"s.iloc[2] = \", s.iloc[2])\n",
    "\n",
    "## 주의사항\n",
    "# loc를 이용한 슬라이싱에서는 맨 뒤 값을 포함한다\n",
    "print(s.loc['a':'c'])\n",
    "# iloc를 이용한 슬라이싱 에서는 맨 뒤 값을 포함하지 않는다.\n",
    "print(s.iloc[0:2])\n"
   ],
   "outputs": [
    {
     "output_type": "stream",
     "name": "stdout",
     "text": [
      "a    1\n",
      "b    2\n",
      "c    3\n",
      "d    4\n",
      "dtype: int64 \n",
      "\n",
      "s.loc['a'] =  1\n",
      "s.iloc[2] =  3\n",
      "a    1\n",
      "b    2\n",
      "c    3\n",
      "dtype: int64\n",
      "a    1\n",
      "b    2\n",
      "dtype: int64\n"
     ]
    }
   ],
   "metadata": {}
  },
  {
   "cell_type": "code",
   "execution_count": 31,
   "source": [
    "\n",
    "## dataframe 의 인덱싱 및 슬라이싱\n",
    "df"
   ],
   "outputs": [
    {
     "output_type": "execute_result",
     "data": {
      "text/plain": [
       "   Col1  Col2\n",
       "a     1     5\n",
       "b     2     6\n",
       "c     3     7\n",
       "d     4     8"
      ],
      "text/html": [
       "<div>\n",
       "<style scoped>\n",
       "    .dataframe tbody tr th:only-of-type {\n",
       "        vertical-align: middle;\n",
       "    }\n",
       "\n",
       "    .dataframe tbody tr th {\n",
       "        vertical-align: top;\n",
       "    }\n",
       "\n",
       "    .dataframe thead th {\n",
       "        text-align: right;\n",
       "    }\n",
       "</style>\n",
       "<table border=\"1\" class=\"dataframe\">\n",
       "  <thead>\n",
       "    <tr style=\"text-align: right;\">\n",
       "      <th></th>\n",
       "      <th>Col1</th>\n",
       "      <th>Col2</th>\n",
       "    </tr>\n",
       "  </thead>\n",
       "  <tbody>\n",
       "    <tr>\n",
       "      <th>a</th>\n",
       "      <td>1</td>\n",
       "      <td>5</td>\n",
       "    </tr>\n",
       "    <tr>\n",
       "      <th>b</th>\n",
       "      <td>2</td>\n",
       "      <td>6</td>\n",
       "    </tr>\n",
       "    <tr>\n",
       "      <th>c</th>\n",
       "      <td>3</td>\n",
       "      <td>7</td>\n",
       "    </tr>\n",
       "    <tr>\n",
       "      <th>d</th>\n",
       "      <td>4</td>\n",
       "      <td>8</td>\n",
       "    </tr>\n",
       "  </tbody>\n",
       "</table>\n",
       "</div>"
      ]
     },
     "metadata": {},
     "execution_count": 31
    }
   ],
   "metadata": {}
  },
  {
   "cell_type": "code",
   "execution_count": 29,
   "source": [
    "\n",
    "# series 반환\n",
    "df['Col1']"
   ],
   "outputs": [
    {
     "output_type": "execute_result",
     "data": {
      "text/plain": [
       "a    1\n",
       "b    2\n",
       "c    3\n",
       "d    4\n",
       "Name: Col1, dtype: int64"
      ]
     },
     "metadata": {},
     "execution_count": 29
    }
   ],
   "metadata": {}
  },
  {
   "cell_type": "code",
   "execution_count": 30,
   "source": [
    "\n",
    "# dataframe 반환 (리스트형태의 인자)\n",
    "df[['Col1']]"
   ],
   "outputs": [
    {
     "output_type": "execute_result",
     "data": {
      "text/plain": [
       "   Col1\n",
       "a     1\n",
       "b     2\n",
       "c     3\n",
       "d     4"
      ],
      "text/html": [
       "<div>\n",
       "<style scoped>\n",
       "    .dataframe tbody tr th:only-of-type {\n",
       "        vertical-align: middle;\n",
       "    }\n",
       "\n",
       "    .dataframe tbody tr th {\n",
       "        vertical-align: top;\n",
       "    }\n",
       "\n",
       "    .dataframe thead th {\n",
       "        text-align: right;\n",
       "    }\n",
       "</style>\n",
       "<table border=\"1\" class=\"dataframe\">\n",
       "  <thead>\n",
       "    <tr style=\"text-align: right;\">\n",
       "      <th></th>\n",
       "      <th>Col1</th>\n",
       "    </tr>\n",
       "  </thead>\n",
       "  <tbody>\n",
       "    <tr>\n",
       "      <th>a</th>\n",
       "      <td>1</td>\n",
       "    </tr>\n",
       "    <tr>\n",
       "      <th>b</th>\n",
       "      <td>2</td>\n",
       "    </tr>\n",
       "    <tr>\n",
       "      <th>c</th>\n",
       "      <td>3</td>\n",
       "    </tr>\n",
       "    <tr>\n",
       "      <th>d</th>\n",
       "      <td>4</td>\n",
       "    </tr>\n",
       "  </tbody>\n",
       "</table>\n",
       "</div>"
      ]
     },
     "metadata": {},
     "execution_count": 30
    }
   ],
   "metadata": {}
  },
  {
   "cell_type": "code",
   "execution_count": 36,
   "source": [
    "\n",
    "print(df.loc['a':'c', 'Col1'])\n",
    "print()\n",
    "\n",
    "print(df.iloc[0:3, 0])\n"
   ],
   "outputs": [
    {
     "output_type": "stream",
     "name": "stdout",
     "text": [
      "a    1\n",
      "b    2\n",
      "c    3\n",
      "Name: Col1, dtype: int64\n",
      "\n",
      "a    1\n",
      "b    2\n",
      "c    3\n",
      "Name: Col1, dtype: int64\n"
     ]
    }
   ],
   "metadata": {}
  }
 ],
 "metadata": {
  "orig_nbformat": 4,
  "language_info": {
   "name": "python",
   "version": "3.7.3",
   "mimetype": "text/x-python",
   "codemirror_mode": {
    "name": "ipython",
    "version": 3
   },
   "pygments_lexer": "ipython3",
   "nbconvert_exporter": "python",
   "file_extension": ".py"
  },
  "kernelspec": {
   "name": "python3",
   "display_name": "Python 3.7.3 64-bit ('anaconda3': conda)"
  },
  "interpreter": {
   "hash": "50784419fe898108f44419d7095efdb0a1ba7abb2a978f5ac080977cb6168522"
  }
 },
 "nbformat": 4,
 "nbformat_minor": 2
}