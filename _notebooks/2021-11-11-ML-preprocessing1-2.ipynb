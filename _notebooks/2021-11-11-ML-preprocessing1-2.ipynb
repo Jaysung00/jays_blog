{
 "cells": [
  {
   "cell_type": "markdown",
   "source": [
    "# Fastcampus 파이썬 전처리 - 1-2. 파이썬 주요 데이터 구조\n",
    "\n",
    "- toc: true\n",
    "- badges: false\n",
    "- comments: true\n",
    "- author: Jay Sung\n",
    "- categories: [ ___  B. MACHINE LEARNING ___ > Pre-processing]"
   ],
   "metadata": {}
  },
  {
   "cell_type": "markdown",
   "source": [
    "- - -\n",
    "- - -\n",
    "# 리스트와 튜플\n",
    "\n",
    "\n",
    "_[공통점]_\n",
    "\n",
    "- 인덱싱과 슬라이싱 가능\n",
    "- iterable\n",
    "\n",
    "_[차이점]_\n",
    "\n",
    "- __리스트는 가변, 튜플은 불변__ 이므로 리스트는 사전의 key로 사용할 수 없고 튜플은 가능하다. \n",
    "- 순회 속도는 리스트보다 __튜플이 약간 더 빠르다__ (따라서 요소 변경이 필요없는 경우 튜플이 적합)"
   ],
   "metadata": {}
  },
  {
   "cell_type": "markdown",
   "source": [
    "- - -\n",
    "## 리스트 관련 함수"
   ],
   "metadata": {}
  },
  {
   "cell_type": "code",
   "execution_count": 18,
   "source": [
    "\n",
    "list1 = [5, 6, 7, 8, 9, 10]\n",
    "\n",
    "## 요소 추가\n",
    "# .append(x) => 새로운 요소x를 맨 뒤에 추가\n",
    "list1.append(10)\n",
    "print(list1)\n",
    "list1.append(20)\n",
    "print(list1)\n",
    "\n",
    "# .insert(a, x) => 새로운 요소 x를 a 위치에 추가 (기존의 요소는 뒤로 밀림)\n",
    "list1.insert(1,15)\n",
    "print(list1)"
   ],
   "outputs": [
    {
     "output_type": "stream",
     "name": "stdout",
     "text": [
      "[5, 6, 7, 8, 9, 10, 10]\n",
      "[5, 6, 7, 8, 9, 10, 10, 20]\n",
      "[5, 15, 6, 7, 8, 9, 10, 10, 20]\n"
     ]
    }
   ],
   "metadata": {}
  },
  {
   "cell_type": "code",
   "execution_count": 15,
   "source": [
    "\n",
    "## 요소 제거\n",
    "# .remove(x) => 기존 요소 x를 제거 (단, x가 여러 개면 맨 앞 하나만 지워지고, 없으면 오류 발생)\n",
    "list1.remove(10)\n",
    "print(list1)\n",
    "\n",
    "# .pop() => 맨 마지막 요소를 출력하면서 그 요소를 삭제 (stack 구조)\n",
    "list1.pop()"
   ],
   "outputs": [
    {
     "output_type": "stream",
     "name": "stdout",
     "text": [
      "[5, 15, 6, 7, 8, 9, 10, 20]\n"
     ]
    },
    {
     "output_type": "execute_result",
     "data": {
      "text/plain": [
       "20"
      ]
     },
     "metadata": {},
     "execution_count": 15
    }
   ],
   "metadata": {}
  },
  {
   "cell_type": "code",
   "execution_count": 17,
   "source": [
    "\n",
    "## 위치 찾기\n",
    "# .index(x) => x의 위치를 반환 (단, x가 여러 개면 맨 앞 인덱스를 반환하고, 없으면 오류 발생)\n",
    "list1.index(7)"
   ],
   "outputs": [
    {
     "output_type": "execute_result",
     "data": {
      "text/plain": [
       "3"
      ]
     },
     "metadata": {},
     "execution_count": 17
    }
   ],
   "metadata": {}
  },
  {
   "cell_type": "markdown",
   "source": [
    "- - -\n",
    "## 튜플 관련 함수\n",
    "\n",
    "- 소괄호를 쓰지 않아도 된다는 특징 덕분에 SWAP (값을 서로 변경), 함수의 가변인자 및 여러개의 출력을 받는데 많이 사용"
   ],
   "metadata": {}
  },
  {
   "cell_type": "code",
   "execution_count": 21,
   "source": [
    "\n",
    "# 소괄호 없이 튜플 만들기\n",
    "T = 1, 2, 3\n",
    "print(T)"
   ],
   "outputs": [
    {
     "output_type": "stream",
     "name": "stdout",
     "text": [
      "(1, 2, 3)\n"
     ]
    }
   ],
   "metadata": {}
  },
  {
   "cell_type": "code",
   "execution_count": 22,
   "source": [
    "\n",
    "# 원소가 하나인 튜플은 반드시 원소뒤에 쉼표 붙여서 표시\n",
    "T = 1,\n",
    "print(type(T))\n",
    "print(T)"
   ],
   "outputs": [
    {
     "output_type": "stream",
     "name": "stdout",
     "text": [
      "<class 'tuple'>\n",
      "(1,)\n"
     ]
    }
   ],
   "metadata": {}
  },
  {
   "cell_type": "code",
   "execution_count": 23,
   "source": [
    "\n",
    "# 튜플을 이용한 여러 값 동시에 입력 받기 및 SWAP\n",
    "a, b = 1, 2\n",
    "print(a, b)\n",
    "b, a = a, b\n",
    "print(a, b)"
   ],
   "outputs": [
    {
     "output_type": "stream",
     "name": "stdout",
     "text": [
      "1 2\n",
      "2 1\n"
     ]
    }
   ],
   "metadata": {}
  },
  {
   "cell_type": "code",
   "execution_count": 24,
   "source": [
    "\n",
    "# 함수의 가변인자로 사용\n",
    "def f(*x):\n",
    "\tprint(\"입력된 데이터 타입 {}\".format(type(x)))\n",
    "\tsum_x = 0\n",
    "\tproduct_x = 1\n",
    "\tfor val in x:  # x는 튜플이므로 iterable => for문 사용가능\n",
    "\t\tsum_x += val\n",
    "\t\tproduct_x *= val\n",
    "\treturn sum_x, product_x\n",
    "\n",
    "S, P = f(1,2,3,4,5)\n",
    "print(S, P)"
   ],
   "outputs": [
    {
     "output_type": "stream",
     "name": "stdout",
     "text": [
      "입력된 데이터 타입 <class 'tuple'>\n",
      "15 120\n"
     ]
    }
   ],
   "metadata": {}
  },
  {
   "cell_type": "markdown",
   "source": [
    "- - -\n",
    "- - -\n",
    "# 사전\n",
    "\n",
    "- 사전(dictionary)이란 key와 value 쌍으로 이루어진 hash table"
   ],
   "metadata": {}
  },
  {
   "cell_type": "markdown",
   "source": [
    "- - -\n",
    "## 사전 관련 함수"
   ],
   "metadata": {}
  },
  {
   "cell_type": "code",
   "execution_count": 27,
   "source": [
    "\n",
    "## 요소 확인하는 함수 - 값을 효율적으로 순회하거나 변경할 때 사용\n",
    "\n",
    "dic = {1:1, 2:4, 3:9, 4:16, 5:25}\n",
    "\n",
    "# .keys() => 키 리스트 받기\n",
    "print(dic.keys())\n",
    "print(list(dic.keys()))\n",
    "\n",
    "# .values() => 값 리스트 받기\n",
    "print(dic.values())\n",
    "print(list(dic.values()))\n",
    "\n",
    "# .items() => 키와 값 쌍으로 얻기\n",
    "print(dic.items())\n",
    "print(list(dic.items()))"
   ],
   "outputs": [
    {
     "output_type": "stream",
     "name": "stdout",
     "text": [
      "dict_keys([1, 2, 3, 4, 5])\n",
      "[1, 2, 3, 4, 5]\n",
      "dict_values([1, 4, 9, 16, 25])\n",
      "[1, 4, 9, 16, 25]\n",
      "dict_items([(1, 1), (2, 4), (3, 9), (4, 16), (5, 25)])\n",
      "[(1, 1), (2, 4), (3, 9), (4, 16), (5, 25)]\n"
     ]
    }
   ],
   "metadata": {}
  },
  {
   "cell_type": "markdown",
   "source": [
    "- - -\n",
    "- - -\n",
    "# 반복문과 comprehension"
   ],
   "metadata": {}
  },
  {
   "cell_type": "markdown",
   "source": [
    "- - -\n",
    "## 대표적인 이터레이터 객체 생성 함수 : itertools 모듈 함수\n",
    "\n",
    "- itertools 모듈은 다양한 종류의 이터레이터 객체를 생성하는 함수로 구성됨"
   ],
   "metadata": {}
  },
  {
   "cell_type": "code",
   "execution_count": 33,
   "source": [
    "import itertools\n",
    "\n",
    "## itertools.product(*L)\n",
    "# 순회가능한 여러 개의 객체를 순서대로 순회하는 이터레이터를 생성 (**다중 for문과 같다**)\n",
    "count = 0\n",
    "for a, b, c in itertools.product(range(2), range(2), range(2)):\n",
    "\tprint(a, b, c)\n",
    "\n"
   ],
   "outputs": [
    {
     "output_type": "stream",
     "name": "stdout",
     "text": [
      "0 0 0\n",
      "0 0 1\n",
      "0 1 0\n",
      "0 1 1\n",
      "1 0 0\n",
      "1 0 1\n",
      "1 1 0\n",
      "1 1 1\n"
     ]
    }
   ],
   "metadata": {}
  },
  {
   "cell_type": "code",
   "execution_count": 37,
   "source": [
    "\n",
    "## itertools.combination(p,r)\n",
    "# 이터레이터 객체 p 에서 크기 r의 가능한 모든 *조합*을 갖는 이터레이터를 생성\n",
    "\n",
    "L = ['a', 'b', 'c', 'd']\n",
    "for comb in itertools.combinations(L, 2):\n",
    "\tprint(comb)"
   ],
   "outputs": [
    {
     "output_type": "stream",
     "name": "stdout",
     "text": [
      "('a', 'b')\n",
      "('a', 'c')\n",
      "('a', 'd')\n",
      "('b', 'c')\n",
      "('b', 'd')\n",
      "('c', 'd')\n"
     ]
    }
   ],
   "metadata": {}
  },
  {
   "cell_type": "code",
   "execution_count": 39,
   "source": [
    "\n",
    "# L에서 가능한 모든 조합 뽑기\n",
    "\n",
    "for r in range(1, len(L) + 1):\n",
    "\tfor comb in itertools.combinations(L, r):\n",
    "\t\tprint(comb)"
   ],
   "outputs": [
    {
     "output_type": "stream",
     "name": "stdout",
     "text": [
      "('a',)\n",
      "('b',)\n",
      "('c',)\n",
      "('d',)\n",
      "('a', 'b')\n",
      "('a', 'c')\n",
      "('a', 'd')\n",
      "('b', 'c')\n",
      "('b', 'd')\n",
      "('c', 'd')\n",
      "('a', 'b', 'c')\n",
      "('a', 'b', 'd')\n",
      "('a', 'c', 'd')\n",
      "('b', 'c', 'd')\n",
      "('a', 'b', 'c', 'd')\n"
     ]
    }
   ],
   "metadata": {}
  },
  {
   "cell_type": "code",
   "execution_count": 36,
   "source": [
    "\n",
    "## itertools.permutations(p,r)\n",
    "# 이터레이터 객체 p 에서 크기 r의 가능한 모든 *순열*을 갖는 이터레이터를 생성\n",
    "\n",
    "for per in itertools.permutations(L, 2):\n",
    "\tprint(per)"
   ],
   "outputs": [
    {
     "output_type": "stream",
     "name": "stdout",
     "text": [
      "('a', 'b')\n",
      "('a', 'c')\n",
      "('a', 'd')\n",
      "('b', 'a')\n",
      "('b', 'c')\n",
      "('b', 'd')\n",
      "('c', 'a')\n",
      "('c', 'b')\n",
      "('c', 'd')\n",
      "('d', 'a')\n",
      "('d', 'b')\n",
      "('d', 'c')\n"
     ]
    }
   ],
   "metadata": {}
  },
  {
   "cell_type": "markdown",
   "source": [
    "- - -\n",
    "## Comprehension\n",
    "\n",
    "___list comprehension___\n",
    "\n",
    "- for문을 사용하여 한줄로 리스트 작성\n",
    "- 문법 : [output **for** element **in** iterator (**if** condition)]\n",
    "\n",
    "___dictionary comprehension___\n",
    "\n",
    "- for문을 사용하여 한줄로 사전 작성\n",
    "- 문법 : {~key~ : ~val~  **for** key, val **in** iterator (**if** condition)}"
   ],
   "metadata": {}
  },
  {
   "cell_type": "code",
   "execution_count": 50,
   "source": [
    "\n",
    "# 예시1 (dictionary comprehension)\n",
    "\n",
    "dic1 = {x:y**2 for x,y in zip(range(10), range(10)) if x%2 == 0}\n",
    "print(dic1)"
   ],
   "outputs": [
    {
     "output_type": "stream",
     "name": "stdout",
     "text": [
      "{0: 0, 2: 4, 4: 16, 6: 36, 8: 64}\n"
     ]
    }
   ],
   "metadata": {}
  },
  {
   "cell_type": "code",
   "execution_count": 49,
   "source": [
    "\n",
    "# 풀어쓰면 아래와 같다\n",
    "dic2 = dict()\n",
    "for x, y in zip(range(10), range(10)):\n",
    "\tif x%2 == 0:\n",
    "\t\tdic2[x] = y ** 2\n",
    "print(dic2)"
   ],
   "outputs": [
    {
     "output_type": "stream",
     "name": "stdout",
     "text": [
      "{0: 0, 2: 4, 4: 16, 6: 36, 8: 64}\n"
     ]
    }
   ],
   "metadata": {}
  },
  {
   "cell_type": "code",
   "execution_count": 52,
   "source": [
    "\n",
    "# 예시2 (dictionary comprehension)\n",
    "dic_ex1 = {1 : 'NaN', 2:2, 3:4, 4:'NaN'}\n",
    "dic_ex2 = {x:y for x,y in dic_ex1.items() if y != 'NaN'}\n",
    "\n",
    "print(dic_ex1)\n",
    "print(dic_ex2)"
   ],
   "outputs": [
    {
     "output_type": "stream",
     "name": "stdout",
     "text": [
      "{1: 'NaN', 2: 2, 3: 4, 4: 'NaN'}\n",
      "{2: 2, 3: 4}\n"
     ]
    }
   ],
   "metadata": {}
  },
  {
   "cell_type": "markdown",
   "source": [
    "- - -\n",
    "- - -\n",
    "# Numpy의 데이터 구조"
   ],
   "metadata": {}
  },
  {
   "cell_type": "markdown",
   "source": [
    "- - -\n",
    "- - -\n",
    "# Pandas의 데이터 구조"
   ],
   "metadata": {}
  }
 ],
 "metadata": {
  "orig_nbformat": 4,
  "language_info": {
   "name": "python",
   "version": "3.7.3",
   "mimetype": "text/x-python",
   "codemirror_mode": {
    "name": "ipython",
    "version": 3
   },
   "pygments_lexer": "ipython3",
   "nbconvert_exporter": "python",
   "file_extension": ".py"
  },
  "kernelspec": {
   "name": "python3",
   "display_name": "Python 3.7.3 64-bit ('anaconda3': conda)"
  },
  "interpreter": {
   "hash": "50784419fe898108f44419d7095efdb0a1ba7abb2a978f5ac080977cb6168522"
  }
 },
 "nbformat": 4,
 "nbformat_minor": 2
}