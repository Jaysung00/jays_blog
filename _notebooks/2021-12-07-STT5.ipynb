{
 "cells": [
  {
   "cell_type": "markdown",
   "source": [
    "# 베이즈 정리\n",
    "\n",
    "- toc: true\n",
    "- badges: false\n",
    "- comments: true\n",
    "- author: Jay Sung\n",
    "- categories: [ ___  E. STATISTICS _____________ > 統計検定 準1級 개념정리]"
   ],
   "metadata": {}
  },
  {
   "cell_type": "markdown",
   "source": [
    "- - -\n",
    "- - -"
   ],
   "metadata": {}
  },
  {
   "cell_type": "markdown",
   "source": [
    "| 대분류 | 소분류 | 학습내용 |\n",
    "| - | - | - |\n",
    "| 확률과 확률변수 | 사건과 확률 | 베이즈 정리 |"
   ],
   "metadata": {}
  },
  {
   "cell_type": "markdown",
   "source": [
    "- - -\n",
    "# 베이즈 정리의 공식\n",
    "\n",
    "$$P(H|E) = \\cfrac{P(E|H)P(H)}{P(E)}$$\n",
    "\n",
    "- H : Hypothesis. 가설 혹은 '어떤 사건이 발생했다는 주장'\n",
    "- E : Evidence. '새로운 정보'\n",
    "\n",
    "$\\space$\n",
    "- P(H) : 어떤 사건이 발생했다는 주장에 관한 **신뢰도** -> 사전확률 (prior)\n",
    "- P(H|E) : 새로운 정보를 받은 후 **갱신된 신뢰도** -> 사후확률 (posterior)\n",
    "\n",
    "<br/>\n",
    "\n",
    "**베이즈 정리는 사전확률과 사후확률 간의 관계에 대해 설명하는 정리이다.**"
   ],
   "metadata": {}
  },
  {
   "cell_type": "markdown",
   "source": [
    "- - -\n",
    "# 베이즈 정리를 이해하기 어려웠던 이유\n",
    "\n",
    "'확률'에 대한 *관점의 변화*가 필요\n",
    "\n",
    "- 전통적인 관점 : 빈도주의 (frequentism)\n",
    "- 새로운 관점 : 베이지안 주의 (Bayesianism)\n",
    "\t- **'확률'을 '주장'에 대한 '신뢰도'로 해석하는 관점**\n",
    "\n",
    "<br/>\n",
    "\n",
    "- 동전의 앞면이 나올 확률이 50%다\n",
    "\t- 빈도주의 : 100번 동전을 던졌을 때 50번은 앞면이 나온다.\n",
    "\t- 베이지안 주의 : 동전이 앞면이 나왔다는 주장의 신뢰도가 50%다."
   ],
   "metadata": {}
  },
  {
   "cell_type": "markdown",
   "source": [
    "- - -\n",
    "# 확률론 패러다임의 전환 : 연역적 추론에서 귀납적 추론으로\n",
    "\n",
    "- 베이즈 정리는 통계학의 패러다임을 전환시킴\n",
    "\n",
    "<br/>\n",
    "\n",
    "- 기존의 통계학 : 빈도주의 (frequentism)\n",
    "\t- 연역적 사고의 기반\n",
    "\t- 확률계산, 유의성 검정\n",
    "\t- 엄격한 확률 공간 정의하거나 집단의 분포를 정의하고 파생결과물을 수용\n",
    "\n",
    "<br/>\n",
    "\n",
    "- 새로운 통계학 : 베이지안 주의 (Bayesianism)\n",
    "\t- 경험에 기반한 선형적인, 혹은 불확실성을 내포하는 수치를 기반으로 함\n",
    "\t- 추가되는 정보를 바탕으로 사전확률을 갱신\n",
    "\t- 귀납적 추론 방법\n",
    "\t- 추가 근거 확보를 통해 진리로 더 다가갈 수 있다는 철학을 내포"
   ],
   "metadata": {}
  },
  {
   "cell_type": "markdown",
   "source": [
    "- - -\n",
    "# 베이즈 정리의 확장\n",
    "\n",
    "만약 표본공간 $\\Omega$가 배반인 사건 $A_1, \\cdots, A_k$의 합으로 이루어 진 경우,\n",
    "\n",
    "$$ A_i \\cap A_j = \\emptyset$$\n",
    "$$ A_1 \\cup \\cdots \\cup A_k = \\Omega$$\n",
    "\n",
    "전체 확률의 법칙을 이용하여 다음과 같이 베이즈 정리를 확장할 수 있다.\n",
    "\n",
    "$$\\begin{aligned} P(A_i|B) &= \\cfrac {P(B|A_i)P(A_i)}{P(B)}\\\\\n",
    "&= \\cfrac {P(B|A_i)P(A_i)}{\\sum_{j=1}^{k} P(A_i,B)}\\\\\n",
    "&= \\cfrac {P(B|A_i)P(A_i)}{\\sum_{j=1}^{k} P(B|A_i)P(A_i)}\\\\\n",
    "\\end{aligned}$$\n",
    "\n",
    "이 식은 멀티 클래스 분류 문제에서 베이즈 정리가 어떻게 사용되는지를 보여준다.\n",
    "멀티 클래스 분류 문제는 여러 배타적이고 완전한 사건 중에 가장 확률이 높은 하나의 사건을 고르는 문제이다.\n",
    "\n"
   ],
   "metadata": {}
  }
 ],
 "metadata": {
  "orig_nbformat": 4,
  "language_info": {
   "name": "python",
   "version": "3.7.3",
   "mimetype": "text/x-python",
   "codemirror_mode": {
    "name": "ipython",
    "version": 3
   },
   "pygments_lexer": "ipython3",
   "nbconvert_exporter": "python",
   "file_extension": ".py"
  },
  "kernelspec": {
   "name": "python3",
   "display_name": "Python 3.7.3 64-bit ('anaconda3': conda)"
  },
  "interpreter": {
   "hash": "50784419fe898108f44419d7095efdb0a1ba7abb2a978f5ac080977cb6168522"
  }
 },
 "nbformat": 4,
 "nbformat_minor": 2
}