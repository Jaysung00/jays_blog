{
 "cells": [
  {
   "cell_type": "markdown",
   "source": [
    "# Today I Learned 211103\n",
    "\n",
    "- toc: false\n",
    "- badges: false\n",
    "- comments: true\n",
    "- author: Jay Sung\n",
    "- categories: [*TIL]\n"
   ],
   "metadata": {}
  },
  {
   "cell_type": "markdown",
   "source": [
    "- - -\n",
    "- - -\n",
    "\n",
    "## _프로그래밍을 위한 기초 상식 CPU와 RAM_"
   ],
   "metadata": {}
  },
  {
   "cell_type": "markdown",
   "source": [
    "- 키보드, 마우스, 모니터 등 => 입출력 장치\n",
    "- 컴퓨터 본체 (시스템) => CPU / 주기억 장치 / 보조기억장치 로 구성"
   ],
   "metadata": {}
  },
  {
   "cell_type": "markdown",
   "source": [
    "#### * CPU(Central Processing Unit)[중앙처리 장치] : 명령처리, 컴퓨터에서 가장 중요\n",
    "\n",
    "#### * RAM(Random Access Memory)[주기억 장치] : 사용자가 자유롭게 내용을 읽고 쓰고 지울 수 있는 기억장치\n",
    "\n",
    "#### * HDD(Hard Disk Drive) ・ SSD(Solid State Drive) 등 [보조기억 장치] : 보조이므로 없어도 동작하긴 하는 기억 장치\n"
   ],
   "metadata": {}
  },
  {
   "cell_type": "markdown",
   "source": [
    "- - -\n",
    "## _RAM에 대한 추가설명_\n",
    "\n",
    "#\n",
    "- 메모리는 구역별로 Stack, Heap, Data 등으로 분류해서 처리한다.\n",
    "- 전원 공급을 끊어버리면, 메모리에 저장된 내용은 휘발성으로 사라져버린다.\n",
    "- 나중에 쓰기 위해 저장하는 공간은, *보조기억장치*"
   ],
   "metadata": {}
  },
  {
   "cell_type": "markdown",
   "source": [
    "- - -\n",
    "## I/O (input / output)\n",
    "\n",
    "- 하드디스크, 웹에서 파일, 키보드에서의 표준입력등이 시스템으로 들어오는 것을 **INPUT**이라고 한다.\n",
    "- 시스템에서 모니터나 파일 등으로 내보내는 것을 **OUTPUT**이라고 한다."
   ],
   "metadata": {}
  },
  {
   "cell_type": "markdown",
   "source": [
    "- - -\n",
    "- - -"
   ],
   "metadata": {}
  },
  {
   "cell_type": "markdown",
   "source": [
    "- - -\n",
    "## 가변 인수 (*args)"
   ],
   "metadata": {}
  },
  {
   "cell_type": "code",
   "execution_count": 7,
   "source": [
    "\n",
    "# 키워드 인수 ; 가변적인 인수를 언패킹해서 전달하는 방법\n",
    "\n",
    "def plus(x,y,z):\n",
    "\treturn x+y+z\n",
    "\n",
    "a = plus(1,2,3)\n",
    "print(\"normal arguments =>\", a)\n",
    "\n",
    "num_list = [1,2,3]\n",
    "b = plus(*num_list)  #리스트의 개별 값을 전달하기 위해서는 *(아스터리스크)를 붙인다.\n",
    "print(\"list arguments =>\", b)"
   ],
   "outputs": [
    {
     "output_type": "stream",
     "name": "stdout",
     "text": [
      "normal arguments => 6\n",
      "list arguments => 6\n",
      " y =  (1, 2, 3, 4) || *y =  1 2 3 4\n"
     ]
    }
   ],
   "metadata": {}
  },
  {
   "cell_type": "code",
   "execution_count": 8,
   "source": [
    "def plus2(*y):\n",
    "\tprint(\" y = \", y, \"|| *y = \", *y)\n",
    "\n",
    "plus2(1,2,3,4)"
   ],
   "outputs": [
    {
     "output_type": "stream",
     "name": "stdout",
     "text": [
      " y =  (1, 2, 3, 4) || *y =  1 2 3 4\n"
     ]
    }
   ],
   "metadata": {}
  },
  {
   "cell_type": "code",
   "execution_count": 13,
   "source": [
    "def plus3(x, *y):\n",
    "\tnumber = x\n",
    "\tfor i in range(x):\n",
    "\t\tprint(\"x[\", i, \"] = \", y[i])\n",
    "\n",
    "k = [40, 60, 50, 23, 100, 213]\n",
    "\n",
    "plus3(len(k), *k) # x는 고정, 그 뒤에는 전부 패킹되어서 튜플로 받음\n"
   ],
   "outputs": [
    {
     "output_type": "stream",
     "name": "stdout",
     "text": [
      "x[ 0 ] =  40\n",
      "x[ 1 ] =  60\n",
      "x[ 2 ] =  50\n",
      "x[ 3 ] =  23\n",
      "x[ 4 ] =  100\n",
      "x[ 5 ] =  213\n"
     ]
    }
   ],
   "metadata": {}
  },
  {
   "cell_type": "markdown",
   "source": [
    "- - -\n",
    "## 키워드 가변인수 (**kwargs)"
   ],
   "metadata": {}
  },
  {
   "cell_type": "code",
   "execution_count": 16,
   "source": [
    "\n",
    "# 사전형 예\n",
    "\n",
    "d1 = {\"이름\" : \"박철수\", \"나이\" : 20, \"직업\":\"학생\"}\n",
    "d2 = {\"yellow\":\"노랑\", \"red\" :\"빨강\", \"black\" :\"검정\"}\n",
    "\n",
    "print(\"---items---\")\n",
    "print(d1.items())\n",
    "print(d2.items())\n",
    "\n",
    "print(\"---keys---\")\n",
    "print(d1.keys())\n",
    "print(d2.keys())\n",
    "\n",
    "print(\"---values---\")\n",
    "print(d1.values())\n",
    "print(d2.values())"
   ],
   "outputs": [
    {
     "output_type": "stream",
     "name": "stdout",
     "text": [
      "---items---\n",
      "dict_items([('이름', '박철수'), ('나이', 20), ('직업', '학생')])\n",
      "dict_items([('yellow', '노랑'), ('red', '빨강'), ('black', '검정')])\n",
      "---keys---\n",
      "dict_keys(['이름', '나이', '직업'])\n",
      "dict_keys(['yellow', 'red', 'black'])\n",
      "---values---\n",
      "dict_values(['박철수', 20, '학생'])\n",
      "dict_values(['노랑', '빨강', '검정'])\n"
     ]
    }
   ],
   "metadata": {}
  },
  {
   "cell_type": "code",
   "execution_count": 21,
   "source": [
    "\n",
    "def Disp(**y):  ## 사전형 앞에는 ** 두개를 붙여야 한다.\n",
    "\tfor i, j in y.items():\n",
    "\t\tprint(i, \" ==> \", j)\n",
    "\n",
    "Disp(**d1)\n",
    "Disp(**d2)\n"
   ],
   "outputs": [
    {
     "output_type": "stream",
     "name": "stdout",
     "text": [
      "이름  ==>  박철수\n",
      "나이  ==>  20\n",
      "직업  ==>  학생\n",
      "yellow  ==>  노랑\n",
      "red  ==>  빨강\n",
      "black  ==>  검정\n"
     ]
    }
   ],
   "metadata": {}
  }
 ],
 "metadata": {
  "orig_nbformat": 4,
  "language_info": {
   "name": "python",
   "version": "3.7.3",
   "mimetype": "text/x-python",
   "codemirror_mode": {
    "name": "ipython",
    "version": 3
   },
   "pygments_lexer": "ipython3",
   "nbconvert_exporter": "python",
   "file_extension": ".py"
  },
  "kernelspec": {
   "name": "python3",
   "display_name": "Python 3.7.3 64-bit ('anaconda3': conda)"
  },
  "interpreter": {
   "hash": "50784419fe898108f44419d7095efdb0a1ba7abb2a978f5ac080977cb6168522"
  }
 },
 "nbformat": 4,
 "nbformat_minor": 2
}