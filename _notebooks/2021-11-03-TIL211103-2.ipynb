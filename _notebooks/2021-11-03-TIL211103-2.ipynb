{
 "cells": [
  {
   "cell_type": "markdown",
   "source": [
    "# Today I Learned 211103-(2)\n",
    "\n",
    "- toc: false\n",
    "- badges: false\n",
    "- comments: true\n",
    "- author: Jay Sung\n",
    "- categories: [TIL]\n"
   ],
   "metadata": {}
  },
  {
   "cell_type": "markdown",
   "source": [
    "- - -\n",
    "\n",
    "## _프로그래밍을 위한 기초 상식 CPU와 RAM_"
   ],
   "metadata": {}
  },
  {
   "cell_type": "markdown",
   "source": [
    "- 키보드, 마우스, 모니터 등 => 입출력 장치\n",
    "- 컴퓨터 본체 (시스템) => CPU / 주기억 장치 / 보조기억장치 로 구성"
   ],
   "metadata": {}
  },
  {
   "cell_type": "markdown",
   "source": [
    "#### * CPU(Central Processing Unit)[중앙처리 장치] : 명령처리, 컴퓨터에서 가장 중요\n",
    "\n",
    "#### * RAM(Random Access Memory)[주기억 장치] : 사용자가 자유롭게 내용을 읽고 쓰고 지울 수 있는 기억장치\n",
    "\n",
    "#### * HDD(Hard Disk Drive) ・ SSD(Solid State Drive) 등 [보조기억 장치] : 보조이므로 없어도 동작하긴 하는 기억 장치\n"
   ],
   "metadata": {}
  },
  {
   "cell_type": "markdown",
   "source": [
    "- - -\n",
    "## _RAM에 대한 추가설명_\n",
    "\n",
    "#\n",
    "- 메모리는 구역별로 Stack, Heap, Data 등으로 분류해서 처리한다.\n",
    "- 전원 공급을 끊어버리면, 메모리에 저장된 내용은 휘발성으로 사라져버린다.\n",
    "- 나중에 쓰기 위해 저장하는 공간은, *보조기억장치*"
   ],
   "metadata": {}
  },
  {
   "cell_type": "markdown",
   "source": [
    "- - -\n",
    "## I/O (input / output)\n",
    "\n",
    "- 하드디스크, 웹에서 파일, 키보드에서의 표준입력등이 시스템으로 들어오는 것을 **INPUT**이라고 한다.\n",
    "- 시스템에서 모니터나 파일 등으로 내보내는 것을 **OUTPUT**이라고 한다."
   ],
   "metadata": {}
  }
 ],
 "metadata": {
  "orig_nbformat": 4,
  "language_info": {
   "name": "python",
   "version": "3.7.3",
   "mimetype": "text/x-python",
   "codemirror_mode": {
    "name": "ipython",
    "version": 3
   },
   "pygments_lexer": "ipython3",
   "nbconvert_exporter": "python",
   "file_extension": ".py"
  },
  "kernelspec": {
   "name": "python3",
   "display_name": "Python 3.7.3 64-bit ('anaconda3': conda)"
  },
  "interpreter": {
   "hash": "50784419fe898108f44419d7095efdb0a1ba7abb2a978f5ac080977cb6168522"
  }
 },
 "nbformat": 4,
 "nbformat_minor": 2
}