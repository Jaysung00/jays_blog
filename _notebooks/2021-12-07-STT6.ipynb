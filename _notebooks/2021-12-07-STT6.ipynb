{
 "cells": [
  {
   "cell_type": "markdown",
   "source": [
    "# 생존함수와 위험함수\n",
    "\n",
    "- toc: true\n",
    "- badges: false\n",
    "- comments: true\n",
    "- author: Jay Sung\n",
    "- categories: [ ___  E. STATISTICS _____________ > 統計検定 準1級 개념정리]"
   ],
   "metadata": {}
  },
  {
   "cell_type": "markdown",
   "source": [
    "- - -\n",
    "- - -"
   ],
   "metadata": {}
  },
  {
   "cell_type": "markdown",
   "source": [
    "| 대분류 | 소분류 | 학습내용 |\n",
    "| - | - | - |\n",
    "| 확률과 확률변수 | 확률분포와 모함수 | 생존함수 |"
   ],
   "metadata": {}
  },
  {
   "cell_type": "markdown",
   "source": [
    "- - -\n",
    "# 생존함수\n",
    "\n",
    "생존 함수(survival function 또는 suvivor function) S(t)는 생존 시간 T가 특정 시간 t 보다 클 확률을 가리킨다. T의 cdf를 F(t)라고 하면 다음 관계가 성립한다.\n",
    "\n",
    "$$S(t)=P(T>t)=1−F(t)$$\n",
    "생존 함수 S(t)는 t 시점에서 살아있을 또는 t 시점까지 살아남을 확률이다. 이때 t 시점까지 살아남는다는 것은 t 시점까지만 살고 바로 그때 죽는다는 뜻이 아니다. t 시점 이후에 죽는다는 뜻이다. 더 일반적으로 말로 표현하면 t 시점까지 관심 사건이 일어나지 않을 확률이다."
   ],
   "metadata": {}
  },
  {
   "cell_type": "markdown",
   "source": [
    "- - -\n",
    "\n",
    "# 위험 함수\n",
    "\n",
    "위험 함수(hazard function) h(t)는 주어진 시간 t에서 단위 시간 당 사건 발생율이다.\n",
    "\n",
    "$$h(t)=lim_{\\Delta t→0} \\cfrac{P(t\\leq T<t+\\Delta t\\space|T\\geq t)}{\\Delta t}$$\n",
    "\n",
    "사건이 일어날 순간 가능성(instantaneous potential)이라고도 할 수 있다. 위험 함수를 조건부 실패율(conditional failure rate)라고도 한다."
   ],
   "metadata": {}
  },
  {
   "cell_type": "markdown",
   "source": [
    "- - -\n",
    "# 생존함수와 위험함수 사이의 관계\n",
    "\n",
    "생존 함수 $S(t)=P(T>t)$와 생존 시간 $T$의 cdf인 $F(t)$사이에는\n",
    "$$S(t)=1−F(t)$$\n",
    "관계가 성립하므로 양변을 $t$에 관해 미분하면\n",
    "$$\\cfrac{d}{dt}S(t)=−f(t)$$\n",
    "와 같은 관계를 얻을 수 있다. 여기에서 $f(t)$는 $T$의 pdf이다.\n",
    "\n",
    "위험 함수 $h(t)$의 정의를 따라 식을 바꾸어 보면\n",
    "\n",
    "$$\\begin{aligned}\n",
    "h(t)\n",
    "&=lim_{\\Delta t→0} \\cfrac {P(t\\leq T<t+ \\Delta t|T\\geq t)}{\\Delta t}\\\\\n",
    "&=lim_{\\Delta t→0} \\cfrac {P(t\\leq T<t+ \\Delta t)}{P(T\\geq t)} \\cfrac{1} {\\Delta t} \\\\\n",
    "&=\\cfrac{1}{P(T\\geq t)} lim_{\\Delta t→0} \\cfrac {P(t\\leq T<t+ \\Delta t)} {\\Delta t} \\\\\n",
    "&=\\cfrac{1}{P(T\\geq t)} f(t) \\\\\n",
    "&=\\cfrac{f(t)}{S(t)} \\\\\n",
    "&=−\\cfrac{d}{dt}lnS(t)\n",
    "\\end{aligned}$$"
   ],
   "metadata": {}
  }
 ],
 "metadata": {
  "orig_nbformat": 4,
  "language_info": {
   "name": "python",
   "version": "3.7.3",
   "mimetype": "text/x-python",
   "codemirror_mode": {
    "name": "ipython",
    "version": 3
   },
   "pygments_lexer": "ipython3",
   "nbconvert_exporter": "python",
   "file_extension": ".py"
  },
  "kernelspec": {
   "name": "python3",
   "display_name": "Python 3.7.3 64-bit ('anaconda3': conda)"
  },
  "interpreter": {
   "hash": "50784419fe898108f44419d7095efdb0a1ba7abb2a978f5ac080977cb6168522"
  }
 },
 "nbformat": 4,
 "nbformat_minor": 2
}