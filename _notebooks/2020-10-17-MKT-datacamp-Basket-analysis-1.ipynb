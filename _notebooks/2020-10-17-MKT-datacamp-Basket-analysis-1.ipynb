{
 "cells": [
  {
   "cell_type": "markdown",
   "source": [
    "# Market Basket Analysis in Python ①\n",
    "> [Market Basket Analysis in Python ①Introduction to Market Basket Analysis](https://learn.datacamp.com/courses/market-basket-analysis-in-python) まとめ, via Datacamp\n",
    "\n",
    "- toc: true\n",
    "- badges: false\n",
    "- comments: true\n",
    "- author: Jay Sung\n",
    "- categories: [ ___  D. MARKETING ____________ > Datacamp Class]\n",
    "- image: images/basket.png"
   ],
   "metadata": {}
  },
  {
   "cell_type": "markdown",
   "source": [
    "- - -\n",
    "\n",
    "## バスケット分析とは？\n",
    "\n",
    "バスケット分析によって以下のようなことができる。  \n",
    "\n",
    "### 1. 併売分析  \n",
    "一回の買い物でよく一緒に買われるものは何か？\n",
    "\n",
    "### 2. 併売分析に基づいて有用な推奨事項の提供\n",
    "e.g.   \n",
    "・棚の近くに置くべき商品カテゴリー  \n",
    "・棚の遠くに置くべき商品カテゴリー など\n"
   ],
   "metadata": {}
  },
  {
   "cell_type": "markdown",
   "source": [
    "- - -\n",
    "\n",
    "## バスケット分析の使用例\n",
    "\n",
    "e.g.  \n",
    "・Netflixスタイルの推奨エンジン  \n",
    "・eコマースにおける商品推奨の改善  \n",
    "・小売店でのクロスセル（Cross-sell$^{[*1]}$）製品  \n",
    "・在庫管理の改善  \n",
    "・アップセル（Up-sell$^{[*2]}$）するアイテム選択　など\n",
    "\n",
    "<br>  \n",
    "\n",
    "<span style=\"font-size: 85%\"> \n",
    "    $^{[*1]}$ Cross-sell :  顧客が購買する、あるいはすでに利用している製品・サービスに関連するものを販売していくこと  \n",
    "    $^{[*2]}$ Up-sell : 顧客が検討しているものよりランクの高い製品・サービスの販売をすること\n",
    "\n",
    "</span> "
   ],
   "metadata": {}
  },
  {
   "cell_type": "markdown",
   "source": [
    "- - -\n",
    "\n",
    "## バスケット分析の方法\n",
    "\n",
    " **Association Rule** によって構成される\n",
    "\n",
    "・{A} $\\rightarrow$ {B}\n",
    "\n",
    "「Aを買うと、Bを買う」という意味\n",
    "- - -\n",
    "\n",
    "## (実装) クロルセル製品選択\n",
    "\n",
    "小売店ではガムをコーヒーかシリアルかパンかどれかとクロスセルしようとしている。  \n",
    "\n",
    "・{coffee} $\\rightarrow$ {gum}  \n",
    "・{cereal} $\\rightarrow$ {gum}  \n",
    "・{bread} $\\rightarrow$ {gum}  のうち、最も関係性が強いものを選びたい。  \n",
    "\n",
    "<br>  \n",
    "\n",
    "`transactions`は ['coffee','gum'] & ['cereal','gum'] & ['bread','gum'] の３つのペアからなっている。"
   ],
   "metadata": {}
  },
  {
   "cell_type": "code",
   "execution_count": 1,
   "source": [
    "#\n",
    "# import & read data\n",
    "\n",
    "import matplotlib.pyplot as plt\n",
    "import pandas as pd\n",
    "import numpy as np\n",
    "\n",
    "transactions = pd.read_csv('./dataset/transactions.csv', header=None)\n",
    "\n",
    "transactions"
   ],
   "outputs": [
    {
     "output_type": "execute_result",
     "data": {
      "text/plain": [
       "         0    1\n",
       "0    bread  gum\n",
       "1    bread  gum\n",
       "2   cereal  gum\n",
       "3   coffee  gum\n",
       "4    bread  gum\n",
       "..     ...  ...\n",
       "80   bread  gum\n",
       "81  coffee  gum\n",
       "82   bread  gum\n",
       "83  coffee  gum\n",
       "84  coffee  gum\n",
       "\n",
       "[85 rows x 2 columns]"
      ],
      "text/html": [
       "<div>\n",
       "<style scoped>\n",
       "    .dataframe tbody tr th:only-of-type {\n",
       "        vertical-align: middle;\n",
       "    }\n",
       "\n",
       "    .dataframe tbody tr th {\n",
       "        vertical-align: top;\n",
       "    }\n",
       "\n",
       "    .dataframe thead th {\n",
       "        text-align: right;\n",
       "    }\n",
       "</style>\n",
       "<table border=\"1\" class=\"dataframe\">\n",
       "  <thead>\n",
       "    <tr style=\"text-align: right;\">\n",
       "      <th></th>\n",
       "      <th>0</th>\n",
       "      <th>1</th>\n",
       "    </tr>\n",
       "  </thead>\n",
       "  <tbody>\n",
       "    <tr>\n",
       "      <th>0</th>\n",
       "      <td>bread</td>\n",
       "      <td>gum</td>\n",
       "    </tr>\n",
       "    <tr>\n",
       "      <th>1</th>\n",
       "      <td>bread</td>\n",
       "      <td>gum</td>\n",
       "    </tr>\n",
       "    <tr>\n",
       "      <th>2</th>\n",
       "      <td>cereal</td>\n",
       "      <td>gum</td>\n",
       "    </tr>\n",
       "    <tr>\n",
       "      <th>3</th>\n",
       "      <td>coffee</td>\n",
       "      <td>gum</td>\n",
       "    </tr>\n",
       "    <tr>\n",
       "      <th>4</th>\n",
       "      <td>bread</td>\n",
       "      <td>gum</td>\n",
       "    </tr>\n",
       "    <tr>\n",
       "      <th>...</th>\n",
       "      <td>...</td>\n",
       "      <td>...</td>\n",
       "    </tr>\n",
       "    <tr>\n",
       "      <th>80</th>\n",
       "      <td>bread</td>\n",
       "      <td>gum</td>\n",
       "    </tr>\n",
       "    <tr>\n",
       "      <th>81</th>\n",
       "      <td>coffee</td>\n",
       "      <td>gum</td>\n",
       "    </tr>\n",
       "    <tr>\n",
       "      <th>82</th>\n",
       "      <td>bread</td>\n",
       "      <td>gum</td>\n",
       "    </tr>\n",
       "    <tr>\n",
       "      <th>83</th>\n",
       "      <td>coffee</td>\n",
       "      <td>gum</td>\n",
       "    </tr>\n",
       "    <tr>\n",
       "      <th>84</th>\n",
       "      <td>coffee</td>\n",
       "      <td>gum</td>\n",
       "    </tr>\n",
       "  </tbody>\n",
       "</table>\n",
       "<p>85 rows × 2 columns</p>\n",
       "</div>"
      ]
     },
     "metadata": {},
     "execution_count": 1
    }
   ],
   "metadata": {}
  },
  {
   "cell_type": "markdown",
   "source": [
    "各ペアの数をカウントする"
   ],
   "metadata": {}
  },
  {
   "cell_type": "code",
   "execution_count": 2,
   "source": [
    "#\n",
    "# Count the number of transactions with coffee and gum\n",
    "coffee = transactions[(transactions[0] == 'coffee') & (transactions[1] == 'gum')]\n",
    "\n",
    "# Count the number of transactions with cereal and gum\n",
    "cereal = transactions[(transactions[0] == 'cereal') & (transactions[1] == 'gum')]\n",
    "\n",
    "# Count the number of transactions with bread and gum\n",
    "bread = transactions[(transactions[0] == 'bread') & (transactions[1] == 'gum')]\n",
    "\n",
    "# Print the counts for each transaction.\n",
    "print('coffee:', len(coffee))\n",
    "print('cereal:', len(cereal))\n",
    "print('bread:', len(bread))"
   ],
   "outputs": [
    {
     "output_type": "stream",
     "name": "stdout",
     "text": [
      "coffee: 40\n",
      "cereal: 25\n",
      "bread: 20\n"
     ]
    }
   ],
   "metadata": {}
  },
  {
   "cell_type": "markdown",
   "source": [
    "- - -\n",
    "\n",
    "## Association Rulesの全ての候補を確認する\n",
    "\n",
    "### データの準備\n",
    "\n",
    "小売店の併売データを読み込む"
   ],
   "metadata": {}
  },
  {
   "cell_type": "code",
   "execution_count": 3,
   "source": [
    "#\n",
    "# Load transactions from pandas\n",
    "groceries = pd.read_csv('./dataset/small_grocery_store.csv')\n",
    "\n",
    "# Split transaction strings into lists\n",
    "transactions = groceries['Transaction'].apply(lambda t: t.split(','))\n",
    "\n",
    "# Convert DataFrame column into list of strings\n",
    "transactions = list(transactions)\n",
    "\n",
    "# Print the list of transactions\n",
    "print(transactions)"
   ],
   "outputs": [
    {
     "output_type": "stream",
     "name": "stdout",
     "text": [
      "[['milk', 'bread', 'biscuit'], ['bread', 'milk', 'biscuit', 'cereal'], ['bread', 'tea'], ['jam', 'bread', 'milk'], ['tea', 'biscuit'], ['bread', 'tea'], ['tea', 'cereal'], ['bread', 'tea', 'biscuit'], ['jam', 'bread', 'tea'], ['bread', 'milk'], ['coffee', 'orange', 'biscuit', 'cereal'], ['coffee', 'orange', 'biscuit', 'cereal'], ['coffee', 'sugar'], ['bread', 'coffee', 'orange'], ['bread', 'sugar', 'biscuit'], ['coffee', 'sugar', 'cereal'], ['bread', 'sugar', 'biscuit'], ['bread', 'coffee', 'sugar'], ['bread', 'coffee', 'sugar'], ['tea', 'milk', 'coffee', 'cereal']]\n"
     ]
    }
   ],
   "metadata": {}
  },
  {
   "cell_type": "markdown",
   "source": [
    "### Association rulesの生成\n",
    "\n",
    "９つの食料品のリストを抽出し、すべての可能な単独原因単独結果の組み合わせ（Association rules）をitertoolsを使って生成する"
   ],
   "metadata": {}
  },
  {
   "cell_type": "code",
   "execution_count": 4,
   "source": [
    "#\n",
    "# Import permutations from the itertools module\n",
    "from itertools import permutations\n",
    "\n",
    "# Define the set of groceries\n",
    "flattened = [i for t in transactions for i in t]\n",
    "groceries = list(set(flattened))\n",
    "\n",
    "# Generate all possible rules\n",
    "rules = list(permutations(groceries, 2))\n",
    "\n",
    "# Print the set of rules\n",
    "print(rules)\n",
    "\n",
    "# Print the number of rules\n",
    "print('\\n')\n",
    "print(len(rules),\"通り\")"
   ],
   "outputs": [
    {
     "output_type": "stream",
     "name": "stdout",
     "text": [
      "[('jam', 'cereal'), ('jam', 'sugar'), ('jam', 'tea'), ('jam', 'orange'), ('jam', 'bread'), ('jam', 'milk'), ('jam', 'coffee'), ('jam', 'biscuit'), ('cereal', 'jam'), ('cereal', 'sugar'), ('cereal', 'tea'), ('cereal', 'orange'), ('cereal', 'bread'), ('cereal', 'milk'), ('cereal', 'coffee'), ('cereal', 'biscuit'), ('sugar', 'jam'), ('sugar', 'cereal'), ('sugar', 'tea'), ('sugar', 'orange'), ('sugar', 'bread'), ('sugar', 'milk'), ('sugar', 'coffee'), ('sugar', 'biscuit'), ('tea', 'jam'), ('tea', 'cereal'), ('tea', 'sugar'), ('tea', 'orange'), ('tea', 'bread'), ('tea', 'milk'), ('tea', 'coffee'), ('tea', 'biscuit'), ('orange', 'jam'), ('orange', 'cereal'), ('orange', 'sugar'), ('orange', 'tea'), ('orange', 'bread'), ('orange', 'milk'), ('orange', 'coffee'), ('orange', 'biscuit'), ('bread', 'jam'), ('bread', 'cereal'), ('bread', 'sugar'), ('bread', 'tea'), ('bread', 'orange'), ('bread', 'milk'), ('bread', 'coffee'), ('bread', 'biscuit'), ('milk', 'jam'), ('milk', 'cereal'), ('milk', 'sugar'), ('milk', 'tea'), ('milk', 'orange'), ('milk', 'bread'), ('milk', 'coffee'), ('milk', 'biscuit'), ('coffee', 'jam'), ('coffee', 'cereal'), ('coffee', 'sugar'), ('coffee', 'tea'), ('coffee', 'orange'), ('coffee', 'bread'), ('coffee', 'milk'), ('coffee', 'biscuit'), ('biscuit', 'jam'), ('biscuit', 'cereal'), ('biscuit', 'sugar'), ('biscuit', 'tea'), ('biscuit', 'orange'), ('biscuit', 'bread'), ('biscuit', 'milk'), ('biscuit', 'coffee')]\n",
      "\n",
      "\n",
      "72 通り\n"
     ]
    }
   ],
   "metadata": {}
  },
  {
   "cell_type": "markdown",
   "source": [
    "- - -\n",
    "\n",
    "## Metric & Pruning\n",
    "\n",
    "全ての可能な組み合わせを候補として置くのは、かなり時間とコストがかかる。  \n",
    "そのため、有用な規則だけに絞りたい。  → **Metric & Pruning Process**  \n",
    "\n",
    "\n",
    "\n",
    "①**Metric** : Association rulesにスコアを割り当て\n",
    "\n",
    "②**Pruning** : 特定の基準に従い、基準に満たさないRulesを放棄する\n",
    "\n",
    "### One-hot encoding transaction data"
   ],
   "metadata": {}
  },
  {
   "cell_type": "code",
   "execution_count": 6,
   "source": [
    "#\n",
    "# Import the transaction encoder function from mlxtend\n",
    "from mlxtend.preprocessing import TransactionEncoder\n",
    "\n",
    "# Instantiate transaction encoder and identify unique items\n",
    "encoder = TransactionEncoder().fit(transactions)\n",
    "\n",
    "# One-hot encode transactions\n",
    "onehot = encoder.transform(transactions)\n",
    "\n",
    "# Convert one-hot encoded data to DataFrame\n",
    "onehot = pd.DataFrame(onehot, columns = encoder.columns_)\n",
    "\n",
    "# Print the one-hot encoded transaction dataset\n",
    "print(onehot)"
   ],
   "outputs": [
    {
     "output_type": "stream",
     "name": "stdout",
     "text": [
      "    biscuit  bread  cereal  coffee    jam   milk  orange  sugar    tea\n",
      "0      True   True   False   False  False   True   False  False  False\n",
      "1      True   True    True   False  False   True   False  False  False\n",
      "2     False   True   False   False  False  False   False  False   True\n",
      "3     False   True   False   False   True   True   False  False  False\n",
      "4      True  False   False   False  False  False   False  False   True\n",
      "5     False   True   False   False  False  False   False  False   True\n",
      "6     False  False    True   False  False  False   False  False   True\n",
      "7      True   True   False   False  False  False   False  False   True\n",
      "8     False   True   False   False   True  False   False  False   True\n",
      "9     False   True   False   False  False   True   False  False  False\n",
      "10     True  False    True    True  False  False    True  False  False\n",
      "11     True  False    True    True  False  False    True  False  False\n",
      "12    False  False   False    True  False  False   False   True  False\n",
      "13    False   True   False    True  False  False    True  False  False\n",
      "14     True   True   False   False  False  False   False   True  False\n",
      "15    False  False    True    True  False  False   False   True  False\n",
      "16     True   True   False   False  False  False   False   True  False\n",
      "17    False   True   False    True  False  False   False   True  False\n",
      "18    False   True   False    True  False  False   False   True  False\n",
      "19    False  False    True    True  False   True   False  False   True\n"
     ]
    }
   ],
   "metadata": {}
  },
  {
   "cell_type": "code",
   "execution_count": 7,
   "source": [
    "#\n",
    "# Compute the support\n",
    "support = onehot.mean()\n",
    "\n",
    "# Print the support\n",
    "print(support)"
   ],
   "outputs": [
    {
     "output_type": "stream",
     "name": "stdout",
     "text": [
      "biscuit    0.40\n",
      "bread      0.65\n",
      "cereal     0.30\n",
      "coffee     0.40\n",
      "jam        0.10\n",
      "milk       0.25\n",
      "orange     0.15\n",
      "sugar      0.30\n",
      "tea        0.35\n",
      "dtype: float64\n"
     ]
    }
   ],
   "metadata": {}
  },
  {
   "cell_type": "code",
   "execution_count": 9,
   "source": [
    "#\n",
    "# Add a jam+bread column to the DataFrame onehot\n",
    "onehot['jam+bread'] = np.logical_and(onehot['jam'], onehot['bread'])\n",
    "\n",
    "# Compute the support\n",
    "support = onehot.mean()\n",
    "\n",
    "# Print the support values\n",
    "print(support)"
   ],
   "outputs": [
    {
     "output_type": "stream",
     "name": "stdout",
     "text": [
      "biscuit      0.40\n",
      "bread        0.65\n",
      "cereal       0.30\n",
      "coffee       0.40\n",
      "jam          0.10\n",
      "milk         0.25\n",
      "orange       0.15\n",
      "sugar        0.30\n",
      "tea          0.35\n",
      "jam+bread    0.10\n",
      "dtype: float64\n"
     ]
    }
   ],
   "metadata": {}
  },
  {
   "cell_type": "markdown",
   "source": [
    "<br>  \n",
    "\n",
    "\n",
    "**Additional Reference**  \n",
    "JMR生活総合研究所. アップセリング（Up-selling）、クロスセリング（Cross-selling）. *マーケティング用語集*. https://www.jmrlsi.co.jp/knowledge/yougo/my06/my0618.html\n",
    "\n",
    "\n",
    "\n",
    "- - -\n",
    "\n",
    "**このシリーズの別のポストを見るには**\n",
    "\n",
    "　　　[[Next >>]](https://jaysung00.github.io/jays_blog/datacamp/2021/02/09/Basket-analysis-2.html)\n",
    "   \n",
    "\n"
   ],
   "metadata": {}
  },
  {
   "cell_type": "code",
   "execution_count": null,
   "source": [],
   "outputs": [],
   "metadata": {}
  }
 ],
 "metadata": {
  "kernelspec": {
   "display_name": "Python 3",
   "language": "python",
   "name": "python3"
  },
  "language_info": {
   "codemirror_mode": {
    "name": "ipython",
    "version": 3
   },
   "file_extension": ".py",
   "mimetype": "text/x-python",
   "name": "python",
   "nbconvert_exporter": "python",
   "pygments_lexer": "ipython3",
   "version": "3.7.6"
  }
 },
 "nbformat": 4,
 "nbformat_minor": 4
}