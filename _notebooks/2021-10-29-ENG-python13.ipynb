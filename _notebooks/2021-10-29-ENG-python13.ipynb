{
 "cells": [
  {
   "cell_type": "markdown",
   "source": [
    "# 파이썬 예제13) 메뉴 리뉴얼\n",
    "> [Programmers > 2021 KAKAO BLIND RECRUITMENT > 메뉴 리뉴얼](https://programmers.co.kr/learn/courses/30/lessons/72411)\n",
    "\n",
    "- toc: false\n",
    "- badges: false\n",
    "- comments: true\n",
    "- author: Jay Sung\n",
    "- categories: [ ___  A. ENGINEERING __________ > PYTHON 문제풀이]"
   ],
   "metadata": {}
  },
  {
   "cell_type": "markdown",
   "source": [
    "- - -\n"
   ],
   "metadata": {}
  },
  {
   "cell_type": "code",
   "execution_count": 35,
   "source": [
    "\n",
    "# 내 시도\n",
    "\n",
    "\n",
    "orders = [\"XYZ\", \"XWY\", \"WXA\"]\n",
    "course = [2, 3, 4]\n",
    "\n",
    "from itertools import combinations\n",
    "from collections import defaultdict\n",
    "\n",
    "def solution(orders, course):\n",
    "\tanswer = []\n",
    "\tsol = []\n",
    "\tdic = defaultdict(int)\n",
    "\tmax_dic = defaultdict(int)\n",
    "\n",
    "\t# 모든 조합 별 등장 횟수 계산   => Counter로 처리할 수 있다.\n",
    "\tfor n in course:\n",
    "\t\tfor order in orders:\n",
    "\t\t\tfor i in list(combinations(order, n)):\n",
    "\t\t\t\tdic[tuple(sorted(i))] += 1\n",
    "\n",
    "\t# 코스 개수별 최대값 구하기 => Counter의 most_common() 메서드로 처리\n",
    "\tfor p in dic:\n",
    "\t\tif max_dic[len(p)] < dic[p]:\n",
    "\t\t\tmax_dic[len(p)] = dic[p]\n",
    "\n",
    "\t# 코스 개수별 최대값을 가진 코스만 answer에 넘기기\n",
    "\tanswer = list(filter(lambda x : (dic[x] != 1) and (dic[x] == max_dic[len(x)]), dic))\n",
    "\n",
    "\t# str으로 만들기\n",
    "\tfor i in answer:\n",
    "\t\tword = ''\n",
    "\t\tfor k in range(len(i)):\n",
    "\t\t\tword += i[k]\n",
    "\t\tsol.append(word)\n",
    "\t\n",
    "\tsol.sort()\n",
    "\treturn sol\n",
    "\n",
    "print(solution(orders, course))"
   ],
   "outputs": [
    {
     "output_type": "stream",
     "name": "stdout",
     "text": [
      "['WX', 'XY']\n"
     ]
    }
   ],
   "metadata": {}
  },
  {
   "cell_type": "code",
   "execution_count": 59,
   "source": [
    "\n",
    "# 다른사람 풀이\n",
    "\n",
    "# 평가 1 ; collections.Counter을 사용해서 보다 편리\n",
    "# 평가 2 ; Pythonic 하다.\n",
    "\n",
    "orders2 = [\"XYZ\", \"XWY\", \"WXA\"]\n",
    "course2 = [2, 3, 4]\n",
    "\n",
    "from itertools import combinations\n",
    "from collections import Counter\n",
    "\n",
    "def solution(orders, course):\n",
    "\tresult = []\n",
    "\n",
    "\tfor course_size in course:\n",
    "\t\torder_combinations = []\n",
    "\t\tfor order in orders:\n",
    "\t\t\torder_combinations += combinations(sorted(order), course_size)\n",
    "\n",
    "\t\tmost_ordered = Counter(order_combinations).most_common()\n",
    "\t\t## 코스 메뉴 개수별로 리스트 별도 작성해서 Counter.most_common()으로 요소를 세어, 최빈값 n개를 반환\n",
    "\n",
    "\t\tresult += [ k for k, v in most_ordered if v > 1 and v == most_ordered[0][1]]\n",
    "\t\t## 최댓값과 같은 놈들만 남기기\n",
    "\treturn [ ''.join(v) for v in sorted(result) ] \n",
    "\t# 1. 리스트를 정렬시키고, 2. 거기서 하나씩 for문 돌려서 3.''.join(v)으로 str화 한다.\n",
    "\n",
    "print(solution(orders2, course2))"
   ],
   "outputs": [
    {
     "output_type": "stream",
     "name": "stdout",
     "text": [
      "['WX', 'XY']\n"
     ]
    }
   ],
   "metadata": {}
  },
  {
   "cell_type": "markdown",
   "source": [
    "> ## ''.join()은 iterable을 str화 해준다.\n",
    "> ```list1 = ['H', 'e', 'l', 'l', 'o']```\n",
    "\n",
    "> ```print(''.join(list1))```\n",
    "\n",
    "> [Output] Hello"
   ],
   "metadata": {}
  }
 ],
 "metadata": {
  "orig_nbformat": 4,
  "language_info": {
   "name": "python",
   "version": "3.7.3",
   "mimetype": "text/x-python",
   "codemirror_mode": {
    "name": "ipython",
    "version": 3
   },
   "pygments_lexer": "ipython3",
   "nbconvert_exporter": "python",
   "file_extension": ".py"
  },
  "kernelspec": {
   "name": "python3",
   "display_name": "Python 3.7.3 64-bit ('anaconda3': conda)"
  },
  "interpreter": {
   "hash": "50784419fe898108f44419d7095efdb0a1ba7abb2a978f5ac080977cb6168522"
  }
 },
 "nbformat": 4,
 "nbformat_minor": 2
}